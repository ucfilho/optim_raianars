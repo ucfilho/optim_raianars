{
  "nbformat": 4,
  "nbformat_minor": 0,
  "metadata": {
    "colab": {
      "name": "ANN_parte_002_B_ajuste_ann_SET_11_2019.ipynb",
      "version": "0.3.2",
      "provenance": [],
      "collapsed_sections": [],
      "include_colab_link": true
    },
    "kernelspec": {
      "name": "python3",
      "display_name": "Python 3"
    }
  },
  "cells": [
    {
      "cell_type": "markdown",
      "metadata": {
        "id": "view-in-github",
        "colab_type": "text"
      },
      "source": [
        "<a href=\"https://colab.research.google.com/github/ucfilho/optim_raianars/blob/master/ANN_parte_002_B_ajuste_ann_SET_11_2019.ipynb\" target=\"_parent\"><img src=\"https://colab.research.google.com/assets/colab-badge.svg\" alt=\"Open In Colab\"/></a>"
      ]
    },
    {
      "cell_type": "code",
      "metadata": {
        "id": "IJMhyBoEZHIU",
        "colab_type": "code",
        "outputId": "1c109ac0-2821-42c3-f060-109daac9237f",
        "colab": {
          "base_uri": "https://localhost:8080/",
          "height": 105
        }
      },
      "source": [
        "import numpy as np\n",
        "import pandas as pd\n",
        "import matplotlib.pyplot as plt\n",
        "\n",
        "\n",
        "# este comando clona o diretorio github ucfilho/ANN no colaboratory research\n",
        "!git clone https://github.com/ucfilho/optim_raianars/ #clonar do Github\n",
        "%cd optim_raianars\n",
        "#!ls\n",
        "print(\"Hello world\"+\"\\n\"+\"I'm evolving!!!\"+\"\\n\")\n",
        "\n",
        "%matplotlib inline"
      ],
      "execution_count": 0,
      "outputs": [
        {
          "output_type": "stream",
          "text": [
            "fatal: destination path 'optim_raianars' already exists and is not an empty directory.\n",
            "/content/optim_raianars\n",
            "Hello world\n",
            "I'm evolving!!!\n",
            "\n"
          ],
          "name": "stdout"
        }
      ]
    },
    {
      "cell_type": "code",
      "metadata": {
        "id": "a88ItYhkmXM3",
        "colab_type": "code",
        "colab": {}
      },
      "source": [
        "X_NOME=['DI RELATIVO','FRAC Its','VELOC FOBJ',\n",
        "        'VELOC X','DELTA FOBJ','DELTA VX']\n",
        "Y_NOME=['NP','F','CR']"
      ],
      "execution_count": 0,
      "outputs": []
    },
    {
      "cell_type": "code",
      "metadata": {
        "id": "R2giiZKZcnTD",
        "colab_type": "code",
        "colab": {}
      },
      "source": [
        "ARQ_X='X_DAT_set_11_2019.csv'\n",
        "X=pd.read_csv(ARQ_X)\n",
        "X=X[X_NOME]\n",
        "#print(X.head())"
      ],
      "execution_count": 0,
      "outputs": []
    },
    {
      "cell_type": "code",
      "metadata": {
        "id": "nhn-CwH7oNNV",
        "colab_type": "code",
        "colab": {}
      },
      "source": [
        "ARQ_Y='Y_DAT_set_11_2019.csv'\n",
        "\n",
        "Y=pd.read_csv(ARQ_Y)\n",
        "#Y=Y[Y_NOME[2]] ???\n",
        "Y=Y[Y_NOME]\n",
        "#print(Y.head())"
      ],
      "execution_count": 0,
      "outputs": []
    },
    {
      "cell_type": "code",
      "metadata": {
        "id": "qU7g5Gp2m4qH",
        "colab_type": "code",
        "colab": {}
      },
      "source": [
        "XX=X.loc[X['VELOC X']==X['VELOC X'],X_NOME].values\n",
        "y=Y.loc[Y['NP']==Y['NP'],['CR']].values"
      ],
      "execution_count": 0,
      "outputs": []
    },
    {
      "cell_type": "code",
      "metadata": {
        "id": "e0BbmlmvdhVx",
        "colab_type": "code",
        "colab": {}
      },
      "source": [
        "# sigmoid function\n",
        "def sigmoid(x,deriv=False):\n",
        "    if(deriv==True):\n",
        "        return x*(1-x)\n",
        "    return 1/(1+np.exp(-x))\n",
        "\n",
        "# purelin function\n",
        "def purelin(x,deriv=False):\n",
        "    if(deriv==True):\n",
        "        return 1\n",
        "    return x\n",
        "\n",
        "# normatize funcion\n",
        "def normatize(x,w):\n",
        "    strings=list(x)\n",
        "    for featur in strings:\n",
        "        max_feat=w[featur].max()\n",
        "        min_feat=w[featur].min()\n",
        "        x[featur]=(x[featur]-min_feat)/(max_feat-min_feat)\n",
        "    return x\n",
        "\n",
        "\n",
        "# normatize funcion\n",
        "def original(x,x_old):\n",
        "    strings=list(x)\n",
        "    x_old.columns = list(x)\n",
        "    for featur in strings:\n",
        "        max_feat=x_old[featur].max()\n",
        "        min_feat=x_old[featur].min()\n",
        "        x[featur]=x[featur]*(max_feat-min_feat)+min_feat\n",
        "    return x\n"
      ],
      "execution_count": 0,
      "outputs": []
    },
    {
      "cell_type": "code",
      "metadata": {
        "id": "GYU4EZAN6MRA",
        "colab_type": "code",
        "colab": {}
      },
      "source": [
        "#XXX = X.sample(frac =.7,random_state = 2)  \n",
        "#YY = Y.sample(frac =.7,random_state = 2)  \n",
        "#print(XXX.head())\n",
        "#print(YY.head())\n",
        "#X_test = X.loc[~X.index.isin(XXX.index), :]\n",
        "#print(X_test)"
      ],
      "execution_count": 0,
      "outputs": []
    },
    {
      "cell_type": "code",
      "metadata": {
        "id": "0hmz3XcmYGSN",
        "colab_type": "code",
        "colab": {}
      },
      "source": [
        "X_train= X.sample(frac =.7,random_state = 2)  \n",
        "Y_train= Y.sample(frac =.7,random_state = 2)\n",
        "X_test = X.loc[~X.index.isin(X_train.index), :]\n",
        "Y_test = Y.loc[~Y.index.isin(Y_train.index), :]  \n",
        "#print(XXX.head())\n",
        "#print(YY.head())\n",
        "y_old=Y_train.loc[Y_train['NP']==Y_train['NP'],['CR']].values\n",
        "#y_total=Y.loc[Y['NP']==Y['NP'],['CR']].values\n",
        "y_total=Y['CR']\n",
        "y_total=pd.DataFrame(y_total)\n",
        "y_total.columns = [\"y_old\"]\n",
        "#print(y_total)"
      ],
      "execution_count": 0,
      "outputs": []
    },
    {
      "cell_type": "code",
      "metadata": {
        "id": "8M0trzQinA0m",
        "colab_type": "code",
        "colab": {}
      },
      "source": [
        "#print(len(y_old))\n",
        "#print(Y_test['CR'])"
      ],
      "execution_count": 0,
      "outputs": []
    },
    {
      "cell_type": "code",
      "metadata": {
        "id": "bUuQEko_dpF2",
        "colab_type": "code",
        "colab": {}
      },
      "source": [
        "# input dataset\n",
        "#Neuron_input=3\n",
        "Neuron_input=len(X_NOME)\n",
        "Neuron_hidden=5\n",
        "Neuron_output=1\n",
        "Learning_rate=0.01\n",
        "omega=0.9\n",
        "Epoch=500000"
      ],
      "execution_count": 0,
      "outputs": []
    },
    {
      "cell_type": "code",
      "metadata": {
        "id": "5X0BYxxIdwGp",
        "colab_type": "code",
        "colab": {}
      },
      "source": [
        "\n",
        "#y_old=DAT['TC1']\n",
        "#DAT=normatize(DAT)\n",
        "Y_train=normatize(Y_train,Y)\n",
        "X_train=normatize(X_train,X)\n",
        "#print(X.head())"
      ],
      "execution_count": 0,
      "outputs": []
    },
    {
      "cell_type": "code",
      "metadata": {
        "id": "ww1KvVqReAhK",
        "colab_type": "code",
        "outputId": "4ca00f0e-0539-4b52-d0ff-a56361a11459",
        "colab": {
          "base_uri": "https://localhost:8080/",
          "height": 1000
        }
      },
      "source": [
        "\n",
        "\n",
        "#X=DAT.loc[DAT['Speed']==DAT['Speed'],['Speed','Feed','Hard']].values\n",
        "#y=DAT.loc[DAT['Speed']==DAT['Speed'],['TC1']].values\n",
        "X_train=X_train.loc[X_train['VELOC X']==X_train['VELOC X'],X_NOME].values\n",
        "y=Y_train.loc[Y_train['NP']==Y_train['NP'],['CR']].values\n",
        "#X=XX\n",
        "#np.random.seed(1)\n",
        "\n",
        "# randomly initialize our weights with mean 0\n",
        "syn0 = 2*np.random.random((Neuron_input,Neuron_hidden)) - 1\n",
        "syn1 = 2*np.random.random((Neuron_hidden,Neuron_output)) - 1\n",
        "\n",
        "\n",
        "for j in range(Epoch):\n",
        "\n",
        "    # Feed forward through layers 0, 1, and 2\n",
        "    l0 = X_train\n",
        "    l1 = sigmoid(np.dot(l0,syn0))\n",
        "    l2 = purelin(np.dot(l1,syn1))\n",
        "\n",
        "    # how much did we miss the target value?\n",
        "    l2_error = y - l2\n",
        "\n",
        "    if (j% 2000) == 0:\n",
        "        print(\"Epoch %d\"%(j) +\" error:\" + str(np.mean(np.abs(l2_error))))\n",
        "\n",
        "    # in what direction is the target value?\n",
        "    # were we really sure? if so, don't change too much.\n",
        "    l2_delta = l2_error*purelin(l2,deriv=True)\n",
        "    l1_error = l2_delta.dot(syn1.T)\n",
        "    l1_delta = l1_error * sigmoid(l1,deriv=True)\n",
        "\n",
        "    syn1 += l1.T.dot(l2_delta)*Learning_rate\n",
        "    syn0 += l0.T.dot(l1_delta)*Learning_rate\n",
        "\n",
        "#'''\n",
        "#DAT=pd.read_csv(Arquivo,sep='\\t')\n",
        "y_obs=y_old\n",
        "y_calc=np.reshape(l2,len(l2))\n",
        "y_calc=pd.DataFrame({'y_calc':y_calc})\n",
        "#y_old=pd.DataFrame({'y_old':y_old})\n",
        "y_old=pd.DataFrame(y_old)\n",
        "y_old.columns = [\"y_old\"]\n",
        "y_calc=original(y_calc,y_total)\n",
        "\n",
        "\n",
        "plt.scatter(y_obs,y_calc)\n",
        "plt.xlabel(\"True CR\")\n",
        "plt.ylabel(\"Estimated CR\")\n",
        "plt.xlim((0,1))\n",
        "plt.ylim((0,1))\n",
        "plt.show()\n",
        "#'''"
      ],
      "execution_count": 0,
      "outputs": [
        {
          "output_type": "stream",
          "text": [
            "Epoch 0 error:0.7672312695907291\n",
            "Epoch 2000 error:0.18057728065918421\n",
            "Epoch 4000 error:0.17426175717336848\n",
            "Epoch 6000 error:0.16599652026881517\n",
            "Epoch 8000 error:0.1533901036985429\n",
            "Epoch 10000 error:0.1366460301449552\n",
            "Epoch 12000 error:0.12042075810488322\n",
            "Epoch 14000 error:0.1141603171053845\n",
            "Epoch 16000 error:0.11160200200524117\n",
            "Epoch 18000 error:0.10864736151126383\n",
            "Epoch 20000 error:0.10555018810534629\n",
            "Epoch 22000 error:0.1022413291650465\n",
            "Epoch 24000 error:0.09829236926638699\n",
            "Epoch 26000 error:0.09450958202868208\n",
            "Epoch 28000 error:0.09063753003153528\n",
            "Epoch 30000 error:0.08781933360817941\n",
            "Epoch 32000 error:0.08599498844877035\n",
            "Epoch 34000 error:0.08465858737911455\n",
            "Epoch 36000 error:0.08302840369248998\n",
            "Epoch 38000 error:0.08140149571903986\n",
            "Epoch 40000 error:0.07998830588463121\n",
            "Epoch 42000 error:0.07863034201890352\n",
            "Epoch 44000 error:0.07723254566764157\n",
            "Epoch 46000 error:0.07581390108935769\n",
            "Epoch 48000 error:0.0744255158504386\n",
            "Epoch 50000 error:0.07306282396633083\n",
            "Epoch 52000 error:0.0718790601363163\n",
            "Epoch 54000 error:0.0707950829116453\n",
            "Epoch 56000 error:0.0697115810759717\n",
            "Epoch 58000 error:0.0764431318846497\n",
            "Epoch 60000 error:0.08107695650942542\n",
            "Epoch 62000 error:0.08024942624305201\n",
            "Epoch 64000 error:0.079437485255833\n",
            "Epoch 66000 error:0.07856654030610903\n",
            "Epoch 68000 error:0.07765561710877025\n",
            "Epoch 70000 error:0.07671481580089683\n",
            "Epoch 72000 error:0.07580195845728378\n",
            "Epoch 74000 error:0.07493749436757462\n",
            "Epoch 76000 error:0.07405488965980381\n",
            "Epoch 78000 error:0.0731574419455504\n",
            "Epoch 80000 error:0.07224796139696539\n",
            "Epoch 82000 error:0.071329113034418\n",
            "Epoch 84000 error:0.07040371886494719\n",
            "Epoch 86000 error:0.06947499771362982\n",
            "Epoch 88000 error:0.06854671005662973\n",
            "Epoch 90000 error:0.06762318239846253\n",
            "Epoch 92000 error:0.06670920356364701\n",
            "Epoch 94000 error:0.06580980677277\n",
            "Epoch 96000 error:0.06492997058433896\n",
            "Epoch 98000 error:0.06407428446676082\n",
            "Epoch 100000 error:0.06324662875270916\n",
            "Epoch 102000 error:0.062449913866837736\n",
            "Epoch 104000 error:0.06168591155874698\n",
            "Epoch 106000 error:0.0609796306097682\n",
            "Epoch 108000 error:0.06033380761443837\n",
            "Epoch 110000 error:0.05971289614980992\n",
            "Epoch 112000 error:0.05911481530468012\n",
            "Epoch 114000 error:0.05853693943684805\n",
            "Epoch 116000 error:0.05797632370287643\n",
            "Epoch 118000 error:0.05743999481858207\n",
            "Epoch 120000 error:0.05699213143434444\n",
            "Epoch 122000 error:0.056547832011371466\n",
            "Epoch 124000 error:0.05610461719842387\n",
            "Epoch 126000 error:0.05566050147587051\n",
            "Epoch 128000 error:0.05521402589264536\n",
            "Epoch 130000 error:0.05476426353266751\n",
            "Epoch 132000 error:0.05431080362552757\n",
            "Epoch 134000 error:0.05385371894245139\n",
            "Epoch 136000 error:0.05339351975231398\n",
            "Epoch 138000 error:0.05293109647029362\n",
            "Epoch 140000 error:0.05246765238954092\n",
            "Epoch 142000 error:0.05203626902316186\n",
            "Epoch 144000 error:0.051682570537869066\n",
            "Epoch 146000 error:0.051329136241383654\n",
            "Epoch 148000 error:0.05097723641973004\n",
            "Epoch 150000 error:0.0506280642400743\n",
            "Epoch 152000 error:0.05028265768456418\n",
            "Epoch 154000 error:0.049941834287654745\n",
            "Epoch 156000 error:0.04960614380999565\n",
            "Epoch 158000 error:0.04930260303831128\n",
            "Epoch 160000 error:0.04905092967284801\n",
            "Epoch 162000 error:0.04879936975567455\n",
            "Epoch 164000 error:0.04854730153133249\n",
            "Epoch 166000 error:0.04829397744774766\n",
            "Epoch 168000 error:0.04803858489402069\n",
            "Epoch 170000 error:0.04778030142667508\n",
            "Epoch 172000 error:0.04751834011668927\n",
            "Epoch 174000 error:0.04725198270788281\n",
            "Epoch 176000 error:0.04698060020894949\n",
            "Epoch 178000 error:0.04670366206164837\n",
            "Epoch 180000 error:0.046420736000200996\n",
            "Epoch 182000 error:0.04613148115632514\n",
            "Epoch 184000 error:0.045850652944136656\n",
            "Epoch 186000 error:0.04558393205687067\n",
            "Epoch 188000 error:0.04531145709701194\n",
            "Epoch 190000 error:0.04503311062260352\n",
            "Epoch 192000 error:0.044748812012139615\n",
            "Epoch 194000 error:0.044458509553059654\n",
            "Epoch 196000 error:0.04416217461086565\n",
            "Epoch 198000 error:0.04385979778623892\n",
            "Epoch 200000 error:0.043551386802882015\n",
            "Epoch 202000 error:0.043236965778610276\n",
            "Epoch 204000 error:0.04291657549687269\n",
            "Epoch 206000 error:0.04259027430695489\n",
            "Epoch 208000 error:0.04231137590601582\n",
            "Epoch 210000 error:0.042079038688374225\n",
            "Epoch 212000 error:0.041840483163811434\n",
            "Epoch 214000 error:0.04159583385058359\n",
            "Epoch 216000 error:0.04134522939928463\n",
            "Epoch 218000 error:0.04108882294388758\n",
            "Epoch 220000 error:0.04085873856634534\n",
            "Epoch 222000 error:0.04066975051436439\n",
            "Epoch 224000 error:0.040475377855716047\n",
            "Epoch 226000 error:0.04027575061373453\n",
            "Epoch 228000 error:0.04007101045407466\n",
            "Epoch 230000 error:0.03986130964575311\n",
            "Epoch 232000 error:0.03964680971067823\n",
            "Epoch 234000 error:0.03942767979872505\n",
            "Epoch 236000 error:0.03920409482501323\n",
            "Epoch 238000 error:0.03897623340276696\n",
            "Epoch 240000 error:0.038744275602084155\n",
            "Epoch 242000 error:0.03850840055817504\n",
            "Epoch 244000 error:0.038268783946683045\n",
            "Epoch 246000 error:0.03802559533532364\n",
            "Epoch 248000 error:0.03777899541000012\n",
            "Epoch 250000 error:0.03752913306342469\n",
            "Epoch 252000 error:0.037276142319473814\n",
            "Epoch 254000 error:0.03702013905053783\n",
            "Epoch 256000 error:0.03676121742435557\n",
            "Epoch 258000 error:0.036499445993457044\n",
            "Epoch 260000 error:0.0362348633069149\n",
            "Epoch 262000 error:0.03597165134384295\n",
            "Epoch 264000 error:0.03571083368933822\n",
            "Epoch 266000 error:0.0354527473200134\n",
            "Epoch 268000 error:0.03519395331598792\n",
            "Epoch 270000 error:0.03493235966322318\n",
            "Epoch 272000 error:0.03466771703302071\n",
            "Epoch 274000 error:0.034399688354194845\n",
            "Epoch 276000 error:0.03412782910969694\n",
            "Epoch 278000 error:0.033862987041696775\n",
            "Epoch 280000 error:0.03363463291074032\n",
            "Epoch 282000 error:0.033411905053287165\n",
            "Epoch 284000 error:0.0331830410932243\n",
            "Epoch 286000 error:0.03294678169512907\n",
            "Epoch 288000 error:0.03270152801191604\n",
            "Epoch 290000 error:0.032445284742381855\n",
            "Epoch 292000 error:0.03218815720743053\n",
            "Epoch 294000 error:0.03191793065986761\n",
            "Epoch 296000 error:0.03163118450008385\n",
            "Epoch 298000 error:0.031356650025824884\n",
            "Epoch 300000 error:0.03111276996187333\n",
            "Epoch 302000 error:0.03091802517084662\n",
            "Epoch 304000 error:0.03077903101853521\n",
            "Epoch 306000 error:0.030712381238195897\n",
            "Epoch 308000 error:0.030693359952098362\n",
            "Epoch 310000 error:0.030689088756260776\n",
            "Epoch 312000 error:0.030688769586806268\n",
            "Epoch 314000 error:0.030688964992950245\n",
            "Epoch 316000 error:0.030688957113223062\n",
            "Epoch 318000 error:0.0306886912488024\n",
            "Epoch 320000 error:0.030688188031849528\n",
            "Epoch 322000 error:0.03068747032163252\n",
            "Epoch 324000 error:0.03068655885603025\n",
            "Epoch 326000 error:0.030685798855919166\n",
            "Epoch 328000 error:0.030685209008483445\n",
            "Epoch 330000 error:0.030684374705723702\n",
            "Epoch 332000 error:0.03068331682056593\n",
            "Epoch 334000 error:0.030682054079738525\n",
            "Epoch 336000 error:0.030680603268982864\n",
            "Epoch 338000 error:0.030678979414959645\n",
            "Epoch 340000 error:0.03067719594856962\n",
            "Epoch 342000 error:0.030675264853092913\n",
            "Epoch 344000 error:0.03067319679946695\n",
            "Epoch 346000 error:0.03067100127043013\n",
            "Epoch 348000 error:0.03066902071668101\n",
            "Epoch 350000 error:0.03066787890280625\n",
            "Epoch 352000 error:0.030666627630128472\n",
            "Epoch 354000 error:0.03066527236193588\n",
            "Epoch 356000 error:0.03066381794858738\n",
            "Epoch 358000 error:0.0306622686945143\n",
            "Epoch 360000 error:0.030660628419295868\n",
            "Epoch 362000 error:0.030658900513245248\n",
            "Epoch 364000 error:0.03065708798788629\n",
            "Epoch 366000 error:0.030655193521713694\n",
            "Epoch 368000 error:0.03065321950158556\n",
            "Epoch 370000 error:0.030651168060081994\n",
            "Epoch 372000 error:0.030649041109145108\n",
            "Epoch 374000 error:0.030647048459691816\n",
            "Epoch 376000 error:0.030645160852563587\n",
            "Epoch 378000 error:0.030643212000974376\n",
            "Epoch 380000 error:0.0306412020541376\n",
            "Epoch 382000 error:0.030639131165351836\n",
            "Epoch 384000 error:0.030636999501556784\n",
            "Epoch 386000 error:0.03063480725139973\n",
            "Epoch 388000 error:0.030632554631957742\n",
            "Epoch 390000 error:0.03063024189426237\n",
            "Epoch 392000 error:0.030627869327742183\n",
            "Epoch 394000 error:0.030625437263708376\n",
            "Epoch 396000 error:0.03062294607798239\n",
            "Epoch 398000 error:0.03062039619276857\n",
            "Epoch 400000 error:0.030617788077851024\n",
            "Epoch 402000 error:0.030615122251206765\n",
            "Epoch 404000 error:0.03061239927909665\n",
            "Epoch 406000 error:0.030609619775706903\n",
            "Epoch 408000 error:0.030606784402401364\n",
            "Epoch 410000 error:0.030603893866630434\n",
            "Epoch 412000 error:0.030600948920556776\n",
            "Epoch 414000 error:0.030597950359435484\n",
            "Epoch 416000 error:0.030594899019787382\n",
            "Epoch 418000 error:0.03059179577740494\n",
            "Epoch 420000 error:0.03058864154521604\n",
            "Epoch 422000 error:0.030585437271046206\n",
            "Epoch 424000 error:0.030582183935287485\n",
            "Epoch 426000 error:0.03057936603614873\n",
            "Epoch 428000 error:0.03057675598096952\n",
            "Epoch 430000 error:0.03057410027654039\n",
            "Epoch 432000 error:0.0305714001572255\n",
            "Epoch 434000 error:0.030568656872442482\n",
            "Epoch 436000 error:0.030565871684173882\n",
            "Epoch 438000 error:0.030563045864510523\n",
            "Epoch 440000 error:0.030560180693231714\n",
            "Epoch 442000 error:0.03055727745543116\n",
            "Epoch 444000 error:0.030554433918644795\n",
            "Epoch 446000 error:0.030552299627030394\n",
            "Epoch 448000 error:0.030550123241066044\n",
            "Epoch 450000 error:0.030547906349673238\n",
            "Epoch 452000 error:0.03054565052025829\n",
            "Epoch 454000 error:0.03054335729744922\n",
            "Epoch 456000 error:0.03054102820188699\n",
            "Epoch 458000 error:0.03053866472904729\n",
            "Epoch 460000 error:0.030536268348125718\n",
            "Epoch 462000 error:0.030533840500963548\n",
            "Epoch 464000 error:0.030531382601029097\n",
            "Epoch 466000 error:0.030528896032451198\n",
            "Epoch 468000 error:0.030526382149105722\n",
            "Epoch 470000 error:0.030523842273761505\n",
            "Epoch 472000 error:0.03052127769727569\n",
            "Epoch 474000 error:0.030518689677847797\n",
            "Epoch 476000 error:0.030516079440332317\n",
            "Epoch 478000 error:0.030513448175601088\n",
            "Epoch 480000 error:0.03051079703997\n",
            "Epoch 482000 error:0.030508127154671414\n",
            "Epoch 484000 error:0.030505439605393165\n",
            "Epoch 486000 error:0.030502735441864486\n",
            "Epoch 488000 error:0.03050001567749682\n",
            "Epoch 490000 error:0.030497281289086013\n",
            "Epoch 492000 error:0.030494533216558713\n",
            "Epoch 494000 error:0.030491772362775966\n",
            "Epoch 496000 error:0.030490029560096842\n",
            "Epoch 498000 error:0.030490814958834305\n"
          ],
          "name": "stdout"
        },
        {
          "output_type": "display_data",
          "data": {
            "image/png": "[encoded data removed]",
            "text/plain": [
              "<Figure size 432x288 with 1 Axes>"
            ]
          },
          "metadata": {
            "tags": []
          }
        }
      ]
    },
    {
      "cell_type": "code",
      "metadata": {
        "id": "iBeG0xf6zX4C",
        "colab_type": "code",
        "colab": {}
      },
      "source": [
        "#print(y_old)\n",
        "X_test=X_test.loc[X_test['VELOC X']==X_test['VELOC X'],X_NOME].values\n",
        "y_calc=np.reshape(l2,len(l2))\n",
        "y_calc=pd.DataFrame({'y_calc':y_calc})\n",
        "\n",
        "#print(y_calc)\n",
        "#print(y_old)\n",
        "#print(l2)\n",
        "#print(np.reshape(l2,len(l2)))"
      ],
      "execution_count": 0,
      "outputs": []
    },
    {
      "cell_type": "code",
      "metadata": {
        "id": "BIqKuGl_eznL",
        "colab_type": "code",
        "colab": {}
      },
      "source": [
        "#print(l0)"
      ],
      "execution_count": 0,
      "outputs": []
    },
    {
      "cell_type": "code",
      "metadata": {
        "id": "XtiFF_neaqhd",
        "colab_type": "code",
        "colab": {}
      },
      "source": [
        "\n",
        "#print(X_test)\n",
        "l0 = X_test\n",
        "l1 = sigmoid(np.dot(l0,syn0))\n",
        "l2 = purelin(np.dot(l1,syn1))"
      ],
      "execution_count": 0,
      "outputs": []
    },
    {
      "cell_type": "code",
      "metadata": {
        "id": "aJsdWLHmbg9f",
        "colab_type": "code",
        "colab": {}
      },
      "source": [
        "y_calc_test=np.reshape(l2,len(l2))\n",
        "y_calc_test=pd.DataFrame({'y_calc_test':y_calc_test})\n",
        "y_calc_test=original(y_calc_test,y_total)\n",
        "#y_old=pd.DataFrame(y_old)\n",
        "#y_old.columns = [\"y_old\"]"
      ],
      "execution_count": 0,
      "outputs": []
    },
    {
      "cell_type": "code",
      "metadata": {
        "id": "_ZglbRD3l4Lm",
        "colab_type": "code",
        "outputId": "e2b677c7-cb15-40fd-82f8-8444e1edabee",
        "colab": {
          "base_uri": "https://localhost:8080/",
          "height": 298
        }
      },
      "source": [
        "print(y_calc_test)"
      ],
      "execution_count": 0,
      "outputs": [
        {
          "output_type": "stream",
          "text": [
            "    y_calc_test\n",
            "0      1.208502\n",
            "1      0.766133\n",
            "2     -0.604667\n",
            "3      0.713946\n",
            "4      0.470378\n",
            "5      0.545846\n",
            "6      2.697443\n",
            "7      0.260099\n",
            "8      0.895232\n",
            "9      0.473385\n",
            "10     1.439492\n",
            "11     3.205421\n",
            "12     1.204387\n",
            "13     0.841228\n",
            "14    -2.329034\n"
          ],
          "name": "stdout"
        }
      ]
    },
    {
      "cell_type": "code",
      "metadata": {
        "id": "8MlsBAXMkV3c",
        "colab_type": "code",
        "outputId": "c3c86746-eb35-460c-f704-30f4d69d43be",
        "colab": {
          "base_uri": "https://localhost:8080/",
          "height": 283
        }
      },
      "source": [
        "plt.scatter(y_obs,y_calc)\n",
        "plt.scatter(Y_test['CR'],y_calc_test,color='r')\n",
        "plt.xlabel(\"True CR\")\n",
        "plt.ylabel(\"Estimated CR\")\n",
        "plt.xlim((-2,3))\n",
        "plt.ylim((-2,3))\n",
        "plt.show()"
      ],
      "execution_count": 0,
      "outputs": [
        {
          "output_type": "display_data",
          "data": {
            "image/png": "[encoded data removed]",
            "text/plain": [
              "<Figure size 432x288 with 1 Axes>"
            ]
          },
          "metadata": {
            "tags": []
          }
        }
      ]
    },
    {
      "cell_type": "code",
      "metadata": {
        "id": "zSDahcbse6iM",
        "colab_type": "code",
        "colab": {}
      },
      "source": [
        "#print(l1)"
      ],
      "execution_count": 0,
      "outputs": []
    },
    {
      "cell_type": "code",
      "metadata": {
        "id": "PWQX20WRe-d_",
        "colab_type": "code",
        "colab": {}
      },
      "source": [
        "#print(l2)"
      ],
      "execution_count": 0,
      "outputs": []
    }
  ]
}