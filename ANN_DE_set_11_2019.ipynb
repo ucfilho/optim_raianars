{
  "nbformat": 4,
  "nbformat_minor": 0,
  "metadata": {
    "colab": {
      "name": "ANN_DE_set_11_2019.ipynb",
      "version": "0.3.2",
      "provenance": [],
      "collapsed_sections": [],
      "include_colab_link": true
    },
    "kernelspec": {
      "name": "python3",
      "display_name": "Python 3"
    },
    "accelerator": "GPU"
  },
  "cells": [
    {
      "cell_type": "markdown",
      "metadata": {
        "id": "view-in-github",
        "colab_type": "text"
      },
      "source": [
        "<a href=\"https://colab.research.google.com/github/ucfilho/optim_raianars/blob/master/ANN_DE_set_11_2019.ipynb\" target=\"_parent\"><img src=\"https://colab.research.google.com/assets/colab-badge.svg\" alt=\"Open In Colab\"/></a>"
      ]
    },
    {
      "cell_type": "code",
      "metadata": {
        "id": "pXjpYvlK6J8n",
        "colab_type": "code",
        "colab": {}
      },
      "source": [
        "import numpy as np\n",
        "import pandas as pd\n",
        "from scipy import optimize\n",
        "import matplotlib.pyplot as plt"
      ],
      "execution_count": 0,
      "outputs": []
    },
    {
      "cell_type": "code",
      "metadata": {
        "id": "ANRK7ZZgCNpA",
        "colab_type": "code",
        "colab": {
          "base_uri": "https://localhost:8080/",
          "height": 175
        },
        "outputId": "260e4b04-1e12-4523-ce1d-8cefcbffc0e9"
      },
      "source": [
        "# este comando clona o diretorio github ucfilho/ANN no colaboratory research\n",
        "!git clone https://github.com/ucfilho/optim_raianars/ #clonar do Github\n",
        "%cd optim_raianars\n",
        "#!ls\n",
        "print(\"Hello world\"+\"\\n\"+\"I'm evolving!!!\"+\"\\n\")"
      ],
      "execution_count": 2,
      "outputs": [
        {
          "output_type": "stream",
          "text": [
            "Cloning into 'optim_raianars'...\n",
            "remote: Enumerating objects: 421, done.\u001b[K\n",
            "remote: Total 421 (delta 0), reused 0 (delta 0), pack-reused 421\u001b[K\n",
            "Receiving objects: 100% (421/421), 415.99 KiB | 774.00 KiB/s, done.\n",
            "Resolving deltas: 100% (232/232), done.\n",
            "/content/optim_raianars\n",
            "Hello world\n",
            "I'm evolving!!!\n",
            "\n"
          ],
          "name": "stdout"
        }
      ]
    },
    {
      "cell_type": "code",
      "metadata": {
        "id": "q_zZROm39Mbt",
        "colab_type": "code",
        "colab": {}
      },
      "source": [
        "# sigmoid function\n",
        "def sigmoid(x,deriv=False):\n",
        "    if(deriv==True):\n",
        "        return x*(1-x)\n",
        "    return 1/(1+np.exp(-x))\n",
        "\n",
        "# purelin function\n",
        "def purelin(x,deriv=False):\n",
        "    if(deriv==True):\n",
        "        return 1\n",
        "    return x\n",
        "\n",
        "# normatize funcion\n",
        "def normatize(x,w):\n",
        "    strings=list(x)\n",
        "    for featur in strings:\n",
        "        max_feat=w[featur].max()\n",
        "        min_feat=w[featur].min()\n",
        "        x[featur]=(x[featur]-min_feat)/(max_feat-min_feat)\n",
        "    return x\n",
        "\n",
        "\n",
        "# normatize funcion\n",
        "def original(x,x_old):\n",
        "    strings=list(x)\n",
        "    x_old.columns = list(x)\n",
        "    for featur in strings:\n",
        "        max_feat=x_old[featur].max()\n",
        "        min_feat=x_old[featur].min()\n",
        "        x[featur]=x[featur]*(max_feat-min_feat)+min_feat\n",
        "    return x"
      ],
      "execution_count": 0,
      "outputs": []
    },
    {
      "cell_type": "code",
      "metadata": {
        "id": "xFsM_eYj8mnH",
        "colab_type": "code",
        "colab": {}
      },
      "source": [
        "X_NOME=['DI RELATIVO','FRAC Its','VELOC FOBJ',\n",
        "        'VELOC X','DELTA FOBJ','DELTA VX']\n",
        "Y_NOME=['NP','F','CR']\n",
        "ARQ_X='X_DAT_set_11_2019.csv'\n",
        "X=pd.read_csv(ARQ_X)\n",
        "X=X[X_NOME]\n",
        "ARQ_Y='Y_DAT_set_11_2019.csv'\n",
        "Y=pd.read_csv(ARQ_Y)\n",
        "Y=Y[Y_NOME]\n",
        "X_train= X.sample(frac =.7,random_state = 2)  \n",
        "Y_train= Y.sample(frac =.7,random_state = 2)\n",
        "X_test = X.loc[~X.index.isin(X_train.index), :]\n",
        "Y_test = Y.loc[~Y.index.isin(Y_train.index), :]  \n",
        "y_old=Y_train.loc[Y_train['NP']==Y_train['NP'],['CR']].values\n",
        "y_total=Y['CR']\n",
        "y_total=pd.DataFrame(y_total)\n",
        "y_total.columns = [\"y_old\"]\n",
        "Y_train=normatize(Y_train,Y)\n",
        "X_train=normatize(X_train,X)\n"
      ],
      "execution_count": 0,
      "outputs": []
    },
    {
      "cell_type": "code",
      "metadata": {
        "id": "NqGcUn7900Ud",
        "colab_type": "code",
        "colab": {}
      },
      "source": [
        "# sigmoid function\n",
        "def sigmoid(x,deriv=False):\n",
        "    if(deriv==True):\n",
        "        return x*(1-x)\n",
        "    return 1/(1+np.exp(-x))\n",
        "\n",
        "# tansig function\n",
        "def tansig(x,deriv=False):\n",
        "    if(deriv==True):\n",
        "        return (1-x*x)\n",
        "    return 2/(1+np.exp(-2*x))-1\n",
        "\n",
        "# purelin function\n",
        "def purelin(x,deriv=False):\n",
        "    if(deriv==True):\n",
        "        return 1\n",
        "    return x\n",
        "\n",
        "# normatize funcion\n",
        "def normatize(x,w):\n",
        "    # intervalo -1 a 1\n",
        "    a=-1\n",
        "    b=1\n",
        "    strings=list(x)\n",
        "    for featur in strings:\n",
        "        max_feat=w[featur].max()\n",
        "        min_feat=w[featur].min()\n",
        "        x[featur]=a+(x[featur]-min_feat)*(b-a)/(max_feat-min_feat)\n",
        "    return x\n",
        "\n",
        "\n",
        "# normatize funcion\n",
        "def original(x,x_old):\n",
        "    strings=list(x)\n",
        "    x_old.columns = list(x)\n",
        "    a=-1\n",
        "    b=1\n",
        "    for featur in strings:\n",
        "        max_feat=x_old[featur].max()\n",
        "        min_feat=x_old[featur].min()\n",
        "        x[featur]=(x[featur]-a)*(max_feat-min_feat)/(b-a)+min_feat\n",
        "    return x"
      ],
      "execution_count": 0,
      "outputs": []
    },
    {
      "cell_type": "code",
      "metadata": {
        "id": "2dvWFGm20sVw",
        "colab_type": "code",
        "colab": {}
      },
      "source": [
        "# neural network treina\n",
        "def neural_treina(X_train,Y_train,W):\n",
        "  Neuron_input=6\n",
        "  Neuron_hidden=5\n",
        "  Neuron_output=1\n",
        "  X_train=X_train.loc[X_train['VELOC X']==X_train['VELOC X'],X_NOME].values\n",
        "  y=Y_train.loc[Y_train['NP']==Y_train['NP'],['CR']].values \n",
        "  Num=len(W)\n",
        "  syn0=np.zeros((Neuron_input,Neuron_hidden))\n",
        "  N0=Neuron_input*Neuron_hidden\n",
        "  N1=Neuron_hidden*Neuron_output\n",
        "  #syn0 = 2*np.random.random((Neuron_input,Neuron_hidden)) - 1\n",
        "  #syn1 = 2*np.random.random((Neuron_hidden,Neuron_output)) - 1  \n",
        "  syn1=np.zeros((Neuron_hidden,Neuron_output))\n",
        "  k=-1\n",
        "  for i in range(Neuron_input):\n",
        "    for j in range(Neuron_hidden):\n",
        "      k=k+1\n",
        "      #print(k)\n",
        "      syn0[i,j]=W[k]\n",
        "  #print(syn0)\n",
        "  #print(W)\n",
        "  \n",
        " \n",
        "  for i in range(Neuron_hidden):\n",
        "    for j in range(Neuron_output):\n",
        "      k=k+1\n",
        "      #print(k)\n",
        "      syn1[i,j]=W[k]\n",
        "  #print(syn1)\n",
        "  l0 = X_train\n",
        "  #print(l0)\n",
        "  #print(\"==========================\")\n",
        "  numOfRows = np.size(l0, 0)\n",
        "  numOfColumns = np.size(l0, 1)\n",
        "\n",
        "  #print(\"rows l0\",numOfRows)\n",
        "  #print(\"cols l0\",numOfColumns)\n",
        "  numOfRows = np.size(syn0, 0)\n",
        "  numOfColumns = np.size(syn0, 1)\n",
        "  #print(\"rows syn0\",numOfRows)\n",
        "  #print(\"cols syn0\",numOfColumns)\n",
        "\n",
        "    #l1 = sigmoid(np.dot(l0,syn0))\n",
        "  l1 = tansig(np.dot(l0,syn0))\n",
        "  #print(l1)\n",
        "  l2 = purelin(np.dot(l1,syn1))\n",
        "  l2_error = y - l2\n",
        "  fobs=np.mean(np.abs(l2_error))\n",
        "  return fobs"
      ],
      "execution_count": 0,
      "outputs": []
    },
    {
      "cell_type": "code",
      "metadata": {
        "id": "i877xL8U_mVU",
        "colab_type": "code",
        "colab": {}
      },
      "source": [
        "# neural network treina\n",
        "def neural_uso(X_train,W):\n",
        "  \n",
        "  X_train=X_train.loc[X_train['VELOC X']==X_train['VELOC X'],X_NOME].values\n",
        "  Neuron_input=6\n",
        "  Neuron_hidden=5\n",
        "  Neuron_output=1\n",
        "  #y=Y_train.loc[Y_train['NP']==Y_train['NP'],['CR']].values \n",
        "  Num=len(W)\n",
        "  syn0=np.zeros((Neuron_input,Neuron_hidden))\n",
        "  #syn0 = 2*np.random.random((Neuron_input,Neuron_hidden)) - 1\n",
        "  #syn1 = 2*np.random.random((Neuron_hidden,Neuron_output)) - 1  \n",
        "  syn1=np.zeros((Neuron_hidden,Neuron_output))\n",
        "  k=-1\n",
        "  for i in range(Neuron_input):\n",
        "    for j in range(Neuron_hidden):\n",
        "      k=k+1\n",
        "      #print(k)\n",
        "      syn0[i,j]=W[k]\n",
        "  #print(syn0)\n",
        "  #print(syn0)\n",
        "  for i in range(Neuron_hidden):\n",
        "    for j in range(Neuron_output):\n",
        "      k=k+1\n",
        "      syn1[i,j]=W[k]\n",
        "  #print(syn1)\n",
        "  l0 = X_train\n",
        "    #l1 = sigmoid(np.dot(l0,syn0))\n",
        "  l1 = tansig(np.dot(l0,syn0))\n",
        "  l2 = purelin(np.dot(l1,syn1))\n",
        "  y_calc=np.reshape(l2,len(l2))\n",
        "  \n",
        "  return y_calc"
      ],
      "execution_count": 0,
      "outputs": []
    },
    {
      "cell_type": "code",
      "metadata": {
        "id": "xC1tEult6b1M",
        "colab_type": "code",
        "colab": {}
      },
      "source": [
        "'''funcao do DE'''\n",
        "def function(x):\n",
        "  global X_train,Y_train\n",
        "  fobs=neural_treina(X_train,Y_train,x)\n",
        "  return fobs"
      ],
      "execution_count": 0,
      "outputs": []
    },
    {
      "cell_type": "code",
      "metadata": {
        "id": "d68LwyIR5Elo",
        "colab_type": "code",
        "colab": {}
      },
      "source": [
        "Neuron_input=6\n",
        "Neuron_hidden=5\n",
        "Neuron_output=1\n",
        "N0=Neuron_input*Neuron_hidden\n",
        "N1=Neuron_hidden*Neuron_output\n",
        "Num=N0+N1\n",
        "bounds = [(-5, 5)]*Num\n",
        "ret = optimize.differential_evolution(function,bounds,\n",
        "                                      init=\"latinhypercube\", # obs: init=\"random\"\n",
        "                                      maxiter=5, popsize=50,recombination=0.5)"
      ],
      "execution_count": 0,
      "outputs": []
    },
    {
      "cell_type": "code",
      "metadata": {
        "id": "kEadyt5rCW3b",
        "colab_type": "code",
        "colab": {
          "base_uri": "https://localhost:8080/",
          "height": 598
        },
        "outputId": "d276af5e-fac8-4ce9-bcc1-4c9880cded1e"
      },
      "source": [
        "print(Num)\n",
        "print(X_train)"
      ],
      "execution_count": 10,
      "outputs": [
        {
          "output_type": "stream",
          "text": [
            "35\n",
            "     DI RELATIVO  FRAC Its  VELOC FOBJ  VELOC X  DELTA FOBJ  DELTA VX\n",
            "41  1.237973e-05  0.592668         1.0      0.5        0.75      0.75\n",
            "17  3.269206e-08  0.997149         1.0      0.5        0.50      0.50\n",
            "43  9.505520e-08  0.910387         1.0      0.5        0.50      0.50\n",
            "14  2.132172e-06  0.560896         1.0      0.5        0.50      0.50\n",
            "44  6.071331e-09  0.971487         1.0      0.5        0.50      0.50\n",
            "29  1.924677e-05  0.189409         1.0      0.5        0.50      0.50\n",
            "12  5.265397e-05  0.321385         1.0      0.0        0.50      0.00\n",
            "13  1.682781e-05  0.483910         1.0      0.5        0.50      0.75\n",
            "0   1.314343e-01  0.002037         0.0      0.0        0.50      0.50\n",
            "2   6.732239e-02  0.237271         0.0      1.0        0.00      0.50\n",
            "9   1.000000e+00  0.047658         0.0      0.0        0.50      0.50\n",
            "16  1.836830e-07  0.885947         1.0      0.5        0.50      0.50\n",
            "37  1.793683e-01  0.134420         1.0      1.0        1.00      1.00\n",
            "24  2.802180e-05  0.779022         1.0      1.0        0.50      1.00\n",
            "42  1.618686e-06  0.782077         1.0      0.5        0.50      0.50\n",
            "30  1.198202e-06  0.262729         1.0      0.5        0.50      0.50\n",
            "32  2.049372e-07  0.592668         1.0      0.5        0.50      0.50\n",
            "1   8.659054e-02  0.073320         1.0      1.0        1.00      1.00\n",
            "23  2.850448e-01  0.693483         1.0      0.0        0.50      0.00\n",
            "25  1.630516e-06  0.907332         1.0      0.5        0.50      0.25\n",
            "27  3.431920e-02  0.000000         0.0      0.0        0.50      0.50\n",
            "19  2.821300e-01  0.073320         0.5      1.0        0.75      1.00\n",
            "35  0.000000e+00  0.971487         1.0      0.5        0.50      0.50\n",
            "10  3.007288e-01  0.184521         1.0      1.0        1.00      1.00\n",
            "4   6.185330e-03  0.529532         1.0      1.0        0.75      0.50\n",
            "6   7.272353e-04  0.779022         1.0      0.5        1.00      0.75\n",
            "3   2.595822e-02  0.379837         0.5      1.0        0.75      0.50\n",
            "38  3.554603e-03  0.189409         1.0      0.5        0.50      0.25\n",
            "5   1.896026e-02  0.693483         0.0      0.0        0.00      0.00\n",
            "33  2.743959e-08  0.782077         1.0      0.5        0.50      0.50\n",
            "28  1.754783e-03  0.134420         1.0      0.5        1.00      0.75\n"
          ],
          "name": "stdout"
        }
      ]
    },
    {
      "cell_type": "code",
      "metadata": {
        "id": "3KJBlQ2R_hKa",
        "colab_type": "code",
        "colab": {
          "base_uri": "https://localhost:8080/",
          "height": 283
        },
        "outputId": "accba224-0a84-4810-a4bb-5058b73d1bbd"
      },
      "source": [
        "x=ret.x\n",
        "y_calc_testa=neural_uso(X_test,x)\n",
        "y_old=pd.DataFrame(y_old)\n",
        "y_old.columns = [\"y_old\"]\n",
        "#print(y_calc_testa)\n",
        "#print(y_total)\n",
        "y_calc_testa=pd.DataFrame({'y_calc':y_calc_testa})\n",
        "y_calc_testa=original(y_calc_testa,y_total)\n",
        "\n",
        "y_obs=Y_test.loc[Y_test['NP']==Y_test['NP'],['CR']].values\n",
        "plt.scatter(y_obs,y_calc_testa)\n",
        "plt.xlabel(\"True CR\")\n",
        "plt.ylabel(\"Estimated CR\")\n",
        "plt.xlim((0,1))\n",
        "plt.ylim((-3,3))\n",
        "plt.show()"
      ],
      "execution_count": 23,
      "outputs": [
        {
          "output_type": "display_data",
          "data": {
            "image/png": "[encoded data removed]",
            "text/plain": [
              "<Figure size 432x288 with 1 Axes>"
            ]
          },
          "metadata": {
            "tags": []
          }
        }
      ]
    },
    {
      "cell_type": "code",
      "metadata": {
        "id": "QU7cLahYVu00",
        "colab_type": "code",
        "colab": {
          "base_uri": "https://localhost:8080/",
          "height": 826
        },
        "outputId": "fccbffc7-5cf9-4aed-f5c9-e48581c8f1a2"
      },
      "source": [
        "y_calc_testa=neural_uso(X_test,x)\n",
        "y_calc_testa=pd.DataFrame({'y_calc':y_calc_testa})\n",
        "y_calc_testa=original(y_calc_testa,y_total)\n",
        "print(y_total)"
      ],
      "execution_count": 27,
      "outputs": [
        {
          "output_type": "stream",
          "text": [
            "      y_calc\n",
            "0   1.012922\n",
            "1   0.802863\n",
            "2   1.669235\n",
            "3   0.764967\n",
            "4   2.118017\n",
            "5   0.416289\n",
            "6   1.034142\n",
            "7   5.523734\n",
            "8   0.714686\n",
            "9   1.670010\n",
            "10  0.316391\n",
            "11  1.089800\n",
            "12  3.112017\n",
            "13  0.432577\n",
            "14  2.282555\n",
            "15  0.815767\n",
            "16  0.661173\n",
            "17  4.233313\n",
            "18  1.012922\n",
            "19  0.802863\n",
            "20  1.669235\n",
            "21  0.764967\n",
            "22  2.118017\n",
            "23  0.416289\n",
            "24  1.034142\n",
            "25  5.523734\n",
            "26  0.714686\n",
            "27  2.597122\n",
            "28  0.262901\n",
            "29  1.377470\n",
            "30  3.708576\n",
            "31  0.711451\n",
            "32  2.127458\n",
            "33  0.327149\n",
            "34  1.381008\n",
            "35  0.772347\n",
            "36  2.597122\n",
            "37  0.262901\n",
            "38  1.377470\n",
            "39  3.708576\n",
            "40  0.711451\n",
            "41  2.127458\n",
            "42  0.327149\n",
            "43  1.381008\n",
            "44  0.772347\n"
          ],
          "name": "stdout"
        }
      ]
    }
  ]
}