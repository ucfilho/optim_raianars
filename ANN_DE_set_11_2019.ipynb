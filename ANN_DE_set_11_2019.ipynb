{
  "nbformat": 4,
  "nbformat_minor": 0,
  "metadata": {
    "colab": {
      "name": "ANN_DE_set_11_2019.ipynb",
      "version": "0.3.2",
      "provenance": [],
      "collapsed_sections": [],
      "include_colab_link": true
    },
    "kernelspec": {
      "name": "python3",
      "display_name": "Python 3"
    },
    "accelerator": "GPU"
  },
  "cells": [
    {
      "cell_type": "markdown",
      "metadata": {
        "id": "view-in-github",
        "colab_type": "text"
      },
      "source": [
        "<a href=\"https://colab.research.google.com/github/ucfilho/optim_raianars/blob/master/ANN_DE_set_11_2019.ipynb\" target=\"_parent\"><img src=\"https://colab.research.google.com/assets/colab-badge.svg\" alt=\"Open In Colab\"/></a>"
      ]
    },
    {
      "cell_type": "code",
      "metadata": {
        "id": "pXjpYvlK6J8n",
        "colab_type": "code",
        "colab": {}
      },
      "source": [
        "import numpy as np\n",
        "import pandas as pd\n",
        "from scipy import optimize\n",
        "import time\n",
        "import matplotlib.pyplot as plt"
      ],
      "execution_count": 0,
      "outputs": []
    },
    {
      "cell_type": "code",
      "metadata": {
        "id": "ANRK7ZZgCNpA",
        "colab_type": "code",
        "outputId": "79f6ef78-933d-4060-ebe1-17d74fed03df",
        "colab": {
          "base_uri": "https://localhost:8080/",
          "height": 122
        }
      },
      "source": [
        "# este comando clona o diretorio github ucfilho/ANN no colaboratory research\n",
        "!git clone https://github.com/ucfilho/optim_raianars/ #clonar do Github\n",
        "%cd optim_raianars\n",
        "#!ls\n",
        "print(\"Hello world\"+\"\\n\"+\"I'm evolving!!!\"+\"\\n\")\n",
        "\n",
        "start = time.time()\n",
        "\"the code you want to test stays here\"\n",
        "print(\"tempo=\",start)"
      ],
      "execution_count": 2,
      "outputs": [
        {
          "output_type": "stream",
          "text": [
            "fatal: destination path 'optim_raianars' already exists and is not an empty directory.\n",
            "/content/optim_raianars\n",
            "Hello world\n",
            "I'm evolving!!!\n",
            "\n",
            "tempo= 1568257996.9371154\n"
          ],
          "name": "stdout"
        }
      ]
    },
    {
      "cell_type": "code",
      "metadata": {
        "id": "q_zZROm39Mbt",
        "colab_type": "code",
        "colab": {}
      },
      "source": [
        "# sigmoid function\n",
        "def sigmoid(x,deriv=False):\n",
        "    if(deriv==True):\n",
        "        return x*(1-x)\n",
        "    return 1/(1+np.exp(-x))\n",
        "\n",
        "# purelin function\n",
        "def purelin(x,deriv=False):\n",
        "    if(deriv==True):\n",
        "        return 1\n",
        "    return x\n",
        "\n",
        "# normatize funcion\n",
        "def normatize(x,w):\n",
        "    strings=list(x)\n",
        "    for featur in strings:\n",
        "        max_feat=w[featur].max()\n",
        "        min_feat=w[featur].min()\n",
        "        x[featur]=(x[featur]-min_feat)/(max_feat-min_feat)\n",
        "    return x\n",
        "\n",
        "\n",
        "# normatize funcion\n",
        "def original(x,x_old):\n",
        "    strings=list(x)\n",
        "    x_old.columns = list(x)\n",
        "    for featur in strings:\n",
        "        max_feat=x_old[featur].max()\n",
        "        min_feat=x_old[featur].min()\n",
        "        x[featur]=x[featur]*(max_feat-min_feat)+min_feat\n",
        "    return x"
      ],
      "execution_count": 0,
      "outputs": []
    },
    {
      "cell_type": "code",
      "metadata": {
        "id": "xFsM_eYj8mnH",
        "colab_type": "code",
        "colab": {}
      },
      "source": [
        "X_NOME=['DI RELATIVO','FRAC Its','VELOC FOBJ',\n",
        "        'VELOC X','DELTA FOBJ','DELTA VX']\n",
        "Y_NOME=['NP','F','CR']\n",
        "ARQ_X='X_DAT_set_11_2019.csv'\n",
        "X=pd.read_csv(ARQ_X)\n",
        "X=X[X_NOME]\n",
        "ARQ_Y='Y_DAT_set_11_2019.csv'\n",
        "Y=pd.read_csv(ARQ_Y)\n",
        "Y=Y[Y_NOME]\n",
        "X_train= X.sample(frac =.7,random_state = 2)  \n",
        "Y_train= Y.sample(frac =.7,random_state = 2)\n",
        "X_test = X.loc[~X.index.isin(X_train.index), :]\n",
        "Y_test = Y.loc[~Y.index.isin(Y_train.index), :]  \n",
        "y_old=Y_train.loc[Y_train['NP']==Y_train['NP'],['CR']].values\n",
        "y_total=Y['CR']\n",
        "y_total=pd.DataFrame(y_total)\n",
        "y_total.columns = [\"y_old\"]\n",
        "Y_train=normatize(Y_train,Y)\n",
        "X_train=normatize(X_train,X)\n"
      ],
      "execution_count": 0,
      "outputs": []
    },
    {
      "cell_type": "code",
      "metadata": {
        "id": "NqGcUn7900Ud",
        "colab_type": "code",
        "colab": {}
      },
      "source": [
        "# sigmoid function\n",
        "def sigmoid(x,deriv=False):\n",
        "    if(deriv==True):\n",
        "        return x*(1-x)\n",
        "    return 1/(1+np.exp(-x))\n",
        "\n",
        "# tansig function\n",
        "def tansig(x,deriv=False):\n",
        "    if(deriv==True):\n",
        "        return (1-x*x)\n",
        "    return 2/(1+np.exp(-2*x))-1\n",
        "\n",
        "# purelin function\n",
        "def purelin(x,deriv=False):\n",
        "    if(deriv==True):\n",
        "        return 1\n",
        "    return x\n",
        "\n",
        "# normatize funcion\n",
        "def normatize(x,w):\n",
        "    # intervalo -1 a 1\n",
        "    a=-1\n",
        "    b=1\n",
        "    strings=list(x)\n",
        "    for featur in strings:\n",
        "        max_feat=w[featur].max()\n",
        "        min_feat=w[featur].min()\n",
        "        x[featur]=a+(x[featur]-min_feat)*(b-a)/(max_feat-min_feat)\n",
        "    return x\n",
        "\n",
        "\n",
        "# normatize funcion\n",
        "def original(x,x_old):\n",
        "    strings=list(x)\n",
        "    x_old.columns = list(x)\n",
        "    a=-1\n",
        "    b=1\n",
        "    for featur in strings:\n",
        "        max_feat=x_old[featur].max()\n",
        "        min_feat=x_old[featur].min()\n",
        "        x[featur]=(x[featur]-a)*(max_feat-min_feat)/(b-a)+min_feat\n",
        "    return x"
      ],
      "execution_count": 0,
      "outputs": []
    },
    {
      "cell_type": "code",
      "metadata": {
        "id": "2dvWFGm20sVw",
        "colab_type": "code",
        "colab": {}
      },
      "source": [
        "# neural network treina\n",
        "def neural_treina(X_train,Y_train,W):\n",
        "  Neuron_input=6\n",
        "  Neuron_hidden=5\n",
        "  Neuron_output=1\n",
        "  X_train=X_train.loc[X_train['VELOC X']==X_train['VELOC X'],X_NOME].values\n",
        "  y=Y_train.loc[Y_train['NP']==Y_train['NP'],['CR']].values \n",
        "  Num=len(W)\n",
        "  syn0=np.zeros((Neuron_input,Neuron_hidden))\n",
        "  N0=Neuron_input*Neuron_hidden\n",
        "  N1=Neuron_hidden*Neuron_output\n",
        "  syn1=np.zeros((Neuron_hidden,Neuron_output))\n",
        "  k=-1\n",
        "  for i in range(Neuron_input):\n",
        "    for j in range(Neuron_hidden):\n",
        "      k=k+1\n",
        "      syn0[i,j]=W[k]\n",
        " \n",
        "  for i in range(Neuron_hidden):\n",
        "    for j in range(Neuron_output):\n",
        "      k=k+1\n",
        "      syn1[i,j]=W[k]\n",
        "  l0 = X_train\n",
        "  numOfRows = np.size(l0, 0)\n",
        "  numOfColumns = np.size(l0, 1)\n",
        "\n",
        "\n",
        "  #l1 = sigmoid(np.dot(l0,syn0))\n",
        "  l1 = sigmoid(np.dot(l0,syn0))\n",
        "  l2 = purelin(np.dot(l1,syn1))\n",
        "  l2_error = y - l2\n",
        "  fobs=np.mean(np.abs(l2_error))\n",
        "  return fobs"
      ],
      "execution_count": 0,
      "outputs": []
    },
    {
      "cell_type": "code",
      "metadata": {
        "id": "i877xL8U_mVU",
        "colab_type": "code",
        "colab": {}
      },
      "source": [
        "# neural network treina\n",
        "def neural_uso(X_train,W):\n",
        "  \n",
        "  X_train=X_train.loc[X_train['VELOC X']==X_train['VELOC X'],X_NOME].values\n",
        "  Neuron_input=6\n",
        "  Neuron_hidden=5\n",
        "  Neuron_output=1\n",
        "  Num=len(W)\n",
        "  syn0=np.zeros((Neuron_input,Neuron_hidden))\n",
        "  syn1=np.zeros((Neuron_hidden,Neuron_output))\n",
        "  k=-1\n",
        "  for i in range(Neuron_input):\n",
        "    for j in range(Neuron_hidden):\n",
        "      k=k+1\n",
        "      syn0[i,j]=W[k]\n",
        "\n",
        "  for i in range(Neuron_hidden):\n",
        "    for j in range(Neuron_output):\n",
        "      k=k+1\n",
        "      syn1[i,j]=W[k]\n",
        "\n",
        "  l0 = X_train\n",
        "  l1 = sigmoid(np.dot(l0,syn0))\n",
        "  #l1 = tansig(np.dot(l0,syn0))\n",
        "  l2 = purelin(np.dot(l1,syn1))\n",
        "  y_calc=np.reshape(l2,len(l2))\n",
        "  \n",
        "  return y_calc"
      ],
      "execution_count": 0,
      "outputs": []
    },
    {
      "cell_type": "code",
      "metadata": {
        "id": "xC1tEult6b1M",
        "colab_type": "code",
        "colab": {}
      },
      "source": [
        "'''funcao do DE'''\n",
        "def function(x):\n",
        "  global X_train,Y_train\n",
        "  fobs=neural_treina(X_train,Y_train,x)\n",
        "  return fobs"
      ],
      "execution_count": 0,
      "outputs": []
    },
    {
      "cell_type": "code",
      "metadata": {
        "id": "d68LwyIR5Elo",
        "colab_type": "code",
        "colab": {}
      },
      "source": [
        "Neuron_input=6\n",
        "Neuron_hidden=5\n",
        "Neuron_output=1\n",
        "N0=Neuron_input*Neuron_hidden\n",
        "N1=Neuron_hidden*Neuron_output\n",
        "Num=N0+N1\n",
        "bounds = [(-5, 5)]*Num\n",
        "ret = optimize.differential_evolution(function,bounds,\n",
        "                                      init=\"latinhypercube\", # obs: init=\"random\"\n",
        "                                      maxiter=100, popsize=30,recombination=0.5)"
      ],
      "execution_count": 0,
      "outputs": []
    },
    {
      "cell_type": "code",
      "metadata": {
        "id": "kEadyt5rCW3b",
        "colab_type": "code",
        "outputId": "32b30211-f3e2-4047-d4b5-b1900992546d",
        "colab": {
          "base_uri": "https://localhost:8080/",
          "height": 598
        }
      },
      "source": [
        "print(Num)\n",
        "print(Y_train)"
      ],
      "execution_count": 10,
      "outputs": [
        {
          "output_type": "stream",
          "text": [
            "35\n",
            "          NP         F        CR\n",
            "41  0.250416  0.082149  0.354422\n",
            "17  0.176471  0.952585  0.754712\n",
            "43  0.754639  0.270279  0.212534\n",
            "14  0.022493  0.541274  0.383904\n",
            "44  0.000000  0.111303  0.096838\n",
            "29  0.170103  0.522518  0.211862\n",
            "12  0.073250  0.663797  0.541571\n",
            "13  0.759450  0.110940  0.032253\n",
            "0   0.711340  0.429068  0.142567\n",
            "2   0.343299  0.432251  0.267322\n",
            "9   0.440722  0.415615  0.267469\n",
            "16  0.378271  0.441435  0.075705\n",
            "37  0.903780  0.345131  0.000000\n",
            "24  0.134021  0.593455  0.146601\n",
            "42  0.484536  1.000000  0.012212\n",
            "30  0.053196  0.000000  0.654968\n",
            "32  0.250416  0.082149  0.354422\n",
            "1   0.033617  0.177765  0.102638\n",
            "23  0.675258  0.386297  0.029157\n",
            "25  0.444885  0.322947  1.000000\n",
            "27  0.298032  0.254750  0.443698\n",
            "19  0.033617  0.177765  0.102638\n",
            "35  0.000000  0.111303  0.096838\n",
            "10  1.000000  0.346325  0.010168\n",
            "4   0.240699  0.354541  0.352628\n",
            "6   0.134021  0.593455  0.146601\n",
            "3   0.257732  0.441996  0.095435\n",
            "38  0.170103  0.522518  0.211862\n",
            "5   0.675258  0.386297  0.029157\n",
            "33  0.484536  1.000000  0.012212\n",
            "28  0.903780  0.345131  0.000000\n"
          ],
          "name": "stdout"
        }
      ]
    },
    {
      "cell_type": "code",
      "metadata": {
        "id": "3KJBlQ2R_hKa",
        "colab_type": "code",
        "colab": {
          "base_uri": "https://localhost:8080/",
          "height": 283
        },
        "outputId": "a38fdad7-7a58-4e05-da81-c80370e381fe"
      },
      "source": [
        "x=ret.x\n",
        "y_calc_testa=neural_uso(X_test,x)\n",
        "y_old=pd.DataFrame(y_old)\n",
        "y_old.columns = [\"y_old\"]\n",
        "y_calc_testa=pd.DataFrame({'y_calc':y_calc_testa})\n",
        "y_calc_testa=original(y_calc_testa,y_total)\n",
        "\n",
        "y_obs=Y_test.loc[Y_test['NP']==Y_test['NP'],['CR']].values\n",
        "plt.scatter(y_obs,y_calc_testa)\n",
        "plt.xlabel(\"True CR\")\n",
        "plt.ylabel(\"Estimated CR\")\n",
        "plt.xlim((0,1))\n",
        "plt.ylim((-3,3))\n",
        "plt.show()\n"
      ],
      "execution_count": 11,
      "outputs": [
        {
          "output_type": "display_data",
          "data": {
            "image/png": "[encoded data removed]",
            "text/plain": [
              "<Figure size 432x288 with 1 Axes>"
            ]
          },
          "metadata": {
            "tags": []
          }
        }
      ]
    },
    {
      "cell_type": "code",
      "metadata": {
        "id": "QU7cLahYVu00",
        "colab_type": "code",
        "outputId": "fc1388bc-5f47-47e9-a9df-dc0811833e29",
        "colab": {
          "base_uri": "https://localhost:8080/",
          "height": 301
        }
      },
      "source": [
        "y_calc_testa=neural_uso(X_test,x)\n",
        "y_calc_testa=pd.DataFrame({'y_calc':y_calc_testa})\n",
        "#y_calc_testa=original(y_calc_testa,y_total)\n",
        "#print(y_calc_testa)\n",
        "y_test=pd.DataFrame(Y_test['CR'])\n",
        "y_test.columns = [\"y_test\"]\n",
        "#y_test=pd.DataFrame({'y_calc':Y_test['CR']})\n",
        "#print(y_test)\n",
        "y_calc_testa=original(y_calc_testa,y_total)\n",
        "plt.scatter(y_calc_testa,y_test)\n",
        "plt.xlabel(\"True CR\")\n",
        "plt.ylabel(\"Estimated CR\")"
      ],
      "execution_count": 12,
      "outputs": [
        {
          "output_type": "execute_result",
          "data": {
            "text/plain": [
              "Text(0, 0.5, 'Estimated CR')"
            ]
          },
          "metadata": {
            "tags": []
          },
          "execution_count": 12
        },
        {
          "output_type": "display_data",
          "data": {
            "image/png": "[encoded data removed]",
            "text/plain": [
              "<Figure size 432x288 with 1 Axes>"
            ]
          },
          "metadata": {
            "tags": []
          }
        }
      ]
    },
    {
      "cell_type": "code",
      "metadata": {
        "id": "D2WfKWGsdPZf",
        "colab_type": "code",
        "colab": {
          "base_uri": "https://localhost:8080/",
          "height": 34
        },
        "outputId": "c626a844-9baf-4d2f-ad78-d34c526c6e6c"
      },
      "source": [
        "end = time.time()\n",
        "print(end - start)"
      ],
      "execution_count": 13,
      "outputs": [
        {
          "output_type": "stream",
          "text": [
            "453.3947513103485\n"
          ],
          "name": "stdout"
        }
      ]
    },
    {
      "cell_type": "code",
      "metadata": {
        "id": "ONX4_sdIfdTy",
        "colab_type": "code",
        "colab": {
          "base_uri": "https://localhost:8080/",
          "height": 34
        },
        "outputId": "e672a6b4-ec53-4b63-8b6b-024426d009e3"
      },
      "source": [
        "print((end - start)/60)"
      ],
      "execution_count": 14,
      "outputs": [
        {
          "output_type": "stream",
          "text": [
            "7.5565791885058085\n"
          ],
          "name": "stdout"
        }
      ]
    }
  ]
}