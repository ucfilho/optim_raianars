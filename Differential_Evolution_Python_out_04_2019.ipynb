{
  "nbformat": 4,
  "nbformat_minor": 0,
  "metadata": {
    "kernelspec": {
      "display_name": "Python 3",
      "language": "python",
      "name": "python3"
    },
    "language_info": {
      "codemirror_mode": {
        "name": "ipython",
        "version": 3
      },
      "file_extension": ".py",
      "mimetype": "text/x-python",
      "name": "python",
      "nbconvert_exporter": "python",
      "pygments_lexer": "ipython3",
      "version": "3.5.4"
    },
    "colab": {
      "name": "Differential_Evolution_Python_out_04_2019.ipynb",
      "provenance": [],
      "collapsed_sections": [],
      "include_colab_link": true
    }
  },
  "cells": [
    {
      "cell_type": "markdown",
      "metadata": {
        "id": "view-in-github",
        "colab_type": "text"
      },
      "source": [
        "<a href=\"https://colab.research.google.com/github/ucfilho/optim_raianars/blob/master/Differential_Evolution_Python_out_04_2019.ipynb\" target=\"_parent\"><img src=\"https://colab.research.google.com/assets/colab-badge.svg\" alt=\"Open In Colab\"/></a>"
      ]
    },
    {
      "cell_type": "code",
      "metadata": {
        "id": "gESG1yVqvSoI",
        "colab_type": "code",
        "colab": {}
      },
      "source": [
        "import numpy as np\n",
        "import pandas as pd\n",
        "from scipy import optimize"
      ],
      "execution_count": 0,
      "outputs": []
    },
    {
      "cell_type": "code",
      "metadata": {
        "id": "SGk-8HlbvSoO",
        "colab_type": "code",
        "colab": {}
      },
      "source": [
        "'''Rosembrock Function'''\n",
        "def function(x):\n",
        "    fun=0\n",
        "    for i in range(1,len(x)):\n",
        "        fun = 100*(x[i]-x[i-1]**2)**2 + (1-x[i-1])**2\n",
        "    return fun \n"
      ],
      "execution_count": 0,
      "outputs": []
    },
    {
      "cell_type": "code",
      "metadata": {
        "id": "Grvug4fDvSoS",
        "colab_type": "code",
        "colab": {}
      },
      "source": [
        "x0 = np.array([2., 2.])\n",
        "# Initial guess."
      ],
      "execution_count": 0,
      "outputs": []
    },
    {
      "cell_type": "code",
      "metadata": {
        "id": "bKc0ITItvSoV",
        "colab_type": "code",
        "colab": {
          "base_uri": "https://localhost:8080/",
          "height": 36
        },
        "outputId": "5fd613a6-2454-4672-eb8e-12c9f21f05ed"
      },
      "source": [
        "Dim=10\n",
        "bounds = [(-10, 10)]*Dim\n",
        "print(bounds)\n",
        "ret = optimize.differential_evolution(function,bounds,\n",
        "                                      init=\"latinhypercube\", # obs: init=\"random\"\n",
        "                                      maxiter=200, popsize=40,recombination=0.5)"
      ],
      "execution_count": 4,
      "outputs": [
        {
          "output_type": "stream",
          "text": [
            "[(-10, 10), (-10, 10), (-10, 10), (-10, 10), (-10, 10), (-10, 10), (-10, 10), (-10, 10), (-10, 10), (-10, 10)]\n"
          ],
          "name": "stdout"
        }
      ]
    },
    {
      "cell_type": "code",
      "metadata": {
        "id": "3J9Z11O2vSoZ",
        "colab_type": "code",
        "outputId": "b35f3b5e-1ba4-4d07-86be-8c3104324209",
        "colab": {
          "base_uri": "https://localhost:8080/",
          "height": 55
        }
      },
      "source": [
        "print(\"global minimum: x = \",ret.x, \"f(x0) = \",ret.fun)"
      ],
      "execution_count": 5,
      "outputs": [
        {
          "output_type": "stream",
          "text": [
            "global minimum: x =  [-5.87858271 -7.81764875 -5.78628529 -2.01602114  9.35806596 -7.47546502\n",
            " -4.6891192   5.36847729  1.          1.        ] f(x0) =  9.706766681437796e-22\n"
          ],
          "name": "stdout"
        }
      ]
    }
  ]
}