{
  "nbformat": 4,
  "nbformat_minor": 0,
  "metadata": {
    "colab": {
      "name": "ABCOptmi_from_C_language_jul_11_2019.ipynb",
      "version": "0.3.2",
      "provenance": [],
      "collapsed_sections": [],
      "include_colab_link": true
    },
    "kernelspec": {
      "name": "python3",
      "display_name": "Python 3"
    }
  },
  "cells": [
    {
      "cell_type": "markdown",
      "metadata": {
        "id": "view-in-github",
        "colab_type": "text"
      },
      "source": [
        "<a href=\"https://colab.research.google.com/github/ucfilho/optim_raianars/blob/master/ABCOptmi_from_C_language_jul_12_2019.ipynb\" target=\"_parent\"><img src=\"https://colab.research.google.com/assets/colab-badge.svg\" alt=\"Open In Colab\"/></a>"
      ]
    },
    {
      "cell_type": "code",
      "metadata": {
        "id": "Q4rxtjKKCSVZ",
        "colab_type": "code",
        "colab": {}
      },
      "source": [
        "import numpy as np\n",
        "from random import randint"
      ],
      "execution_count": 0,
      "outputs": []
    },
    {
      "cell_type": "code",
      "metadata": {
        "id": "fHwM7maM7L7K",
        "colab_type": "code",
        "colab": {}
      },
      "source": [
        "NP=40\n",
        "limit=100\n",
        "D=50\n",
        "lb=-5.12\n",
        "ub=5.12\n",
        "runtime=30\n",
        "f=np.zeros(NP/2)\n",
        "f=np.zeros(D) # dimensao do problema\n",
        "Foods=np.zeros((0,D)) # ????  acho q vai dar erro aqui\n",
        "\n",
        "global NP  #/* The number of colony size (employed bees+onlooker bees)*/\n",
        "global limit #/*A food source which could not be improved through \"limit\" trials\n",
        "global  D #/*The number of parameters of the problem to be optimized*/\n",
        "global lb #/*lower bound of the parameters. */\n",
        "global ub #/*upper bound of the parameters. */\n",
        "global runtime #/*Algorithm can be run many times in order to \n",
        "               #   see its robustness*/\n",
        "global f\n",
        "global solution\n"
      ],
      "execution_count": 0,
      "outputs": []
    },
    {
      "cell_type": "code",
      "metadata": {
        "id": "loDKqBNLACD1",
        "colab_type": "code",
        "colab": {}
      },
      "source": [
        "global GlobalMin\n",
        "global GlobalParams\n",
        "global Foods\n",
        "global FoodNumber\n",
        "global trial\n",
        "global f # ????? #\n",
        "global solution # ????? #"
      ],
      "execution_count": 0,
      "outputs": []
    },
    {
      "cell_type": "code",
      "metadata": {
        "id": "E7MjDLg19f83",
        "colab_type": "code",
        "colab": {}
      },
      "source": [
        "'''Rosembrock Function'''\n",
        "def Fun(x):\n",
        "    fun=0\n",
        "    a=1.0\n",
        "    b=100.0\n",
        "    fun = (a-x[0])**2 + b*(x[1]-x[0]**2)**2\n",
        "    return fun"
      ],
      "execution_count": 0,
      "outputs": []
    },
    {
      "cell_type": "code",
      "metadata": {
        "id": "PWIY1PGq9Is1",
        "colab_type": "code",
        "colab": {}
      },
      "source": [
        "'''\n",
        "FunctionCallback function = &Rastrigin;\n",
        "/*Fitness function*/\n",
        "double CalculateFitness(double fun)\n",
        "'''\n",
        "def CalculateFitness(fun):\n",
        "    fun=0\n",
        "    if(fun>=0):\n",
        "      result=1/(fun+1)\n",
        "    else:\n",
        "      result=1+fabs(fun)\n",
        "    return result"
      ],
      "execution_count": 0,
      "outputs": []
    },
    {
      "cell_type": "code",
      "metadata": {
        "id": "f8H99CS9AOoB",
        "colab_type": "code",
        "colab": {}
      },
      "source": [
        "'''\n",
        "AQUI VEM A FUNCAO f.....\n",
        "double f[FoodNumber]; /*f is a vector holding objective function values \n",
        "                       associated with food sources */\n",
        "'''"
      ],
      "execution_count": 0,
      "outputs": []
    },
    {
      "cell_type": "code",
      "metadata": {
        "id": "sNZ4ruzv-La8",
        "colab_type": "code",
        "colab": {}
      },
      "source": [
        "\"\"\"/*The best food source is memorized*/\"\"\"\n",
        "def MemorizeBestSource():\n",
        "  global  D\n",
        "  global  GlobalMin\n",
        "  global GlobalParams\n",
        "  global Foods\n",
        "  global FoodNumber\n",
        "  \n",
        "  flag=1\n",
        "  for i in range(FoodNumber):\n",
        "    if (f[i]<GlobalMin):\n",
        "      GlobalMin=f[i]\n",
        "      for j in range(D):\n",
        "        GlobalParams[j]=Foods[i,j]\n",
        "  #return flag\n",
        "        \n",
        "'''\n",
        "double f[FoodNumber]; /*f is a vector holding objective function values \n",
        "                       associated with food sources */\n",
        "'''"
      ],
      "execution_count": 0,
      "outputs": []
    },
    {
      "cell_type": "code",
      "metadata": {
        "id": "ckFKKQdNAVO1",
        "colab_type": "code",
        "colab": {}
      },
      "source": [
        "'''\n",
        "/*Variables are initialized in the range [lb,ub]. If each parameter has different\n",
        "range, use arrays lb[j], ub[j] instead of lb and ub */\n",
        "\n",
        "/* Counters of food sources are also initialized in this function*/\n",
        "'''\n",
        "def init(index):\n",
        "  global  D\n",
        "  global Foods\n",
        "  global trial\n",
        "  global f\n",
        "  global fitness\n",
        "  global lb\n",
        "  global ub\n",
        "  global NP\n",
        "  global solution\n",
        "  \n",
        "  # ???? global solution ????\n",
        "  # f=np.zeros(NP/2) ????\n",
        "  flag=1\n",
        "  for j=0 in range(D):\n",
        "    r=np.random.random()\n",
        "    Foods[index][j]=r*(ub-lb)+lb\n",
        "    solution[j]=Foods[index,j]\n",
        "    f[index]=function(solution)\n",
        "    fitness[index]=CalculateFitness(f[index])\n",
        "    trial[index]=0\n",
        "  #return flag\n",
        "  #return"
      ],
      "execution_count": 0,
      "outputs": []
    },
    {
      "cell_type": "code",
      "metadata": {
        "id": "Nbr0xLBdITa5",
        "colab_type": "code",
        "colab": {}
      },
      "source": [
        "'''\n",
        "/*All food sources are initialized */\n",
        "'''\n",
        "def initial():\n",
        "  global D\n",
        "  global f\n",
        "  global FoodNumber\n",
        "  global GlobalMin\n",
        "  global GlobalParams\n",
        "  global Foods\n",
        "  \n",
        "  for i in range(FoodNumber):\n",
        "    init(i) #flag=init(i)\n",
        "  GlobalMin=f[0]\n",
        "  for i in range(D):\n",
        "    GlobalParams[i]=Foods[0,i]\n"
      ],
      "execution_count": 0,
      "outputs": []
    },
    {
      "cell_type": "code",
      "metadata": {
        "id": "Jsfc_Dr5MmuX",
        "colab_type": "code",
        "colab": {}
      },
      "source": [
        "def SendEmployedBees():\n",
        "  \"\"\"/*Employed Bee Phase*/\"\"\"\n",
        "  global FoodNumber\n",
        "  global D\n",
        "  global solution\n",
        "  global trial\n",
        "  for i in range(FoodNumber):\n",
        "    r = np.random.random()\n",
        "    param2change= int(r*D)\n",
        "    r = np.random.random()\n",
        "    neighbour=int(r*D)\n",
        "    while(neighbour==i):\n",
        "      r = np.random.random()\n",
        "      neighbour=int(r*FoodNumber)\n",
        "    for j in range(D):\n",
        "      solution[j]=Foods[i,j]\n",
        "#/*v_{ij}=x_{ij}+\\phi_{ij}*(x_{kj}-x_{ij}) */      \n",
        "    r = np.random.random()\n",
        "    A=Foods[i,param2change]\n",
        "    B=Foods[neighbour,param2change]\n",
        "    solution[param2change]=Foods[i,param2change]+(A-B)*(r-0.5)*2;\n",
        "    if (solution[param2change]<lb):\n",
        "      solution[param2change]=lb\n",
        "    if (solution[param2change]>ub):\n",
        "      solution[param2change]=ub\n",
        "    ObjValSol=function(solution)\n",
        "    FitnessSol=CalculateFitness(ObjValSol)\n",
        "\"\"\"\n",
        "/*a greedy selection is applied between the current solution i and its\n",
        "mutant*/\n",
        "\"\"\"\n",
        "    if (FitnessSol>fitness[i]): # /*If the mutant solution is better than the \n",
        "                                #   current solution i, replace the\n",
        "                                #    solution with the mutant and reset the \n",
        "                                #    trial counter of solution i*/\n",
        "      trial[i]=0\n",
        "      for j in range(D):\n",
        "        Foods[i,j]=solution[j]\n",
        "      f[i]=ObjValSol\n",
        "      fitness[i]=FitnessSol\n",
        "    else:\n",
        "      trial[i]=trial[i]+1 #if the solution i can not be improved\n",
        "                          # increase its trial counter*/\n",
        " \n",
        " # /*end of employed bee phase*/"
      ],
      "execution_count": 0,
      "outputs": []
    },
    {
      "cell_type": "code",
      "metadata": {
        "id": "yibq0wsUThgD",
        "colab_type": "code",
        "colab": {}
      },
      "source": [
        "\"\"\"\n",
        "/* A food source is chosen with the probability which is proportioal to its quality*/\n",
        "/*Different schemes can be used to calculate the probability values*/\n",
        "/*For example prob(i)=fitness(i)/sum(fitness)*/\n",
        "/*or in a way used in the metot below prob(i)=a*fitness(i)/max(fitness)+b*/\n",
        "/*probability values are calculated by using fitness values and normalized by\n",
        "dividing maximum fitness value*/\n",
        "\n",
        "\"\"\"\n",
        "def CalculateProbabilities():\n",
        "  global FoodNumber\n",
        "  global fitness\n",
        "  global prob\n",
        "  maxfit=fitness[0]\n",
        "  for i in range(1,FoodNumber):    \n",
        "    if (fitness[i]>maxfit):\n",
        "      maxfit=fitness[i]\n",
        "  for (i=0;i<FoodNumber;i++):\n",
        "      prob[i]=(0.9*(fitness[i]/maxfit))+0.1\n"
      ],
      "execution_count": 0,
      "outputs": []
    },
    {
      "cell_type": "code",
      "metadata": {
        "id": "RRHG1BVqiNaZ",
        "colab_type": "code",
        "colab": {}
      },
      "source": [
        "def SendOnlookerBees():\n",
        "  global FoodNumber\n",
        "  global D\n",
        "  global solution\n",
        "  global trial\n",
        "  global Foods\n",
        "  i=0\n",
        "  t=0\n",
        "  while(t<FoodNumber):\n",
        "    r = np.random.random()\n",
        "    if(r<prob[i]): #  choose a food source depending on\n",
        "                   #      its probability to be chosen\n",
        "      r = np.random.random()\n",
        "      t=t+1\n",
        "      param2change=int(r*D)\n",
        "      r = np.random.random()\n",
        "      neighbour=int(r*FoodNumber)\n",
        "      #/*Randomly selected solution must be different from the solution i*/\n",
        "      while(neighbour==i):\n",
        "        r = np.random.random()\n",
        "        neighbour=int(r*FoodNumber)\n",
        "      for j in range(D):\n",
        "        solution[j]=Foods[i,j]\n",
        "      #/*v_{ij}=x_{ij}+\\phi_{ij}*(x_{kj}-x_{ij}) */\n",
        "      r = np.random.random()\n",
        "      A=Foods[i,param2change]\n",
        "      B=Foods[neighbour,param2change\n",
        "      solution[param2change]=Foods[i][param2change]+(A-B)*(r-0.5)*2\n",
        "#  if generated parameter value is out of boundaries, it is shifted onto the\n",
        "#    boundaries*/\n",
        "      if (solution[param2change]<lb):\n",
        "              solution[param2change]=lb;\n",
        "      if (solution[param2change]>ub):\n",
        "              solution[param2change]=ub;\n",
        "      ObjValSol=function(solution)\n",
        "      FitnessSol=CalculateFitness(ObjValSol)\n",
        "              \n",
        "      # /*If the mutant solution is better than the current solution i, \n",
        "      #  replace the solution with the mutant and reset the trial counter \n",
        "      #   of solution i*/\n",
        "      if(FitnessSol>fitness[i]):\n",
        "        trial[i]=0\n",
        "        for j in range(D):\n",
        "          Foods[i,j]=solution[j]\n",
        "          f[i]=ObjValSol\n",
        "          fitness[i]=FitnessSol\n",
        "      else:\n",
        "        trial[i]=trial[i]+1\n",
        "      i=i+1\n",
        "      if (i==FoodNumber):\n",
        "        i=0\n"
      ],
      "execution_count": 0,
      "outputs": []
    }
  ]
}