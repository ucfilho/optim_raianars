{
  "nbformat": 4,
  "nbformat_minor": 0,
  "metadata": {
    "colab": {
      "name": "ABCOptmi_from_C_language_jul_12_2019.ipynb",
      "version": "0.3.2",
      "provenance": [],
      "collapsed_sections": [],
      "include_colab_link": true
    },
    "kernelspec": {
      "name": "python3",
      "display_name": "Python 3"
    }
  },
  "cells": [
    {
      "cell_type": "markdown",
      "metadata": {
        "id": "view-in-github",
        "colab_type": "text"
      },
      "source": [
        "<a href=\"https://colab.research.google.com/github/ucfilho/optim_raianars/blob/master/ABCOptmi_from_C_language_jul_12_2019.ipynb\" target=\"_parent\"><img src=\"https://colab.research.google.com/assets/colab-badge.svg\" alt=\"Open In Colab\"/></a>"
      ]
    },
    {
      "cell_type": "code",
      "metadata": {
        "id": "Q4rxtjKKCSVZ",
        "colab_type": "code",
        "colab": {}
      },
      "source": [
        "import numpy as np\n",
        "from random import randint"
      ],
      "execution_count": 0,
      "outputs": []
    },
    {
      "cell_type": "code",
      "metadata": {
        "id": "fHwM7maM7L7K",
        "colab_type": "code",
        "colab": {}
      },
      "source": [
        "NP=40\n",
        "limit=100\n",
        "D=2\n",
        "lb=-5.12\n",
        "ub=5.12\n",
        "runtime=30\n",
        "maxCycle=300\n",
        "#FoodNumber=int(NP/2) # ??????\n",
        "FoodNumber=int(NP)\n",
        "f=np.zeros(FoodNumber) \n",
        "Foods=np.zeros((FoodNumber,D)) # ????  acho q vai dar erro aqui\n",
        "solution=np.zeros(D)\n",
        "fitness=np.zeros(FoodNumber)\n",
        "trial=np.zeros(FoodNumber)\n",
        "prob=np.zeros(FoodNumber)\n",
        "GlobalParams=np.zeros(D)\n",
        "GlobalMins=np.zeros(runtime)\n"
      ],
      "execution_count": 0,
      "outputs": []
    },
    {
      "cell_type": "code",
      "metadata": {
        "id": "E7MjDLg19f83",
        "colab_type": "code",
        "colab": {}
      },
      "source": [
        "'''Rosembrock Function'''\n",
        "def Fun(x):\n",
        "    fun=0\n",
        "    a=1.0\n",
        "    b=100.0\n",
        "    fun = (a-x[0])**2 + b*(x[1]-x[0]**2)**2\n",
        "    return fun"
      ],
      "execution_count": 0,
      "outputs": []
    },
    {
      "cell_type": "code",
      "metadata": {
        "id": "PWIY1PGq9Is1",
        "colab_type": "code",
        "colab": {}
      },
      "source": [
        "'''\n",
        "FunctionCallback function = &Rastrigin;\n",
        "/*Fitness function*/\n",
        "double CalculateFitness(double fun)\n",
        "'''\n",
        "def CalculateFitness(fun):\n",
        "    fun=0\n",
        "    if(fun>=0):\n",
        "      result=1/(fun+1)\n",
        "    else:\n",
        "      result=1+fabs(fun)\n",
        "    return result"
      ],
      "execution_count": 0,
      "outputs": []
    },
    {
      "cell_type": "code",
      "metadata": {
        "id": "f8H99CS9AOoB",
        "colab_type": "code",
        "colab": {}
      },
      "source": [
        "'''\n",
        "AQUI VEM A FUNCAO f.....\n",
        "double f[FoodNumber]; /*f is a vector holding objective function values \n",
        "                       associated with food sources */\n",
        "'''\n",
        "#def sphere( sol):\n",
        "def function( sol):\n",
        "  '''top=0\n",
        "  for j in range(D):\n",
        "    top=top+sol[j]*sol[j]'''\n",
        "    \n",
        "  #fun=0\n",
        "  x=sol\n",
        "  a=1.0\n",
        "  b=100.0\n",
        "  top = (a-x[0])**2 + b*(x[1]-x[0]**2)**2\n",
        "  return top;\n"
      ],
      "execution_count": 0,
      "outputs": []
    },
    {
      "cell_type": "code",
      "metadata": {
        "id": "sNZ4ruzv-La8",
        "colab_type": "code",
        "outputId": "72c7d726-6a7e-40d9-8f60-c1381882ecc1",
        "colab": {
          "base_uri": "https://localhost:8080/",
          "height": 56
        }
      },
      "source": [
        "\"\"\"/*The best food source is memorized*/\"\"\"\n",
        "def MemorizeBestSource():\n",
        "  global  D\n",
        "  global  GlobalMin\n",
        "  global GlobalParams\n",
        "  global Foods\n",
        "  global FoodNumber\n",
        "  \n",
        "  flag=1\n",
        "  for i in range(FoodNumber):\n",
        "    if (f[i]<GlobalMin):\n",
        "      GlobalMin=f[i]\n",
        "      for j in range(D):\n",
        "        GlobalParams[j]=Foods[i,j]\n",
        "  #return flag\n",
        "        \n",
        "'''\n",
        "double f[FoodNumber]; /*f is a vector holding objective function values \n",
        "                       associated with food sources */\n",
        "'''"
      ],
      "execution_count": 6,
      "outputs": [
        {
          "output_type": "execute_result",
          "data": {
            "text/plain": [
              "'\\ndouble f[FoodNumber]; /*f is a vector holding objective function values \\n                       associated with food sources */\\n'"
            ]
          },
          "metadata": {
            "tags": []
          },
          "execution_count": 6
        }
      ]
    },
    {
      "cell_type": "code",
      "metadata": {
        "id": "ckFKKQdNAVO1",
        "colab_type": "code",
        "colab": {}
      },
      "source": [
        "'''\n",
        "/*Variables are initialized in the range [lb,ub]. If each parameter has different\n",
        "range, use arrays lb[j], ub[j] instead of lb and ub */\n",
        "\n",
        "/* Counters of food sources are also initialized in this function*/\n",
        "'''\n",
        "def init(index):\n",
        "  global  D\n",
        "  global Foods\n",
        "  global trial\n",
        "  global f\n",
        "  global fitness\n",
        "  global lb\n",
        "  global ub\n",
        "  global NP\n",
        "  global solution\n",
        "  \n",
        "  # ???? global solution ????\n",
        "  # f=np.zeros(NP/2) ????\n",
        "  for j in range(D):\n",
        "    r=np.random.random()\n",
        "    Foods[index,j]=r*(ub-lb)+lb\n",
        "    solution[j]=Foods[index,j]\n",
        "    f[index]=function(solution)\n",
        "    fitness[index]=CalculateFitness(f[index])\n",
        "    trial[index]=0"
      ],
      "execution_count": 0,
      "outputs": []
    },
    {
      "cell_type": "code",
      "metadata": {
        "id": "Nbr0xLBdITa5",
        "colab_type": "code",
        "colab": {}
      },
      "source": [
        "'''\n",
        "/*All food sources are initialized */\n",
        "'''\n",
        "def initial():\n",
        "  global D\n",
        "  global f\n",
        "  global FoodNumber\n",
        "  global GlobalMin\n",
        "  global GlobalParams\n",
        "  global Foods\n",
        "  \n",
        "  for i in range(FoodNumber):\n",
        "    init(i) \n",
        "  GlobalMin=f[0]\n",
        "  for i in range(D):\n",
        "    GlobalParams[i]=Foods[0,i]\n"
      ],
      "execution_count": 0,
      "outputs": []
    },
    {
      "cell_type": "code",
      "metadata": {
        "id": "Jsfc_Dr5MmuX",
        "colab_type": "code",
        "outputId": "ba69d41a-55ef-4d36-af09-2c93ae22d5bd",
        "colab": {
          "base_uri": "https://localhost:8080/",
          "height": 36
        }
      },
      "source": [
        "def SendEmployedBees():\n",
        "  \"\"\"/*Employed Bee Phase*/\"\"\"\n",
        "  global FoodNumber\n",
        "  global D\n",
        "  global solution\n",
        "  global trial\n",
        "  for i in range(FoodNumber):\n",
        "    r = np.random.random()\n",
        "    param2change= int(r*D)\n",
        "    r = np.random.random()\n",
        "    neighbour=int(r*D)\n",
        "    if(neighbour >= NP):\n",
        "      neighbour=NP-1\n",
        "      \n",
        "    while(neighbour==i):\n",
        "      r = np.random.random()\n",
        "      neighbour=int(r*FoodNumber)\n",
        "      if(neighbour >= NP):\n",
        "        neighbour=NP-1\n",
        "    for j in range(D):\n",
        "      solution[j]=Foods[i,j]\n",
        "#/*v_{ij}=x_{ij}+\\phi_{ij}*(x_{kj}-x_{ij}) */      \n",
        "    r = np.random.random()\n",
        "    A=Foods[i,param2change]\n",
        "    B=Foods[neighbour,param2change]\n",
        "    solution[param2change]=Foods[i,param2change]+(A-B)*(r-0.5)*2;\n",
        "    if (solution[param2change]<lb):\n",
        "      solution[param2change]=lb\n",
        "    if (solution[param2change]>ub):\n",
        "      solution[param2change]=ub\n",
        "    ObjValSol=function(solution)\n",
        "    FitnessSol=CalculateFitness(ObjValSol)\n",
        "    if(FitnessSol>fitness[i]):\n",
        "      trial[i]=0\n",
        "      for j in range(D):\n",
        "        Foods[i,j]=solution[j]\n",
        "        f[i]=ObjValSol\n",
        "        fitness[i]=FitnessSol\n",
        "    else:\n",
        "      trial[i]=0\n",
        "      trial[i]=trial[i]+1 #if the solution i can not be improved\n",
        "                          # increase its trial counter*/\n",
        "    \n",
        "\"\"\"\n",
        "/*a greedy selection is applied between the current solution i and its\n",
        "mutant*/\n",
        "\"\"\"\n",
        "    # /*If the mutant solution is better than the \n",
        "                                #   current solution i, replace the\n",
        "                                #    solution with the mutant and reset the \n",
        "                                #    trial counter of solution i*/\n",
        "      \n",
        "      \n",
        "        \n",
        "      \n",
        "      \n",
        "    \n",
        "      \n",
        " \n",
        " # /*end of employed bee phase*/"
      ],
      "execution_count": 9,
      "outputs": [
        {
          "output_type": "execute_result",
          "data": {
            "text/plain": [
              "'\\n/*a greedy selection is applied between the current solution i and its\\nmutant*/\\n'"
            ]
          },
          "metadata": {
            "tags": []
          },
          "execution_count": 9
        }
      ]
    },
    {
      "cell_type": "code",
      "metadata": {
        "id": "yibq0wsUThgD",
        "colab_type": "code",
        "colab": {}
      },
      "source": [
        "\"\"\"\n",
        "/* A food source is chosen with the probability which is proportioal to its quality*/\n",
        "/*Different schemes can be used to calculate the probability values*/\n",
        "/*For example prob(i)=fitness(i)/sum(fitness)*/\n",
        "/*or in a way used in the metot below prob(i)=a*fitness(i)/max(fitness)+b*/\n",
        "/*probability values are calculated by using fitness values and normalized by\n",
        "dividing maximum fitness value*/\n",
        "\n",
        "\"\"\"\n",
        "def CalculateProbabilities():\n",
        "  global FoodNumber\n",
        "  global fitness\n",
        "  global prob\n",
        "  maxfit=fitness[0]\n",
        "  for i in range(1,FoodNumber):    \n",
        "    if (fitness[i]>maxfit):\n",
        "      maxfit=fitness[i]\n",
        "  for i in range(FoodNumber):\n",
        "    prob[i]=(0.9*(fitness[i]/maxfit))+0.1\n"
      ],
      "execution_count": 0,
      "outputs": []
    },
    {
      "cell_type": "code",
      "metadata": {
        "id": "RRHG1BVqiNaZ",
        "colab_type": "code",
        "colab": {}
      },
      "source": [
        "def SendOnlookerBees():\n",
        "  global FoodNumber\n",
        "  global D\n",
        "  global solution\n",
        "  global trial\n",
        "  global Foods\n",
        "  i=0\n",
        "  t=0\n",
        "  while(t<FoodNumber):\n",
        "    r = np.random.random()\n",
        "    if(r<prob[i]): #  choose a food source depending on\n",
        "                   #      its probability to be chosen\n",
        "      r = np.random.random()\n",
        "      t=t+1\n",
        "      param2change=int(r*D)\n",
        "      r = np.random.random()\n",
        "      neighbour=int(r*FoodNumber)\n",
        "      #/*Randomly selected solution must be different from the solution i*/\n",
        "      while(neighbour==i):\n",
        "        r = np.random.random()\n",
        "        neighbour=int(r*FoodNumber)\n",
        "      for j in range(D):\n",
        "        solution[j]=Foods[i,j]\n",
        "      #/*v_{ij}=x_{ij}+\\phi_{ij}*(x_{kj}-x_{ij}) */\n",
        "      r = np.random.random()\n",
        "      A=Foods[i,param2change]\n",
        "      B=Foods[neighbour,param2change]\n",
        "      C=Foods[i,param2change]\n",
        "      solution[param2change]=C+(A-B)*(r-0.5)*2\n",
        "#  if generated parameter value is out of boundaries, it is shifted onto the\n",
        "#    boundaries*/\n",
        "      if (solution[param2change]<lb):\n",
        "              solution[param2change]=lb\n",
        "      if (solution[param2change]>ub):\n",
        "              solution[param2change]=ub\n",
        "      ObjValSol=function(solution)\n",
        "      FitnessSol=CalculateFitness(ObjValSol)\n",
        "              \n",
        "      # /*If the mutant solution is better than the current solution i, \n",
        "      #  replace the solution with the mutant and reset the trial counter \n",
        "      #   of solution i*/\n",
        "      if(FitnessSol>fitness[i]):\n",
        "        trial[i]=0\n",
        "        for j in range(D):\n",
        "          Foods[i,j]=solution[j]\n",
        "          f[i]=ObjValSol\n",
        "          fitness[i]=FitnessSol\n",
        "      else:\n",
        "        trial[i]=trial[i]+1\n",
        "      i=i+1\n",
        "      if (i==FoodNumber):\n",
        "        i=0\n"
      ],
      "execution_count": 0,
      "outputs": []
    },
    {
      "cell_type": "code",
      "metadata": {
        "id": "lZT7tTIPRNz4",
        "colab_type": "code",
        "colab": {}
      },
      "source": [
        "'''\n",
        "/*determine the food sources whose trial counter exceeds the \"limit\" value. In Basic\n",
        "ABC, only one scout is allowed to occur in each cycle*/\n",
        "'''\n",
        "def SendScoutBees():\n",
        "  global trial\n",
        "  global FoodNumber\n",
        "  maxtrialindex=0\n",
        "  for i in range(FoodNumber):\n",
        "    if (trial[i]>trial[maxtrialindex]):\n",
        "      maxtrialindex=i\n",
        "  if(trial[maxtrialindex]>=limit):\n",
        "    init(maxtrialindex)\n"
      ],
      "execution_count": 0,
      "outputs": []
    },
    {
      "cell_type": "code",
      "metadata": {
        "id": "RlpZ9Tc1SjQm",
        "colab_type": "code",
        "outputId": "2894fc4c-ca5a-43cc-895c-70b8f3e3838c",
        "colab": {
          "base_uri": "https://localhost:8080/",
          "height": 1000
        }
      },
      "source": [
        "'''/*Main program of the ABC algorithm*/'''\n",
        "for run in range(runtime):\n",
        "  initial()\n",
        "  MemorizeBestSource()\n",
        "  mean=0\n",
        "  for iter in range(maxCycle):\n",
        "    SendEmployedBees()\n",
        "    CalculateProbabilities()\n",
        "    SendOnlookerBees()\n",
        "    MemorizeBestSource()\n",
        "    SendScoutBees()\n",
        "    '''  \n",
        "    for j in range(D):\n",
        "    print(\"GlobalParam[\",j+1,\"]:\", GlobalParams[j],\"\\n\")\n",
        "    '''\n",
        "  print(\"run\",run+1,\"GBest=\",GlobalMin,\" \\n\");\n",
        "  GlobalMins[run]=GlobalMin\n",
        "  mean=mean+GlobalMin;\n",
        "mean=mean/runtime;\n",
        "print(\"Means of\",runtime,\"runs:\",mean,\"\\n\")\n"
      ],
      "execution_count": 13,
      "outputs": [
        {
          "output_type": "stream",
          "text": [
            "run 1 GBest= 5.649234041602568  \n",
            "\n",
            "run 2 GBest= 16.641790043912277  \n",
            "\n",
            "run 3 GBest= 4.2711809964666845  \n",
            "\n",
            "run 4 GBest= 2.3395285673682378  \n",
            "\n",
            "run 5 GBest= 19.190887215019846  \n",
            "\n",
            "run 6 GBest= 16.186314053572065  \n",
            "\n",
            "run 7 GBest= 4.746452696776737  \n",
            "\n",
            "run 8 GBest= 0.000523196149399963  \n",
            "\n",
            "run 9 GBest= 12.997125776912158  \n",
            "\n",
            "run 10 GBest= 12.361791322754106  \n",
            "\n",
            "run 11 GBest= 3.8938902270857483  \n",
            "\n",
            "run 12 GBest= 11.38163563429891  \n",
            "\n",
            "run 13 GBest= 8.398108849617469  \n",
            "\n",
            "run 14 GBest= 12.8868786252698  \n",
            "\n",
            "run 15 GBest= 3.1597114589592623  \n",
            "\n",
            "run 16 GBest= 0.40323085169823314  \n",
            "\n",
            "run 17 GBest= 3.3617585545215016  \n",
            "\n",
            "run 18 GBest= 12.247296528940506  \n",
            "\n",
            "run 19 GBest= 1.4392135381697193  \n",
            "\n",
            "run 20 GBest= 0.46835259679461355  \n",
            "\n",
            "run 21 GBest= 27.838093295030728  \n",
            "\n",
            "run 22 GBest= 2.329910749644436  \n",
            "\n",
            "run 23 GBest= 6.886897423267516  \n",
            "\n",
            "run 24 GBest= 14.519198819041444  \n",
            "\n",
            "run 25 GBest= 1.9191646466457855  \n",
            "\n",
            "run 26 GBest= 2.876756229286678  \n",
            "\n",
            "run 27 GBest= 2.404413870399803  \n",
            "\n",
            "run 28 GBest= 10.759852857428553  \n",
            "\n",
            "run 29 GBest= 1.9673395817896702  \n",
            "\n",
            "run 30 GBest= 12.556756427144556  \n",
            "\n",
            "Means of 30 runs: 0.4185585475714852 \n",
            "\n"
          ],
          "name": "stdout"
        }
      ]
    }
  ]
}