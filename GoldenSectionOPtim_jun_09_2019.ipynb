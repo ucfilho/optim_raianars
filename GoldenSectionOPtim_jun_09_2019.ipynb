{
  "nbformat": 4,
  "nbformat_minor": 0,
  "metadata": {
    "colab": {
      "name": "GoldenSectionOPtim_jun_09_2019.ipynb",
      "version": "0.3.2",
      "provenance": [],
      "collapsed_sections": [],
      "include_colab_link": true
    },
    "kernelspec": {
      "name": "python3",
      "display_name": "Python 3"
    }
  },
  "cells": [
    {
      "cell_type": "markdown",
      "metadata": {
        "id": "view-in-github",
        "colab_type": "text"
      },
      "source": [
        "<a href=\"https://colab.research.google.com/github/ucfilho/optim_raianars/blob/master/GoldenSectionOPtim_jun_09_2019.ipynb\" target=\"_parent\"><img src=\"https://colab.research.google.com/assets/colab-badge.svg\" alt=\"Open In Colab\"/></a>"
      ]
    },
    {
      "cell_type": "code",
      "metadata": {
        "id": "NhquPhp8AnrK",
        "colab_type": "code",
        "colab": {}
      },
      "source": [
        "import numpy as np\n",
        "import pandas as pd\n",
        "from scipy import optimize"
      ],
      "execution_count": 0,
      "outputs": []
    },
    {
      "cell_type": "code",
      "metadata": {
        "id": "KwqpdkPbArHW",
        "colab_type": "code",
        "colab": {}
      },
      "source": [
        "'''Rosembrock Function'''\n",
        "def Fun(x):\n",
        "  fun=0\n",
        "  a=1.0\n",
        "  b=100.0\n",
        "  fun = (a-x[0])**2 + b*(x[1]-x[0]**2)**2\n",
        "  return fun"
      ],
      "execution_count": 0,
      "outputs": []
    },
    {
      "cell_type": "code",
      "metadata": {
        "id": "h50KpiG1A6A6",
        "colab_type": "code",
        "outputId": "139beb4f-8450-4c82-e96d-6f4347f3d9a8",
        "colab": {
          "base_uri": "https://localhost:8080/",
          "height": 55
        }
      },
      "source": [
        "'''bounds = [(-2, 2), (-2, 2)]\n",
        "ret = optimize.differential_evolution(function,bounds,\n",
        "                                      init=\"latinhypercube\", # obs: init=\"random\"\n",
        "                                      maxiter=100, popsize=50,recombination=0.5)'''"
      ],
      "execution_count": 3,
      "outputs": [
        {
          "output_type": "execute_result",
          "data": {
            "text/plain": [
              "'bounds = [(-2, 2), (-2, 2)]\\nret = optimize.differential_evolution(function,bounds,\\n                                      init=\"latinhypercube\", # obs: init=\"random\"\\n                                      maxiter=100, popsize=50,recombination=0.5)'"
            ]
          },
          "metadata": {
            "tags": []
          },
          "execution_count": 3
        }
      ]
    },
    {
      "cell_type": "code",
      "metadata": {
        "id": "bIgjNxroA-iB",
        "colab_type": "code",
        "outputId": "c7f70554-a3c0-4bca-a0f3-7019a21dd97b",
        "colab": {
          "base_uri": "https://localhost:8080/",
          "height": 35
        }
      },
      "source": [
        "'''print(\"global minimum: x = \",ret.x, \"f(x0) = \",ret.fun)'''"
      ],
      "execution_count": 4,
      "outputs": [
        {
          "output_type": "execute_result",
          "data": {
            "text/plain": [
              "'print(\"global minimum: x = \",ret.x, \"f(x0) = \",ret.fun)'"
            ]
          },
          "metadata": {
            "tags": []
          },
          "execution_count": 4
        }
      ]
    },
    {
      "cell_type": "code",
      "metadata": {
        "id": "othFtca3Dfzh",
        "colab_type": "code",
        "outputId": "ed3cd53e-0c6b-43f3-adc5-f3b5044b6091",
        "colab": {
          "base_uri": "https://localhost:8080/",
          "height": 54
        }
      },
      "source": [
        "phi = (1.0 + np.sqrt(5.0))/2.0\n",
        "print(phi)\n",
        "x=3\n",
        "dx=5\n",
        "a=dx/phi\n",
        "b=dx-a\n",
        "xl=x-b\n",
        "xr=x+a\n",
        "print([a,b,xr,xl,a/b])"
      ],
      "execution_count": 5,
      "outputs": [
        {
          "output_type": "stream",
          "text": [
            "1.618033988749895\n",
            "[3.090169943749474, 1.909830056250526, 6.0901699437494745, 1.090169943749474, 1.6180339887498947]\n"
          ],
          "name": "stdout"
        }
      ]
    },
    {
      "cell_type": "code",
      "metadata": {
        "id": "v0P48D4gHZwE",
        "colab_type": "code",
        "outputId": "cf697478-3c29-4235-8ec0-7243788e5e37",
        "colab": {
          "base_uri": "https://localhost:8080/",
          "height": 35
        }
      },
      "source": [
        "x =  [1., 1.]\n",
        "print(len(x))"
      ],
      "execution_count": 6,
      "outputs": [
        {
          "output_type": "stream",
          "text": [
            "2\n"
          ],
          "name": "stdout"
        }
      ]
    },
    {
      "cell_type": "code",
      "metadata": {
        "id": "peTYHsKzEZAz",
        "colab_type": "code",
        "colab": {}
      },
      "source": [
        "def GoldenSearch(x,dx,ITE,MIN,MAX):\n",
        "  Num=len(x)\n",
        "  varia=np.copy(dx)\n",
        "  phi = (1.0 + np.sqrt(5.0))/2.0\n",
        "  #x=np.array(x)\n",
        "  #dx=np.array(dx)\n",
        "  for k in range(ITE):\n",
        "    for i in range(Num):\n",
        "      xo=np.copy(x)\n",
        "      yopt=Fun(x)\n",
        "      xop=xo[i]\n",
        "      delta=np.copy(dx[i])\n",
        "      a=delta/phi\n",
        "      b=delta-a\n",
        "      xl=xop-b\n",
        "      xr=xop+a\n",
        "      xo[i]=np.copy(xl)\n",
        "      yl=Fun(xo)\n",
        "      xo[i]=np.copy(xr)\n",
        "      yr=Fun(xo)\n",
        "    \n",
        "      if (yr > yl):\n",
        "        x[i]=np.copy(xr)\n",
        "        dx[i]=a\n",
        "      else:\n",
        "        x[i]=np.copy(xr)\n",
        "        dx[i]=b\n",
        "      varia[i]=dx[i]\n",
        "  return x, varia\n"
      ],
      "execution_count": 0,
      "outputs": []
    },
    {
      "cell_type": "code",
      "metadata": {
        "id": "r643YRAeEa-j",
        "colab_type": "code",
        "outputId": "3ec3c96e-d457-4615-9524-e944523aedb6",
        "colab": {
          "base_uri": "https://localhost:8080/",
          "height": 72
        }
      },
      "source": [
        "dx=np.array([10,10])\n",
        "x=np.array([2,2])\n",
        "ITE=5\n",
        "MIN=[-5,-2]\n",
        "MAX=[2,2]\n",
        "x,varia=GoldenSearch(x,dx,ITE,MIN,MAX)\n",
        "print(\"vetor\",x,\"funcao\", Fun(x),\"\\n\")\n",
        "print(varia)"
      ],
      "execution_count": 8,
      "outputs": [
        {
          "output_type": "stream",
          "text": [
            "vetor [12  9] funcao 1822621.0 \n",
            "\n",
            "[0 0]\n"
          ],
          "name": "stdout"
        }
      ]
    }
  ]
}