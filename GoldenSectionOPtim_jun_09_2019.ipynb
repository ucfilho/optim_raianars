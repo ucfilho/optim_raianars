{
  "nbformat": 4,
  "nbformat_minor": 0,
  "metadata": {
    "colab": {
      "name": "GoldenSectionOPtim_jun_09_2019.ipynb",
      "version": "0.3.2",
      "provenance": [],
      "collapsed_sections": [],
      "include_colab_link": true
    },
    "kernelspec": {
      "name": "python3",
      "display_name": "Python 3"
    }
  },
  "cells": [
    {
      "cell_type": "markdown",
      "metadata": {
        "id": "view-in-github",
        "colab_type": "text"
      },
      "source": [
        "<a href=\"https://colab.research.google.com/github/ucfilho/optim_raianars/blob/master/GoldenSectionOPtim_jun_09_2019.ipynb\" target=\"_parent\"><img src=\"https://colab.research.google.com/assets/colab-badge.svg\" alt=\"Open In Colab\"/></a>"
      ]
    },
    {
      "cell_type": "code",
      "metadata": {
        "id": "NhquPhp8AnrK",
        "colab_type": "code",
        "colab": {}
      },
      "source": [
        "import numpy as np\n",
        "import pandas as pd\n",
        "from scipy import optimize"
      ],
      "execution_count": 0,
      "outputs": []
    },
    {
      "cell_type": "code",
      "metadata": {
        "id": "KwqpdkPbArHW",
        "colab_type": "code",
        "colab": {}
      },
      "source": [
        "'''Rosembrock Function'''\n",
        "def Fun(x):\n",
        "  fun=0\n",
        "  a=1.0\n",
        "  b=100.0\n",
        "  fun = (a-x[0])**2 + b*(x[1]-x[0]**2)**2\n",
        "  return fun"
      ],
      "execution_count": 0,
      "outputs": []
    },
    {
      "cell_type": "code",
      "metadata": {
        "id": "peTYHsKzEZAz",
        "colab_type": "code",
        "colab": {}
      },
      "source": [
        "\n",
        "def GoldenSearch(x,ITE_GOLDEN,MIN,MAX):\n",
        "  \n",
        "  \n",
        "  Num=len(x)\n",
        "  phi = (1.0 + np.sqrt(5.0))/2.0\n",
        "  xa=np.copy(x)\n",
        "  xb=np.copy(x)\n",
        "  xr=np.zeros(Num)\n",
        "  xl=np.zeros(Num)\n",
        "\n",
        "  \n",
        "  for i in range(Num):\n",
        "    delta=MAX[i]-MIN[i]\n",
        "    a=delta/phi\n",
        "    b=delta-a\n",
        "    xl[i]=x[i]-b\n",
        "    xr[i]=x[i]+a\n",
        "    \n",
        "    # AVALIANDO SE SAIU FORA DO INTERVALO E CORRIGINDO\n",
        "    if(xr[i]<MAX[i]):\n",
        "      xr[i]=MAX[i]\n",
        "    if(xl[i]<MIN[i]):\n",
        "      xl[i]=MIN[i]\n",
        "\n",
        "\n",
        "  for k in range(ITE_GOLDEN):\n",
        "    for i in range(Num):\n",
        "      d = (phi - 1)*(xr[i] - xl[i])\n",
        "      a = xr[i] - d\n",
        "      b = xl[i] + d\n",
        "      xa[i]=np.copy(a)\n",
        "      xb[i]=np.copy(b)\n",
        "      if(Fun(xb) > Fun(xa)):\n",
        "        x[i] = a\n",
        "        xr[i] = b\n",
        "      else:\n",
        "        x[i]= b\n",
        "        xl[i] = a\n",
        "\n",
        "  return x\n"
      ],
      "execution_count": 0,
      "outputs": []
    },
    {
      "cell_type": "code",
      "metadata": {
        "id": "r643YRAeEa-j",
        "colab_type": "code",
        "outputId": "5132970e-fb9b-4a90-8c7b-7175ed0d5985",
        "colab": {
          "base_uri": "https://localhost:8080/",
          "height": 54
        }
      },
      "source": [
        "\n",
        "x=np.array([3,2]) \n",
        "ITE_GOLDEN=10\n",
        "MIN=[-5,-2]\n",
        "MAX=[5,4]\n",
        "\n",
        "x=GoldenSearch(x,ITE_GOLDEN,MIN,MAX)\n",
        "print(\"vetor\",x,\"funcao\", Fun(x),\"\\n\")\n"
      ],
      "execution_count": 4,
      "outputs": [
        {
          "output_type": "stream",
          "text": [
            "vetor [1 1] funcao 0.0 \n",
            "\n"
          ],
          "name": "stdout"
        }
      ]
    }
  ]
}