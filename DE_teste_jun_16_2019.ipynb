{
  "nbformat": 4,
  "nbformat_minor": 0,
  "metadata": {
    "colab": {
      "name": "DE_teste_jun_16_2019.ipynb",
      "version": "0.3.2",
      "provenance": [],
      "collapsed_sections": [],
      "include_colab_link": true
    },
    "kernelspec": {
      "name": "python3",
      "display_name": "Python 3"
    }
  },
  "cells": [
    {
      "cell_type": "markdown",
      "metadata": {
        "id": "view-in-github",
        "colab_type": "text"
      },
      "source": [
        "<a href=\"https://colab.research.google.com/github/ucfilho/optim_raianars/blob/master/DE_teste_jun_16_2019.ipynb\" target=\"_parent\"><img src=\"https://colab.research.google.com/assets/colab-badge.svg\" alt=\"Open In Colab\"/></a>"
      ]
    },
    {
      "cell_type": "code",
      "metadata": {
        "id": "NhquPhp8AnrK",
        "colab_type": "code",
        "colab": {}
      },
      "source": [
        "import numpy as np\n",
        "import pandas as pd\n",
        "from scipy import optimize"
      ],
      "execution_count": 0,
      "outputs": []
    },
    {
      "cell_type": "code",
      "metadata": {
        "id": "bQsxevKFiMpv",
        "colab_type": "code",
        "colab": {}
      },
      "source": [
        "def fobj(x):\n",
        "  value = 0\n",
        "  for i in range(len(x)):\n",
        "      value += x[i]**2\n",
        "  return value / len(x)"
      ],
      "execution_count": 0,
      "outputs": []
    },
    {
      "cell_type": "code",
      "metadata": {
        "id": "h50KpiG1A6A6",
        "colab_type": "code",
        "colab": {}
      },
      "source": [
        "bounds=[(-100, 100)] * 32\n",
        "ret = optimize.differential_evolution(fobj,bounds,\n",
        "                                      init=\"latinhypercube\", # obs: init=\"random\"\n",
        "                                      maxiter=200, popsize=50,recombination=0.5)"
      ],
      "execution_count": 0,
      "outputs": []
    },
    {
      "cell_type": "code",
      "metadata": {
        "id": "bIgjNxroA-iB",
        "colab_type": "code",
        "outputId": "7010fc8a-6fd1-45e2-c03d-60900c0dbce7",
        "colab": {
          "base_uri": "https://localhost:8080/",
          "height": 163
        }
      },
      "source": [
        "print(\"global minimum: x = \",ret.x, \"f(x0) = \",ret.fun)"
      ],
      "execution_count": 4,
      "outputs": [
        {
          "output_type": "stream",
          "text": [
            "global minimum: x =  [ 1.35800401e-07 -1.03906565e-07  4.71478173e-07  2.36849983e-07\n",
            " -1.61109815e-07  3.66319947e-07  5.55332979e-07 -1.92249223e-07\n",
            "  2.22726346e-07  5.07991896e-09 -1.10180279e-07 -4.39306453e-07\n",
            " -1.23199568e-07 -9.01705624e-08  4.02544937e-07  1.43501005e-07\n",
            "  4.45509171e-07  2.12933535e-07 -5.22378331e-08 -1.63108267e-07\n",
            " -1.63336073e-07 -5.67169433e-07 -2.06383356e-07 -3.14824588e-07\n",
            " -2.70423229e-07 -2.11591278e-07  1.32010493e-07  2.89967701e-07\n",
            " -2.43486448e-07 -1.12766179e-07 -1.21333666e-07 -1.41045173e-07] f(x0) =  7.38462914270997e-14\n"
          ],
          "name": "stdout"
        }
      ]
    }
  ]
}