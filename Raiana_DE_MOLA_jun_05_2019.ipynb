{
  "nbformat": 4,
  "nbformat_minor": 0,
  "metadata": {
    "colab": {
      "name": "Raiana_DE_MOLA_jun_05_2019.ipynb",
      "version": "0.3.2",
      "provenance": [],
      "collapsed_sections": [],
      "include_colab_link": true
    },
    "kernelspec": {
      "name": "python3",
      "display_name": "Python 3"
    }
  },
  "cells": [
    {
      "cell_type": "markdown",
      "metadata": {
        "id": "view-in-github",
        "colab_type": "text"
      },
      "source": [
        "<a href=\"https://colab.research.google.com/github/ucfilho/optim_raianars/blob/master/Raiana_DE_MOLA_jun_05_2019.ipynb\" target=\"_parent\"><img src=\"https://colab.research.google.com/assets/colab-badge.svg\" alt=\"Open In Colab\"/></a>"
      ]
    },
    {
      "cell_type": "code",
      "metadata": {
        "id": "NhquPhp8AnrK",
        "colab_type": "code",
        "colab": {}
      },
      "source": [
        "import numpy as np\n",
        "import pandas as pd\n",
        "from scipy import optimize"
      ],
      "execution_count": 0,
      "outputs": []
    },
    {
      "cell_type": "code",
      "metadata": {
        "id": "KwqpdkPbArHW",
        "colab_type": "code",
        "colab": {
          "base_uri": "https://localhost:8080/",
          "height": 55
        },
        "outputId": "3e55c5b1-3489-4516-ca4a-98ae1ff02ed4"
      },
      "source": [
        "'''Rosembrock Function'''\n",
        "'''def function(x):\n",
        "    fun=0\n",
        "    a=1.0\n",
        "    b=100.0\n",
        "    fun = (a-x[0])**2 + b*(x[1]-x[0]**2)**2\n",
        "    return fun'''"
      ],
      "execution_count": 2,
      "outputs": [
        {
          "output_type": "execute_result",
          "data": {
            "text/plain": [
              "'def function(x):\\n    fun=0\\n    a=1.0\\n    b=100.0\\n    fun = (a-x[0])**2 + b*(x[1]-x[0]**2)**2\\n    return fun'"
            ]
          },
          "metadata": {
            "tags": []
          },
          "execution_count": 2
        }
      ]
    },
    {
      "cell_type": "code",
      "metadata": {
        "id": "LbaewXipBVIV",
        "colab_type": "code",
        "colab": {}
      },
      "source": [
        "'''Mola Function'''\n",
        "def function(x):\n",
        "  g1=1-(x[1]**3*x[2])/(71785*(x[0]**4))\n",
        "  g2=(4*(x[1]**2)-x[0]*x[1])/(12566*x[1]*(x[0]**3)-12566*(x[0]**4))+(1/(5108*x[0]**2))-1\n",
        "  #g2=(4*(x[1]**2)-x[0]*x[1])/(12566*x[1]*(x[0]**3)-12566*(x[0]**4))+(1/(5108*x[0]**2))\n",
        "  #g2=(4*(x[1]**2)-x[0]*x[1])/(12566*x[1]*(x[0]**3)-12566*(x[0]**4))-(1/(5108*x[0]**2))\n",
        "  #g2=0\n",
        "  g3=1-140.45*x[0]/((x[1]**2)*x[2])\n",
        "  g4=(x[0]+x[1])/1.5-1\n",
        "  #g4=(x[0]+x[1])/1.5\n",
        "  fx=(x[2]+2)*x[1]*x[0]**2\n",
        "\n",
        "  if g1<=0:\n",
        "    g1=0\n",
        "  else:\n",
        "    g1=1e99  \n",
        "  if g2<=0:\n",
        "    g2=0\n",
        "  else:\n",
        "    g2=1e99\n",
        "  if g3<=0:\n",
        "    g3=0\n",
        "  else:\n",
        "    g3=1\n",
        "  if g4<=0:\n",
        "    g4=0\n",
        "  else:\n",
        "    g4=1e99\n",
        "  MIN=[g1,g2,g3,g4,fx]\n",
        "  fun=max(MIN)\n",
        "  return fun\n"
      ],
      "execution_count": 0,
      "outputs": []
    },
    {
      "cell_type": "code",
      "metadata": {
        "id": "Iz6w9i9xJGU1",
        "colab_type": "code",
        "colab": {}
      },
      "source": [
        "'''Mola Function'''\n",
        "def Testa_mola(x):\n",
        "  g1=1-(x[1]**3*x[2])/(71785*(x[0]**4))\n",
        "  g2=(4*(x[1]**2)-x[0]*x[1])/(12566*x[1]*(x[0]**3)-12566*(x[0]**4))+(1/(5108*x[0]**2))-1\n",
        "  #g2=(4*(x[1]**2)-x[0]*x[1])/(12566*x[1]*(x[0]**3)-12566*(x[0]**4))+(1/(5108*x[0]**2))\n",
        "  #g2=(4*(x[1]**2)-x[0]*x[1])/(12566*x[1]*(x[0]**3)-12566*(x[0]**4))-(1/(5108*x[0]**2))\n",
        "  #g2=0\n",
        "  g3=1-140.45*x[0]/((x[1]**2)*x[2])\n",
        "  g4=(x[0]+x[1])/1.5-1\n",
        "  #g4=(x[0]+x[1])/1.5\n",
        "  fx=(x[2]+2)*x[1]*x[0]**2\n",
        "  VETOR=[g1,g2,g3,g4,fx]\n",
        "  return VETOR\n"
      ],
      "execution_count": 0,
      "outputs": []
    },
    {
      "cell_type": "code",
      "metadata": {
        "id": "7ncTIeNIAzKY",
        "colab_type": "code",
        "colab": {}
      },
      "source": [
        "x0 = np.array([2., 2.])\n",
        "# Initial guess."
      ],
      "execution_count": 0,
      "outputs": []
    },
    {
      "cell_type": "code",
      "metadata": {
        "id": "h50KpiG1A6A6",
        "colab_type": "code",
        "colab": {}
      },
      "source": [
        "#MIN=[0.05,0.25,2]\n",
        "#MAX=[2,1.3,15]\n",
        "bounds = [(0.05, 2), (0.25, 1.3),(2,15)]\n",
        "ret = optimize.differential_evolution(function,bounds,\n",
        "                                      init=\"latinhypercube\", # obs: init=\"random\"\n",
        "                                      maxiter=1000, popsize=50,recombination=0.5)"
      ],
      "execution_count": 0,
      "outputs": []
    },
    {
      "cell_type": "code",
      "metadata": {
        "id": "bIgjNxroA-iB",
        "colab_type": "code",
        "colab": {
          "base_uri": "https://localhost:8080/",
          "height": 36
        },
        "outputId": "106cd772-8114-4ee2-fc92-d1fcaa3c4a64"
      },
      "source": [
        "print(\"global minimum: x = \",ret.x, \"f(x0) = \",ret.fun)"
      ],
      "execution_count": 7,
      "outputs": [
        {
          "output_type": "stream",
          "text": [
            "global minimum: x =  [ 0.05150402  0.35228153 11.55436833] f(x0) =  0.012666347122169219\n"
          ],
          "name": "stdout"
        }
      ]
    },
    {
      "cell_type": "code",
      "metadata": {
        "id": "Rlf3dDynJfuX",
        "colab_type": "code",
        "colab": {
          "base_uri": "https://localhost:8080/",
          "height": 112
        },
        "outputId": "2e44aa62-5b09-4bb1-f012-465000cb88d2"
      },
      "source": [
        "'''spring'''\n",
        "#otimo cpso= [0.051728,0.357644,11.244543]=0.0126747\n",
        "#Fun([0.051728,0.357644,11.244543])\n",
        "#g1,g2,g3,g4\n",
        "x1=0.051728\n",
        "x2=0.357644\n",
        "x3=11.244543\n",
        "z=[x1,x2,x3]\n",
        "Resp=Testa_mola(z)\n",
        "print(\"--- otimo--------\")\n",
        "print(Resp)\n",
        "#VETOR=[g1,g2,g3,g4,fx]\n",
        "Resp=Testa_mola(ret.x)\n",
        "print(\"--- calculado--------\")\n",
        "print(Resp)"
      ],
      "execution_count": 8,
      "outputs": [
        {
          "output_type": "stream",
          "text": [
            "--- otimo--------\n",
            "[-0.0008250946999455167, -2.527414270114825e-05, -4.051306651765286, -0.7270853333333334, 0.01267474689929244]\n",
            "--- calculado--------\n",
            "[-4.061483127393295e-05, -2.0029436258450772e-06, -4.044718261786228, -0.7308096373376616, 0.012666347122169219]\n"
          ],
          "name": "stdout"
        }
      ]
    }
  ]
}