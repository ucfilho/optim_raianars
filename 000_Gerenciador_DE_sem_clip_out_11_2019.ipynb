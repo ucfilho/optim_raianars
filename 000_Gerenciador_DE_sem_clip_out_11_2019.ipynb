{
  "nbformat": 4,
  "nbformat_minor": 0,
  "metadata": {
    "colab": {
      "name": "000-Gerenciador_DE_sem_clip_out_11_2019.ipynb",
      "provenance": [],
      "include_colab_link": true
    },
    "kernelspec": {
      "name": "python3",
      "display_name": "Python 3"
    }
  },
  "cells": [
    {
      "cell_type": "markdown",
      "metadata": {
        "id": "view-in-github",
        "colab_type": "text"
      },
      "source": [
        "<a href=\"https://colab.research.google.com/github/ucfilho/optim_raianars/blob/master/000_Gerenciador_DE_sem_clip_out_11_2019.ipynb\" target=\"_parent\"><img src=\"https://colab.research.google.com/assets/colab-badge.svg\" alt=\"Open In Colab\"/></a>"
      ]
    },
    {
      "cell_type": "code",
      "metadata": {
        "id": "e9SUtOlp7WlE",
        "colab_type": "code",
        "colab": {
          "base_uri": "https://localhost:8080/",
          "height": 167
        },
        "outputId": "9313e661-26ba-4c98-fe47-08b249575137"
      },
      "source": [
        "!git clone https://github.com/ucfilho/optim_raianars/ #clonar do Github\n",
        "%cd optim_raianars\n",
        "#!ls"
      ],
      "execution_count": 7,
      "outputs": [
        {
          "output_type": "stream",
          "text": [
            "Cloning into 'optim_raianars'...\n",
            "remote: Enumerating objects: 25, done.\u001b[K\n",
            "remote: Counting objects:   4% (1/25)\u001b[K\rremote: Counting objects:   8% (2/25)\u001b[K\rremote: Counting objects:  12% (3/25)\u001b[K\rremote: Counting objects:  16% (4/25)\u001b[K\rremote: Counting objects:  20% (5/25)\u001b[K\rremote: Counting objects:  24% (6/25)\u001b[K\rremote: Counting objects:  28% (7/25)\u001b[K\rremote: Counting objects:  32% (8/25)\u001b[K\rremote: Counting objects:  36% (9/25)\u001b[K\rremote: Counting objects:  40% (10/25)\u001b[K\rremote: Counting objects:  44% (11/25)\u001b[K\rremote: Counting objects:  48% (12/25)\u001b[K\rremote: Counting objects:  52% (13/25)\u001b[K\rremote: Counting objects:  56% (14/25)\u001b[K\rremote: Counting objects:  60% (15/25)\u001b[K\rremote: Counting objects:  64% (16/25)\u001b[K\rremote: Counting objects:  68% (17/25)\u001b[K\rremote: Counting objects:  72% (18/25)\u001b[K\rremote: Counting objects:  76% (19/25)\u001b[K\rremote: Counting objects:  80% (20/25)\u001b[K\rremote: Counting objects:  84% (21/25)\u001b[K\rremote: Counting objects:  88% (22/25)\u001b[K\rremote: Counting objects:  92% (23/25)\u001b[K\rremote: Counting objects:  96% (24/25)\u001b[K\rremote: Counting objects: 100% (25/25)\u001b[K\rremote: Counting objects: 100% (25/25), done.\u001b[K\n",
            "remote: Compressing objects:   4% (1/25)\u001b[K\rremote: Compressing objects:   8% (2/25)\u001b[K\rremote: Compressing objects:  12% (3/25)\u001b[K\rremote: Compressing objects:  16% (4/25)\u001b[K\rremote: Compressing objects:  20% (5/25)\u001b[K\rremote: Compressing objects:  24% (6/25)\u001b[K\rremote: Compressing objects:  28% (7/25)\u001b[K\rremote: Compressing objects:  32% (8/25)\u001b[K\rremote: Compressing objects:  36% (9/25)\u001b[K\rremote: Compressing objects:  40% (10/25)\u001b[K\rremote: Compressing objects:  44% (11/25)\u001b[K\rremote: Compressing objects:  48% (12/25)\u001b[K\rremote: Compressing objects:  52% (13/25)\u001b[K\rremote: Compressing objects:  56% (14/25)\u001b[K\rremote: Compressing objects:  60% (15/25)\u001b[K\rremote: Compressing objects:  64% (16/25)\u001b[K\rremote: Compressing objects:  68% (17/25)\u001b[K\rremote: Compressing objects:  72% (18/25)\u001b[K\rremote: Compressing objects:  76% (19/25)\u001b[K\rremote: Compressing objects:  80% (20/25)\u001b[K\rremote: Compressing objects:  84% (21/25)\u001b[K\rremote: Compressing objects:  88% (22/25)\u001b[K\rremote: Compressing objects:  92% (23/25)\u001b[K\rremote: Compressing objects:  96% (24/25)\u001b[K\rremote: Compressing objects: 100% (25/25)\u001b[K\rremote: Compressing objects: 100% (25/25), done.\u001b[K\n",
            "Receiving objects:   0% (1/446)   \rReceiving objects:   1% (5/446)   \rReceiving objects:   2% (9/446)   \rReceiving objects:   3% (14/446)   \rReceiving objects:   4% (18/446)   \rReceiving objects:   5% (23/446)   \rReceiving objects:   6% (27/446)   \rReceiving objects:   7% (32/446)   \rReceiving objects:   8% (36/446)   \rReceiving objects:   9% (41/446)   \rReceiving objects:  10% (45/446)   \rReceiving objects:  11% (50/446)   \rReceiving objects:  12% (54/446)   \rReceiving objects:  13% (58/446)   \rReceiving objects:  14% (63/446)   \rReceiving objects:  15% (67/446)   \rReceiving objects:  16% (72/446)   \rReceiving objects:  17% (76/446)   \rReceiving objects:  18% (81/446)   \rReceiving objects:  19% (85/446)   \rReceiving objects:  20% (90/446)   \rReceiving objects:  21% (94/446)   \rReceiving objects:  22% (99/446)   \rReceiving objects:  23% (103/446)   \rReceiving objects:  24% (108/446)   \rReceiving objects:  25% (112/446)   \rReceiving objects:  26% (116/446)   \rReceiving objects:  27% (121/446)   \rReceiving objects:  28% (125/446)   \rReceiving objects:  29% (130/446)   \rReceiving objects:  30% (134/446)   \rReceiving objects:  31% (139/446)   \rReceiving objects:  32% (143/446)   \rReceiving objects:  33% (148/446)   \rReceiving objects:  34% (152/446)   \rReceiving objects:  35% (157/446)   \rReceiving objects:  36% (161/446)   \rReceiving objects:  37% (166/446)   \rReceiving objects:  38% (170/446)   \rReceiving objects:  39% (174/446)   \rReceiving objects:  40% (179/446)   \rReceiving objects:  41% (183/446)   \rReceiving objects:  42% (188/446)   \rReceiving objects:  43% (192/446)   \rReceiving objects:  44% (197/446)   \rReceiving objects:  45% (201/446)   \rReceiving objects:  46% (206/446)   \rReceiving objects:  47% (210/446)   \rReceiving objects:  48% (215/446)   \rReceiving objects:  49% (219/446)   \rReceiving objects:  50% (223/446)   \rReceiving objects:  51% (228/446)   \rReceiving objects:  52% (232/446)   \rReceiving objects:  53% (237/446)   \rReceiving objects:  54% (241/446)   \rReceiving objects:  55% (246/446)   \rReceiving objects:  56% (250/446)   \rReceiving objects:  57% (255/446)   \rReceiving objects:  58% (259/446)   \rReceiving objects:  59% (264/446)   \rReceiving objects:  60% (268/446)   \rReceiving objects:  61% (273/446)   \rReceiving objects:  62% (277/446)   \rReceiving objects:  63% (281/446)   \rReceiving objects:  64% (286/446)   \rReceiving objects:  65% (290/446)   \rReceiving objects:  66% (295/446)   \rReceiving objects:  67% (299/446)   \rReceiving objects:  68% (304/446)   \rReceiving objects:  69% (308/446)   \rReceiving objects:  70% (313/446)   \rReceiving objects:  71% (317/446)   \rReceiving objects:  72% (322/446)   \rReceiving objects:  73% (326/446)   \rReceiving objects:  74% (331/446)   \rReceiving objects:  75% (335/446)   \rReceiving objects:  76% (339/446)   \rReceiving objects:  77% (344/446)   \rReceiving objects:  78% (348/446)   \rReceiving objects:  79% (353/446)   \rReceiving objects:  80% (357/446)   \rReceiving objects:  81% (362/446)   \rReceiving objects:  82% (366/446)   \rReceiving objects:  83% (371/446)   \rReceiving objects:  84% (375/446)   \rReceiving objects:  85% (380/446)   \rReceiving objects:  86% (384/446)   \rReceiving objects:  87% (389/446)   \rReceiving objects:  88% (393/446)   \rReceiving objects:  89% (397/446)   \rReceiving objects:  90% (402/446)   \rReceiving objects:  91% (406/446)   \rReceiving objects:  92% (411/446)   \rReceiving objects:  93% (415/446)   \rReceiving objects:  94% (420/446)   \rReceiving objects:  95% (424/446)   \rReceiving objects:  96% (429/446)   \rReceiving objects:  97% (433/446)   \rReceiving objects:  98% (438/446)   \rremote: Total 446 (delta 11), reused 0 (delta 0), pack-reused 421\u001b[K\n",
            "Receiving objects:  99% (442/446)   \rReceiving objects: 100% (446/446)   \rReceiving objects: 100% (446/446), 488.24 KiB | 9.57 MiB/s, done.\n",
            "Resolving deltas:   0% (0/243)   \rResolving deltas:   1% (3/243)   \rResolving deltas:  33% (82/243)   \rResolving deltas:  44% (109/243)   \rResolving deltas:  48% (117/243)   \rResolving deltas:  50% (123/243)   \rResolving deltas:  51% (126/243)   \rResolving deltas:  53% (130/243)   \rResolving deltas:  54% (132/243)   \rResolving deltas:  56% (138/243)   \rResolving deltas:  57% (139/243)   \rResolving deltas:  58% (141/243)   \rResolving deltas:  59% (145/243)   \rResolving deltas:  62% (151/243)   \rResolving deltas:  63% (155/243)   \rResolving deltas:  72% (175/243)   \rResolving deltas:  76% (187/243)   \rResolving deltas:  87% (212/243)   \rResolving deltas:  88% (214/243)   \rResolving deltas:  91% (222/243)   \rResolving deltas:  94% (230/243)   \rResolving deltas:  96% (234/243)   \rResolving deltas: 100% (243/243)   \rResolving deltas: 100% (243/243), done.\n",
            "/content/optim_raianars/optim_raianars/optim_raianars\n"
          ],
          "name": "stdout"
        }
      ]
    },
    {
      "cell_type": "code",
      "metadata": {
        "id": "1mImfgCL8AEj",
        "colab_type": "code",
        "colab": {}
      },
      "source": [
        "import numpy as np\n",
        "from random import randint\n",
        "import Function\n",
        "\n",
        "import DE_rotina_jul_23_2019\n",
        "\n",
        "NPAR=100\n",
        "its=100\n",
        "mut=0.7\n",
        "crossp=0.5"
      ],
      "execution_count": 0,
      "outputs": []
    },
    {
      "cell_type": "code",
      "metadata": {
        "id": "eGjoDmXd7yib",
        "colab_type": "code",
        "colab": {}
      },
      "source": [
        "#'''\n",
        "dim=2\n",
        "Fun=Function.Schwefel\n",
        "MAX=np.repeat(500,dim)\n",
        "MIN=np.repeat(-500,dim)\n",
        "  #Global optimum: f(xi)= 0 for xi = 420.968746 for i=1,...,n  ;  xi in [-500,500]  \n",
        "#'''"
      ],
      "execution_count": 0,
      "outputs": []
    },
    {
      "cell_type": "code",
      "metadata": {
        "id": "xOUygQKJ87vI",
        "colab_type": "code",
        "colab": {
          "base_uri": "https://localhost:8080/",
          "height": 36
        },
        "outputId": "c110f7f5-9bd2-46a9-a671-122e60827994"
      },
      "source": [
        "PAR=len(MAX)\n",
        "pop = np.random.rand(NPAR, PAR)\n",
        "diff=np.zeros(PAR)\n",
        "for i in range(PAR):\n",
        "  diff[i] = MAX[i]-MIN[i]\n",
        "X = MIN + pop * diff\n",
        "\n",
        "X,BEST,FOBEST,XY,BEST_XY= DE_rotina_jul_23_2019.de(MAX,MIN, mut, crossp, NPAR, its,Fun,X)\n",
        "\n",
        "print(\"GlobalParam e Solucao final:\", BEST_XY)"
      ],
      "execution_count": 12,
      "outputs": [
        {
          "output_type": "stream",
          "text": [
            "GlobalParam e Solucao final: [4.20968747e+02 4.20968746e+02 1.13686838e-13]\n"
          ],
          "name": "stdout"
        }
      ]
    }
  ]
}