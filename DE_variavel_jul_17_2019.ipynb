{
  "nbformat": 4,
  "nbformat_minor": 0,
  "metadata": {
    "colab": {
      "name": "DE_variavel_jul_17_2019.ipynb",
      "version": "0.3.2",
      "provenance": [],
      "collapsed_sections": [],
      "include_colab_link": true
    },
    "kernelspec": {
      "name": "python3",
      "display_name": "Python 3"
    }
  },
  "cells": [
    {
      "cell_type": "markdown",
      "metadata": {
        "id": "view-in-github",
        "colab_type": "text"
      },
      "source": [
        "<a href=\"https://colab.research.google.com/github/ucfilho/optim_raianars/blob/master/DE_variavel_jul_17_2019.ipynb\" target=\"_parent\"><img src=\"https://colab.research.google.com/assets/colab-badge.svg\" alt=\"Open In Colab\"/></a>"
      ]
    },
    {
      "cell_type": "code",
      "metadata": {
        "id": "DhYBZbKGWSve",
        "colab_type": "code",
        "outputId": "dab82754-beed-4cd6-a260-9568705b5ff2",
        "colab": {
          "base_uri": "https://localhost:8080/",
          "height": 35
        }
      },
      "source": [
        "import numpy as np\n",
        "\n",
        "'''https://pablormier.github.io/2017/09/05/a-tutorial-on-differential-evolution-with-python/'''"
      ],
      "execution_count": 1,
      "outputs": [
        {
          "output_type": "execute_result",
          "data": {
            "text/plain": [
              "'https://pablormier.github.io/2017/09/05/a-tutorial-on-differential-evolution-with-python/'"
            ]
          },
          "metadata": {
            "tags": []
          },
          "execution_count": 1
        }
      ]
    },
    {
      "cell_type": "code",
      "metadata": {
        "id": "QqHsYZ78UFoE",
        "colab_type": "code",
        "colab": {}
      },
      "source": [
        "def Fun( sol):\n",
        "  #Schwefel(x):\n",
        "  x=sol  \n",
        "  summ=0\n",
        "  for i in range(len(x)):\n",
        "    new=x[i]*np.sin((abs(x[i]))**0.5)\n",
        "    summ=summ+new\n",
        "    top=(418.9829*len(x)-summ) \n",
        "  \n",
        "  return top;"
      ],
      "execution_count": 0,
      "outputs": []
    },
    {
      "cell_type": "code",
      "metadata": {
        "id": "T_ejDzcvWRFT",
        "colab_type": "code",
        "colab": {}
      },
      "source": [
        "def de(MAX,MIN, mut, crossp, popsize, its,fobj,X):\n",
        "  \n",
        "  \n",
        "  Num=len(MAX)\n",
        "  bounds=[(0,0)] * Num\n",
        "  dimensions = len(bounds)  \n",
        "  \n",
        "  for i in range(Num):\n",
        "    bounds[i]=(MIN[i], MAX[i])\n",
        "  \n",
        "  #diff = np.fabs(MIN - MAX)\n",
        "  min_b, max_b = np.asarray(bounds).T\n",
        "  diff = np.fabs(min_b - max_b)\n",
        "  \n",
        "  \n",
        "\n",
        "    \n",
        "  for i in range(popsize):\n",
        "    for j in range(Num):\n",
        "      pop[i,j]=(X[i,j]-MIN[j])/(MAX[j]-MIN[j])\n",
        "\n",
        "  #print(pop[0,:]) \n",
        "  pop_denorm = X\n",
        "  fitness = np.asarray([fobj(ind) for ind in pop_denorm])\n",
        "  best_idx = np.argmin(fitness)\n",
        "  best = pop_denorm[best_idx]\n",
        "  for i in range(its):\n",
        "    for j in range(popsize):\n",
        "      \n",
        "      idxs = [idx for idx in range(popsize) if idx != j]\n",
        "      a, b, c = pop[np.random.choice(idxs, 3, replace = False)]\n",
        "      mutant = np.clip(a + mut * (b - c), 0, 1)\n",
        "      cross_points = np.random.rand(dimensions) < crossp\n",
        "      if not np.any(cross_points):\n",
        "        cross_points[np.random.randint(0, dimensions)] = True\n",
        "      trial = np.where(cross_points, mutant, pop[j])\n",
        "      trial_denorm = min_b + trial * diff\n",
        "      #print(\"=====\",trial,\"******\",trial_denorm )\n",
        "      f = fobj(trial_denorm)\n",
        "      if f < fitness[j]:\n",
        "        fitness[j] = f\n",
        "        pop[j] = trial\n",
        "        if f < fitness[best_idx]:\n",
        "          best_idx = j\n",
        "          best = trial\n",
        "          \n",
        "    pop_denorm = min_b + pop * diff\n",
        "    fitness = np.asarray([fobj(ind) for ind in pop_denorm])\n",
        "\n",
        "  fitness = np.asarray([fobj(ind) for ind in pop_denorm])\n",
        "  best_idx = np.argmin(fitness)\n",
        "  best = pop_denorm[best_idx]\n",
        "  fobj_best = fitness[best_idx]\n",
        "\n",
        "  \n",
        "  y=fitness\n",
        "  #xo=pop\n",
        "  xo = min_b + pop * diff\n",
        "  #xo=pop_denorm estou em duvidas aqui....\n",
        "  BEST=best\n",
        "  FOBEST=fobj_best\n",
        "  XY= np.c_[xo,y] #concatena x e y em 2 colunas            \n",
        "  XYsorted = XY[XY[:,-1].argsort()] #Ordena a partir da last col(Y) for all row\n",
        "  x=XYsorted[:,0:Num]\n",
        "  XY=XYsorted\n",
        "  BEST_XY =np.append(BEST,FOBEST)\n",
        "  #print(pop_denorm)\n",
        "  \n",
        "  return x,BEST,FOBEST,XY,BEST_XY"
      ],
      "execution_count": 0,
      "outputs": []
    },
    {
      "cell_type": "code",
      "metadata": {
        "id": "dnYr31x7W1-_",
        "colab_type": "code",
        "outputId": "3004f6cf-5fec-42c0-a31b-064b9a63e538",
        "colab": {
          "base_uri": "https://localhost:8080/",
          "height": 35
        }
      },
      "source": [
        "'''\n",
        "\n",
        "GlobalParam e Solucao: [4.20971300e+02 4.20968070e+02 4.20967728e+02 3.91941765e-05]\n",
        "Means of 1 runs: 3.91941764519288e-05\n",
        "'''"
      ],
      "execution_count": 4,
      "outputs": [
        {
          "output_type": "execute_result",
          "data": {
            "text/plain": [
              "'\\n\\nGlobalParam e Solucao: [4.20971300e+02 4.20968070e+02 4.20967728e+02 3.91941765e-05]\\nMeans of 1 runs: 3.91941764519288e-05\\n'"
            ]
          },
          "metadata": {
            "tags": []
          },
          "execution_count": 4
        }
      ]
    },
    {
      "cell_type": "code",
      "metadata": {
        "id": "YDHSz4EORjDw",
        "colab_type": "code",
        "colab": {
          "base_uri": "https://localhost:8080/",
          "height": 1000
        },
        "outputId": "75cda0f5-f70a-4f49-91e4-35ddcd476c53"
      },
      "source": [
        "\n",
        "MAX=[500,500,500] # MAXIMO DE CADA PARAMETRO\n",
        "MIN=[-500,-500,-500] # MINIMO DE CADA PARAMETRO\n",
        "PAR=3\n",
        "mut=0.8\n",
        "crossp=0.7\n",
        "NPAR=100\n",
        "ITE=100\n",
        "\n",
        "runtime=1\n",
        "its=1\n",
        "runs=ITE\n",
        "\n",
        "dimensions=len(MAX)\n",
        "\n",
        "pop = np.random.rand(NPAR, dimensions)\n",
        "diff=np.zeros(PAR)\n",
        "for i in range(PAR):\n",
        "  diff[i] = MAX[i]-MIN[i]\n",
        "X = MIN + pop * diff\n",
        "#print(X)\n",
        "\n",
        "for run in range(runs):\n",
        "  X,BEST,FOBEST,XY,BEST_XY= de(MAX,MIN, mut, crossp, NPAR, its,Fun,X)\n",
        "  print(\"Iteracao[\",run+1,\"] : GlobalParam e Solucao:\", BEST_XY)\n",
        "\n",
        "print(\"GlobalParam e Solucao final:\", BEST_XY)\n",
        "\n",
        "mean=np.average(FOBEST)\n",
        "\n",
        "\n",
        "print(\"Means of\",runtime,\"runs:\",mean,\"\\n\")"
      ],
      "execution_count": 5,
      "outputs": [
        {
          "output_type": "stream",
          "text": [
            "Iteracao[ 1 ] : GlobalParam e Solucao: [-500.          426.05133073  413.32560466  248.98352236]\n",
            "Iteracao[ 2 ] : GlobalParam e Solucao: [-500.          426.05133073  413.32560466  248.98352236]\n",
            "Iteracao[ 3 ] : GlobalParam e Solucao: [-500.          426.05133073  413.32560466  248.98352236]\n",
            "Iteracao[ 4 ] : GlobalParam e Solucao: [-500.          426.05133073  413.32560466  248.98352236]\n",
            "Iteracao[ 5 ] : GlobalParam e Solucao: [-500.          426.05133073  413.32560466  248.98352236]\n",
            "Iteracao[ 6 ] : GlobalParam e Solucao: [-500.          426.05133073  413.32560466  248.98352236]\n",
            "Iteracao[ 7 ] : GlobalParam e Solucao: [-500.          426.05133073  413.32560466  248.98352236]\n",
            "Iteracao[ 8 ] : GlobalParam e Solucao: [ 420.64922166 -500.          429.93125815  248.53679733]\n",
            "Iteracao[ 9 ] : GlobalParam e Solucao: [ 420.64922166 -500.          429.93125815  248.53679733]\n",
            "Iteracao[ 10 ] : GlobalParam e Solucao: [-309.28298869  391.53924195  413.51435012  234.49885694]\n",
            "Iteracao[ 11 ] : GlobalParam e Solucao: [ 433.8342801   422.46794764 -292.48191362  152.15407755]\n",
            "Iteracao[ 12 ] : GlobalParam e Solucao: [ 433.8342801   422.46794764 -292.48191362  152.15407755]\n",
            "Iteracao[ 13 ] : GlobalParam e Solucao: [ 433.8342801   422.46794764 -292.48191362  152.15407755]\n",
            "Iteracao[ 14 ] : GlobalParam e Solucao: [ 433.8342801   422.46794764 -292.48191362  152.15407755]\n",
            "Iteracao[ 15 ] : GlobalParam e Solucao: [ 433.8342801   422.46794764 -292.48191362  152.15407755]\n",
            "Iteracao[ 16 ] : GlobalParam e Solucao: [ 433.8342801   422.46794764 -292.48191362  152.15407755]\n",
            "Iteracao[ 17 ] : GlobalParam e Solucao: [ 433.8342801   422.46794764 -292.48191362  152.15407755]\n",
            "Iteracao[ 18 ] : GlobalParam e Solucao: [ 433.8342801   422.46794764 -292.48191362  152.15407755]\n",
            "Iteracao[ 19 ] : GlobalParam e Solucao: [ 433.8342801   422.46794764 -292.48191362  152.15407755]\n",
            "Iteracao[ 20 ] : GlobalParam e Solucao: [ 433.8342801   422.46794764 -292.48191362  152.15407755]\n",
            "Iteracao[ 21 ] : GlobalParam e Solucao: [414.3553727  440.73463668 428.55128317  61.46955648]\n",
            "Iteracao[ 22 ] : GlobalParam e Solucao: [414.3553727  440.73463668 428.55128317  61.46955648]\n",
            "Iteracao[ 23 ] : GlobalParam e Solucao: [414.3553727  440.73463668 428.55128317  61.46955648]\n",
            "Iteracao[ 24 ] : GlobalParam e Solucao: [414.3553727  440.73463668 428.55128317  61.46955648]\n",
            "Iteracao[ 25 ] : GlobalParam e Solucao: [414.3553727  440.73463668 428.55128317  61.46955648]\n",
            "Iteracao[ 26 ] : GlobalParam e Solucao: [414.3553727  440.73463668 428.55128317  61.46955648]\n",
            "Iteracao[ 27 ] : GlobalParam e Solucao: [413.32801818 429.55841743 432.54429643  33.50000114]\n",
            "Iteracao[ 28 ] : GlobalParam e Solucao: [413.32801818 429.55841743 432.54429643  33.50000114]\n",
            "Iteracao[ 29 ] : GlobalParam e Solucao: [412.63732595 422.71732271 415.19971498  13.26926464]\n",
            "Iteracao[ 30 ] : GlobalParam e Solucao: [412.63732595 422.71732271 415.19971498  13.26926464]\n",
            "Iteracao[ 31 ] : GlobalParam e Solucao: [420.64922166 423.0941157  429.93125815  10.71340098]\n",
            "Iteracao[ 32 ] : GlobalParam e Solucao: [420.64922166 423.0941157  429.93125815  10.71340098]\n",
            "Iteracao[ 33 ] : GlobalParam e Solucao: [420.64922166 423.0941157  429.93125815  10.71340098]\n",
            "Iteracao[ 34 ] : GlobalParam e Solucao: [425.50839627 420.26732471 419.74464937   2.85337064]\n",
            "Iteracao[ 35 ] : GlobalParam e Solucao: [425.50839627 420.26732471 419.74464937   2.85337064]\n",
            "Iteracao[ 36 ] : GlobalParam e Solucao: [425.50839627 420.26732471 419.74464937   2.85337064]\n",
            "Iteracao[ 37 ] : GlobalParam e Solucao: [425.50839627 420.26732471 419.74464937   2.85337064]\n",
            "Iteracao[ 38 ] : GlobalParam e Solucao: [425.50839627 420.26732471 419.74464937   2.85337064]\n",
            "Iteracao[ 39 ] : GlobalParam e Solucao: [419.26950482 424.26364138 421.49716615   1.7702133 ]\n",
            "Iteracao[ 40 ] : GlobalParam e Solucao: [419.26950482 424.26364138 421.49716615   1.7702133 ]\n",
            "Iteracao[ 41 ] : GlobalParam e Solucao: [419.26950482 424.26364138 421.49716615   1.7702133 ]\n",
            "Iteracao[ 42 ] : GlobalParam e Solucao: [419.26950482 424.26364138 421.49716615   1.7702133 ]\n",
            "Iteracao[ 43 ] : GlobalParam e Solucao: [419.26950482 424.26364138 421.49716615   1.7702133 ]\n",
            "Iteracao[ 44 ] : GlobalParam e Solucao: [419.26950482 424.26364138 421.49716615   1.7702133 ]\n",
            "Iteracao[ 45 ] : GlobalParam e Solucao: [419.26950482 424.26364138 421.49716615   1.7702133 ]\n",
            "Iteracao[ 46 ] : GlobalParam e Solucao: [419.26950482 424.26364138 421.49716615   1.7702133 ]\n",
            "Iteracao[ 47 ] : GlobalParam e Solucao: [422.96569511 418.77382901 418.72565399   1.74494701]\n",
            "Iteracao[ 48 ] : GlobalParam e Solucao: [422.96569511 418.77382901 418.72565399   1.74494701]\n",
            "Iteracao[ 49 ] : GlobalParam e Solucao: [418.17983588 421.80697585 420.26697992   1.13086845]\n",
            "Iteracao[ 50 ] : GlobalParam e Solucao: [418.17983588 421.80697585 420.26697992   1.13086845]\n",
            "Iteracao[ 51 ] : GlobalParam e Solucao: [418.17983588 421.80697585 420.26697992   1.13086845]\n",
            "Iteracao[ 52 ] : GlobalParam e Solucao: [422.41902818 423.28965227 421.42801599   0.97230622]\n",
            "Iteracao[ 53 ] : GlobalParam e Solucao: [4.20942683e+02 4.20139925e+02 4.20621025e+02 1.02029234e-01]\n",
            "Iteracao[ 54 ] : GlobalParam e Solucao: [4.20942683e+02 4.20139925e+02 4.20621025e+02 1.02029234e-01]\n",
            "Iteracao[ 55 ] : GlobalParam e Solucao: [4.21458790e+02 4.21060815e+02 4.21216774e+02 3.91785517e-02]\n",
            "Iteracao[ 56 ] : GlobalParam e Solucao: [4.21458790e+02 4.21060815e+02 4.21216774e+02 3.91785517e-02]\n",
            "Iteracao[ 57 ] : GlobalParam e Solucao: [4.21458790e+02 4.21060815e+02 4.21216774e+02 3.91785517e-02]\n",
            "Iteracao[ 58 ] : GlobalParam e Solucao: [4.21458790e+02 4.21060815e+02 4.21216774e+02 3.91785517e-02]\n",
            "Iteracao[ 59 ] : GlobalParam e Solucao: [4.21458790e+02 4.21060815e+02 4.21216774e+02 3.91785517e-02]\n",
            "Iteracao[ 60 ] : GlobalParam e Solucao: [4.21458790e+02 4.21060815e+02 4.21216774e+02 3.91785517e-02]\n",
            "Iteracao[ 61 ] : GlobalParam e Solucao: [4.21458790e+02 4.21060815e+02 4.21216774e+02 3.91785517e-02]\n",
            "Iteracao[ 62 ] : GlobalParam e Solucao: [4.20851864e+02 4.21052660e+02 4.20661112e+02 1.45909082e-02]\n",
            "Iteracao[ 63 ] : GlobalParam e Solucao: [4.20851864e+02 4.21052660e+02 4.20661112e+02 1.45909082e-02]\n",
            "Iteracao[ 64 ] : GlobalParam e Solucao: [4.20851864e+02 4.21052660e+02 4.20661112e+02 1.45909082e-02]\n",
            "Iteracao[ 65 ] : GlobalParam e Solucao: [4.20942037e+02 4.20684454e+02 4.20874936e+02 1.14358588e-02]\n",
            "Iteracao[ 66 ] : GlobalParam e Solucao: [4.20942037e+02 4.20684454e+02 4.20874936e+02 1.14358588e-02]\n",
            "Iteracao[ 67 ] : GlobalParam e Solucao: [4.21114052e+02 4.20919501e+02 4.21095554e+02 5.03770190e-03]\n",
            "Iteracao[ 68 ] : GlobalParam e Solucao: [4.21114052e+02 4.20919501e+02 4.21095554e+02 5.03770190e-03]\n",
            "Iteracao[ 69 ] : GlobalParam e Solucao: [4.21114052e+02 4.20919501e+02 4.21095554e+02 5.03770190e-03]\n",
            "Iteracao[ 70 ] : GlobalParam e Solucao: [4.21098941e+02 4.20997547e+02 4.21071393e+02 3.61141584e-03]\n",
            "Iteracao[ 71 ] : GlobalParam e Solucao: [4.21098941e+02 4.20997547e+02 4.21071393e+02 3.61141584e-03]\n",
            "Iteracao[ 72 ] : GlobalParam e Solucao: [4.21098941e+02 4.20997547e+02 4.21071393e+02 3.61141584e-03]\n",
            "Iteracao[ 73 ] : GlobalParam e Solucao: [4.21020082e+02 4.20839486e+02 4.21012827e+02 2.72411337e-03]\n",
            "Iteracao[ 74 ] : GlobalParam e Solucao: [4.21020082e+02 4.20839486e+02 4.21012827e+02 2.72411337e-03]\n",
            "Iteracao[ 75 ] : GlobalParam e Solucao: [4.21024335e+02 4.20927167e+02 4.20958981e+02 6.58289702e-04]\n",
            "Iteracao[ 76 ] : GlobalParam e Solucao: [4.21024335e+02 4.20927167e+02 4.20958981e+02 6.58289702e-04]\n",
            "Iteracao[ 77 ] : GlobalParam e Solucao: [4.21024335e+02 4.20927167e+02 4.20958981e+02 6.58289702e-04]\n",
            "Iteracao[ 78 ] : GlobalParam e Solucao: [4.21024335e+02 4.20927167e+02 4.20958981e+02 6.58289702e-04]\n",
            "Iteracao[ 79 ] : GlobalParam e Solucao: [4.21024335e+02 4.20927167e+02 4.20958981e+02 6.58289702e-04]\n",
            "Iteracao[ 80 ] : GlobalParam e Solucao: [4.21024335e+02 4.20927167e+02 4.20958981e+02 6.58289702e-04]\n",
            "Iteracao[ 81 ] : GlobalParam e Solucao: [4.20966266e+02 4.20952521e+02 4.20944588e+02 1.45818300e-04]\n",
            "Iteracao[ 82 ] : GlobalParam e Solucao: [4.20966266e+02 4.20952521e+02 4.20944588e+02 1.45818300e-04]\n",
            "Iteracao[ 83 ] : GlobalParam e Solucao: [4.20966266e+02 4.20952521e+02 4.20944588e+02 1.45818300e-04]\n",
            "Iteracao[ 84 ] : GlobalParam e Solucao: [4.20966266e+02 4.20952521e+02 4.20944588e+02 1.45818300e-04]\n",
            "Iteracao[ 85 ] : GlobalParam e Solucao: [4.20966266e+02 4.20952521e+02 4.20944588e+02 1.45818300e-04]\n",
            "Iteracao[ 86 ] : GlobalParam e Solucao: [4.20966266e+02 4.20952521e+02 4.20944588e+02 1.45818300e-04]\n",
            "Iteracao[ 87 ] : GlobalParam e Solucao: [4.20966266e+02 4.20952521e+02 4.20944588e+02 1.45818300e-04]\n",
            "Iteracao[ 88 ] : GlobalParam e Solucao: [4.20969346e+02 4.20952520e+02 4.20958626e+02 8.43765577e-05]\n",
            "Iteracao[ 89 ] : GlobalParam e Solucao: [4.20969346e+02 4.20952520e+02 4.20958626e+02 8.43765577e-05]\n",
            "Iteracao[ 90 ] : GlobalParam e Solucao: [4.20966301e+02 4.20955723e+02 4.20956705e+02 7.86347337e-05]\n",
            "Iteracao[ 91 ] : GlobalParam e Solucao: [4.20966301e+02 4.20955723e+02 4.20956705e+02 7.86347337e-05]\n",
            "Iteracao[ 92 ] : GlobalParam e Solucao: [4.20966301e+02 4.20955723e+02 4.20956705e+02 7.86347337e-05]\n",
            "Iteracao[ 93 ] : GlobalParam e Solucao: [4.20960241e+02 4.20964392e+02 4.20962878e+02 5.40492861e-05]\n",
            "Iteracao[ 94 ] : GlobalParam e Solucao: [4.20960241e+02 4.20964392e+02 4.20962878e+02 5.40492861e-05]\n",
            "Iteracao[ 95 ] : GlobalParam e Solucao: [4.20967160e+02 4.20967297e+02 4.20974020e+02 4.22743651e-05]\n",
            "Iteracao[ 96 ] : GlobalParam e Solucao: [4.20967160e+02 4.20967297e+02 4.20974020e+02 4.22743651e-05]\n",
            "Iteracao[ 97 ] : GlobalParam e Solucao: [4.20967160e+02 4.20967297e+02 4.20974020e+02 4.22743651e-05]\n",
            "Iteracao[ 98 ] : GlobalParam e Solucao: [4.20966561e+02 4.20969211e+02 4.20967335e+02 3.90637888e-05]\n",
            "Iteracao[ 99 ] : GlobalParam e Solucao: [4.20966561e+02 4.20969211e+02 4.20967335e+02 3.90637888e-05]\n",
            "Iteracao[ 100 ] : GlobalParam e Solucao: [4.20966561e+02 4.20969211e+02 4.20967335e+02 3.90637888e-05]\n",
            "GlobalParam e Solucao final: [4.20966561e+02 4.20969211e+02 4.20967335e+02 3.90637888e-05]\n",
            "Means of 1 runs: 3.90637887903722e-05 \n",
            "\n"
          ],
          "name": "stdout"
        }
      ]
    }
  ]
}