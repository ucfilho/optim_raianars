{
  "nbformat": 4,
  "nbformat_minor": 0,
  "metadata": {
    "colab": {
      "name": "GWO_variavel_jul_18_2019.ipynb",
      "version": "0.3.2",
      "provenance": [],
      "collapsed_sections": [],
      "include_colab_link": true
    },
    "kernelspec": {
      "display_name": "Python 3",
      "language": "python",
      "name": "python3"
    }
  },
  "cells": [
    {
      "cell_type": "markdown",
      "metadata": {
        "id": "view-in-github",
        "colab_type": "text"
      },
      "source": [
        "<a href=\"https://colab.research.google.com/github/ucfilho/optim_raianars/blob/master/GWO_variavel_jul_18_2019.ipynb\" target=\"_parent\"><img src=\"https://colab.research.google.com/assets/colab-badge.svg\" alt=\"Open In Colab\"/></a>"
      ]
    },
    {
      "cell_type": "code",
      "metadata": {
        "id": "vfr-WJeoITG0",
        "colab_type": "code",
        "outputId": "b4f8ec23-57fe-4566-8a9f-ebdb618ae3aa",
        "colab": {
          "base_uri": "https://localhost:8080/",
          "height": 35
        }
      },
      "source": [
        "import numpy as np\n",
        "from random import randint\n",
        "print(\"hello world, I am envolving !!!!\")\n"
      ],
      "execution_count": 12,
      "outputs": [
        {
          "output_type": "stream",
          "text": [
            "hello world, I am envolving !!!!\n"
          ],
          "name": "stdout"
        }
      ]
    },
    {
      "cell_type": "code",
      "metadata": {
        "id": "XnZITlaYITG_",
        "colab_type": "code",
        "colab": {}
      },
      "source": [
        "'''Rosembrock Function'''\n",
        "def Fun(x):\n",
        "    fun=0\n",
        "    a=1.0\n",
        "    b=100.0\n",
        "    fun = (a-x[0])**2 + b*(x[1]-x[0]**2)**2\n",
        "    return fun"
      ],
      "execution_count": 0,
      "outputs": []
    },
    {
      "cell_type": "code",
      "metadata": {
        "id": "NGpJGJlFITHE",
        "colab_type": "code",
        "colab": {}
      },
      "source": [
        "''' \n",
        "FOBJ gera vetorialmente os valores com a funcao objetivo escalar\n",
        "em outras palavras gera para populacao o valor da funcao \n",
        "a ser otimizada\n",
        "'''\n",
        "def FOBJ(X):\n",
        "    rows = X.shape[0]\n",
        "    fobj=np.zeros(rows)\n",
        "    for i in range(rows):\n",
        "        fobj[i]=Fun(X[i,])\n",
        "    return fobj"
      ],
      "execution_count": 0,
      "outputs": []
    },
    {
      "cell_type": "code",
      "metadata": {
        "id": "ASnJC2jQITHJ",
        "colab_type": "code",
        "colab": {}
      },
      "source": [
        "'''Enxame retorna a populacao aleatoria com todos valores entre MIN e MAX'''\n",
        "def Enxame(PAR,NPAR,MAX,MIN):\n",
        "    x=np.zeros((NPAR, len(MAX)))\n",
        "    for j in range(len(MAX)):\n",
        "        for i in range(NPAR):\n",
        "            x[i,j]=MIN[j]+(MAX[j]-MIN[j])*np.random.random()\n",
        "    return x"
      ],
      "execution_count": 0,
      "outputs": []
    },
    {
      "cell_type": "code",
      "metadata": {
        "id": "De1_VBasITHP",
        "colab_type": "code",
        "colab": {}
      },
      "source": [
        "''' \n",
        "Fit ordena os vetores do que fornece MIN a MAX valor de FOBJ : \n",
        "        eh necessario para encontrar alfa, beta e delta (lobos)\n",
        "'''\n",
        "def FIT(X):\n",
        "    fit=np.argsort(X)\n",
        "    return fit"
      ],
      "execution_count": 0,
      "outputs": []
    },
    {
      "cell_type": "code",
      "metadata": {
        "id": "4XuAl75DB3WZ",
        "colab_type": "code",
        "colab": {}
      },
      "source": [
        "''' \n",
        "Matriz_AC \n",
        "  retorna matriz A decrescente q vai 2 a zero\n",
        "  retorna matriz C\n",
        "  A decrescente q vai 2 a zero\n",
        "  C aleatoria q vai de \n",
        "'''\n",
        "def Matriz_AC(a,PAR,NPAR):\n",
        "  A=np.zeros((NPAR, PAR))\n",
        "  C=np.zeros((NPAR, PAR))\n",
        "  for j in range(PAR):\n",
        "    for i in range(NPAR):\n",
        "      A[i,j]=a*(2*np.random.random()-1)\n",
        "      C[i,j]=2*np.random.random()\n",
        "  return A,C"
      ],
      "execution_count": 0,
      "outputs": []
    },
    {
      "cell_type": "code",
      "metadata": {
        "id": "CpD36qqzN8WL",
        "colab_type": "code",
        "colab": {}
      },
      "source": [
        "# retorna quem sao os lobos alfa, beta e delta\n",
        "def Alfa_Beta_Delta(x):\n",
        "  ycal=FOBJ(x)\n",
        "  Ind=FIT(ycal) # ajusta para encontrar o indice dos os lobos alfa, beta e delta\n",
        "  Alfa=x[Ind[0],]\n",
        "  Beta=x[Ind[1],]\n",
        "  Delta=x[Ind[2],]\n",
        "  return Alfa,Beta,Delta"
      ],
      "execution_count": 0,
      "outputs": []
    },
    {
      "cell_type": "code",
      "metadata": {
        "id": "0f5uCL18JbEK",
        "colab_type": "code",
        "colab": {}
      },
      "source": [
        "# atualiza a matriz de populacoes\n",
        "def New_X(k,ITE,PAR,NPAR,Alfa,Beta,Delta,X):\n",
        "  a=2*(k-ITE)/(1-ITE) # parametro que varia de 2 a zero linermente: gera espiral\n",
        "  A1,C1=Matriz_AC(a,PAR,NPAR)# matriz da espiral e matrix aletoria range dobro\n",
        "  A2,C2=Matriz_AC(a,PAR,NPAR) # idem A1,C1\n",
        "  A3,C3=Matriz_AC(a,PAR,NPAR) # idem A1,C1\n",
        "  X1=np.zeros((NPAR, PAR)) # sera utilizado com base no alfa\n",
        "  X2=np.zeros((NPAR, PAR)) # sera utilizado com base no beta\n",
        "  X3=np.zeros((NPAR, PAR)) # sera utilizado com base no delta\n",
        "  for j in range(PAR):\n",
        "    for i in range(NPAR):\n",
        "      D1=abs(Alfa[j]*C1[i,j]-X[i,j])\n",
        "      D2=abs(Beta[j]*C2[i,j]-X[i,j])\n",
        "      D3=abs(Delta[j]*C3[i,j]-X[i,j])\n",
        "      X1=Alfa[j]-A1[i,j]*D1\n",
        "      X2=Beta[j]-A2[i,j]*D2\n",
        "      X3=Delta[j]-A3[i,j]*D3\n",
        "      X[i,j]=(X1+X2+X3)/3  # posicao provavel da presa q cada lobo enxerga\n",
        "  return X\n",
        "  "
      ],
      "execution_count": 0,
      "outputs": []
    },
    {
      "cell_type": "code",
      "metadata": {
        "id": "0F_-9y0RmE0u",
        "colab_type": "code",
        "colab": {}
      },
      "source": [
        "def GWO(k,ITE,PAR,NPAR,MAX,MIN,x): # realiza todas interacoes do GWO\n",
        "  k=k+1 #contador de iteracoes\n",
        "  #x=Enxame(PAR,NPAR,MAX,MIN) # inicializa lobos\n",
        "  Alfa,Beta,Delta=Alfa_Beta_Delta(x) #encontra Alfa,Beta e Delta (lobos)\n",
        "  #while(k<=ITE):\n",
        "  x=New_X(k,ITE,PAR,NPAR,Alfa,Beta,Delta,x) # atualiza lobos\n",
        "  Alfa,Beta,Delta=Alfa_Beta_Delta(x) # atualiza alfa,beta e delta...\n",
        "    \n",
        "  ycal=Fun(Alfa)\n",
        "  return Alfa,ycal,x"
      ],
      "execution_count": 0,
      "outputs": []
    },
    {
      "cell_type": "code",
      "metadata": {
        "id": "ZlE0Of68ynkV",
        "colab_type": "code",
        "outputId": "5dbe1a98-f9ac-4a55-f173-90b3e049aabd",
        "colab": {
          "base_uri": "https://localhost:8080/",
          "height": 54
        }
      },
      "source": [
        "NPAR=200 #Lobos\n",
        "\n",
        "ITE=50 #ITERACOES\n",
        "PAR=2 #NUM DE PARAMETROS A SER OTIMIZADOS\n",
        "MAX=[2,2] # MAXIMO DE CADA PARAMETRO\n",
        "MIN=[-2,-2] # MINIMO DE CADA PARAMETRO\n",
        "\n",
        "x=Enxame(PAR,NPAR,MAX,MIN) # inicializa lobos\n",
        "\n",
        "for i in range(ITE):\n",
        "  Alfa,ycal,x=GWO(i,ITE,PAR,NPAR,MAX,MIN,x)\n",
        "  \n",
        "print(\"Lobos=\",NPAR,\"      Iteracoes=\",ITE,\"   x=\",Alfa,\"       fobj=\",ycal,\"\\n\")\n"
      ],
      "execution_count": 21,
      "outputs": [
        {
          "output_type": "stream",
          "text": [
            "Lobos= 200       Iteracoes= 50    x= [0.99999107 0.99999021]        fobj= 6.5985474503392406e-09 \n",
            "\n"
          ],
          "name": "stdout"
        }
      ]
    },
    {
      "cell_type": "code",
      "metadata": {
        "id": "U0-HBAhZxCdi",
        "colab_type": "code",
        "colab": {
          "base_uri": "https://localhost:8080/",
          "height": 35
        },
        "outputId": "175c5031-f386-41d1-e20d-3c2c0227133c"
      },
      "source": [
        "\"\"\"Lobos= 200       Iteracoes= 50    x= [0.99990037 0.99956195]        fobj= 5.712733298466974e-06\"\"\""
      ],
      "execution_count": 22,
      "outputs": [
        {
          "output_type": "execute_result",
          "data": {
            "text/plain": [
              "'Lobos= 200       Iteracoes= 50    x= [0.99990037 0.99956195]        fobj= 5.712733298466974e-06'"
            ]
          },
          "metadata": {
            "tags": []
          },
          "execution_count": 22
        }
      ]
    }
  ]
}