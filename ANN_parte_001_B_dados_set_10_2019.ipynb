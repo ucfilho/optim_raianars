{
  "nbformat": 4,
  "nbformat_minor": 0,
  "metadata": {
    "colab": {
      "name": "ANN_parte_001_B_dados_set_10_2019.ipynb",
      "version": "0.3.2",
      "provenance": [],
      "collapsed_sections": [],
      "include_colab_link": true
    },
    "kernelspec": {
      "name": "python3",
      "display_name": "Python 3"
    }
  },
  "cells": [
    {
      "cell_type": "markdown",
      "metadata": {
        "id": "view-in-github",
        "colab_type": "text"
      },
      "source": [
        "<a href=\"https://colab.research.google.com/github/ucfilho/optim_raianars/blob/master/ANN_parte_001_B_dados_set_10_2019.ipynb\" target=\"_parent\"><img src=\"https://colab.research.google.com/assets/colab-badge.svg\" alt=\"Open In Colab\"/></a>"
      ]
    },
    {
      "cell_type": "code",
      "metadata": {
        "id": "EA026iFrxh_I",
        "colab_type": "code",
        "colab": {}
      },
      "source": [
        "import pandas as pd"
      ],
      "execution_count": 0,
      "outputs": []
    },
    {
      "cell_type": "code",
      "metadata": {
        "id": "pFVbNPiTtZPk",
        "colab_type": "code",
        "colab": {}
      },
      "source": [
        "from zipfile import ZipFile"
      ],
      "execution_count": 0,
      "outputs": []
    },
    {
      "cell_type": "code",
      "metadata": {
        "id": "lhwPcvHmtiwF",
        "colab_type": "code",
        "outputId": "1fe29d3f-0a13-4418-c36a-66e875d973f4",
        "colab": {
          "base_uri": "https://localhost:8080/",
          "height": 34
        }
      },
      "source": [
        "############################### Importar códigos\n",
        "\n",
        "!git clone https://github.com/ucfilho/optim_raianars/ #clonar do Github"
      ],
      "execution_count": 3,
      "outputs": [
        {
          "output_type": "stream",
          "text": [
            "fatal: destination path 'optim_raianars' already exists and is not an empty directory.\n"
          ],
          "name": "stdout"
        }
      ]
    },
    {
      "cell_type": "code",
      "metadata": {
        "id": "nSGThSZJtoBl",
        "colab_type": "code",
        "outputId": "96d42361-05d3-4fe6-99ae-9291dc317d16",
        "colab": {
          "base_uri": "https://localhost:8080/",
          "height": 34
        }
      },
      "source": [
        "%cd optim_raianars\n",
        "#!ls"
      ],
      "execution_count": 4,
      "outputs": [
        {
          "output_type": "stream",
          "text": [
            "/content/optim_raianars\n"
          ],
          "name": "stdout"
        }
      ]
    },
    {
      "cell_type": "code",
      "metadata": {
        "id": "aLtH5IdKtSkT",
        "colab_type": "code",
        "colab": {}
      },
      "source": [
        "# specifying the zip file name \n",
        "file_name = 'Fun_2D_set_10_2019.zip'\n",
        "# Create a ZipFile Object and load sample.zip in it\n",
        "with ZipFile(file_name, 'r') as zipObj:\n",
        "   # Get list of files names in zip\n",
        "   listOfiles = zipObj.namelist()\n",
        "   # Iterate over the list of file names in given list & print them\n",
        "   Nomes=[]\n",
        "   for elem in listOfiles:\n",
        "       #print(elem)\n",
        "       Nomes.append(elem)\n",
        "#print(Nomes)\n"
      ],
      "execution_count": 0,
      "outputs": []
    },
    {
      "cell_type": "code",
      "metadata": {
        "id": "C0mPfOHOuiAD",
        "colab_type": "code",
        "colab": {}
      },
      "source": [
        "# opening the zip file in READ mode \n",
        "with ZipFile(file_name, 'r') as zip: \n",
        "    # printing all the contents of the zip file \n",
        "    #zip.printdir() \n",
        "  \n",
        "    # extracting all the files \n",
        "    #print('Extracting all the files now...') \n",
        "    zip.extractall()\n"
      ],
      "execution_count": 0,
      "outputs": []
    },
    {
      "cell_type": "code",
      "metadata": {
        "id": "DXcShEtuQBkM",
        "colab_type": "code",
        "colab": {}
      },
      "source": [
        "#X_NOME=['DIVERSIDADE (DI)',  'DI RELATIVO','FRAC Its','VELOC FOBJ',\n",
        "       #'VELOC X','DELTA FOBJ','DELTA VX']\n",
        "X_NOME=['DI RELATIVO','FRAC Its','VELOC FOBJ',\n",
        "        'VELOC X','DELTA FOBJ','DELTA VX']\n",
        "Y_NOME=['NP','F','CR']"
      ],
      "execution_count": 0,
      "outputs": []
    },
    {
      "cell_type": "code",
      "metadata": {
        "id": "xGH8VMZ33V2I",
        "colab_type": "code",
        "colab": {}
      },
      "source": [
        "X = pd.DataFrame(columns=[X_NOME])\n",
        "Y = pd.DataFrame(columns=[Y_NOME])\n",
        "df = pd.read_csv(Nomes[0])\n",
        "X=df[X_NOME]\n",
        "Y=df[Y_NOME]\n",
        "#print(X)\n",
        "Xi = pd.DataFrame(columns=[X_NOME])\n",
        "df = pd.read_csv(Nomes[1])\n",
        "Xi=df[X_NOME]\n",
        "X=X.append(Xi,ignore_index=True)\n",
        "#print(X)"
      ],
      "execution_count": 0,
      "outputs": []
    },
    {
      "cell_type": "code",
      "metadata": {
        "id": "FQBf26pCORjz",
        "colab_type": "code",
        "colab": {
          "base_uri": "https://localhost:8080/",
          "height": 386
        },
        "outputId": "19c5c6d1-d644-4bce-d218-97af29cde274"
      },
      "source": [
        "strings = list(Y)\n",
        "Num=Y.shape[0]\n",
        "print(Y)\n",
        "for featur in strings:\n",
        "  for i in range((Num-1)):\n",
        "    Y[featur][i]=Y[featur][i]/Y[featur][i+1]\n",
        "Y=Y.drop(Y.index[-1])\n",
        "print(Y)"
      ],
      "execution_count": 9,
      "outputs": [
        {
          "output_type": "stream",
          "text": [
            "     NP         F        CR\n",
            "0  20.0  0.639630  0.763258\n",
            "1  10.0  0.580733  0.753521\n",
            "2  23.0  0.814182  0.938542\n",
            "3  20.0  0.735927  0.562259\n",
            "4  21.0  0.656266  0.735011\n",
            "5  23.0  0.665376  0.347028\n",
            "6  12.0  0.642654  0.833622\n",
            "7  18.0  0.474171  0.806100\n",
            "8  13.0  0.505778  0.145934\n",
            "9  20.0  0.400785  0.204193\n",
            "         NP         F        CR\n",
            "0  2.000000  1.101418  1.012922\n",
            "1  0.434783  0.713272  0.802863\n",
            "2  1.150000  1.106335  1.669235\n",
            "3  0.952381  1.121386  0.764967\n",
            "4  0.913043  0.986309  2.118017\n",
            "5  1.916667  1.035356  0.416289\n",
            "6  0.666667  1.355320  1.034142\n",
            "7  1.384615  0.937510  5.523734\n",
            "8  0.650000  1.261967  0.714686\n"
          ],
          "name": "stdout"
        }
      ]
    },
    {
      "cell_type": "code",
      "metadata": {
        "id": "HprdWoyYTy5F",
        "colab_type": "code",
        "colab": {
          "base_uri": "https://localhost:8080/",
          "height": 826
        },
        "outputId": "d30d6f48-350c-41b2-9b3e-5879c92f9c23"
      },
      "source": [
        "Num=len(Nomes)\n",
        "X = pd.DataFrame(columns=[X_NOME])\n",
        "Y = pd.DataFrame(columns=[Y_NOME])\n",
        "#print(Num)\n",
        "df = pd.read_csv(Nomes[0])\n",
        "X=df[X_NOME]\n",
        "X=X.drop(X.index[-1])\n",
        "\n",
        "for i in range(1,Num):\n",
        "  df = pd.read_csv(Nomes[i])\n",
        "  Xi = pd.DataFrame(columns=[X_NOME])\n",
        "  Xi=df[X_NOME]\n",
        "  Xi=Xi.drop(Xi.index[-1])\n",
        "  X=X.append(Xi,ignore_index=True)\n",
        "  \n",
        "print(X)\n"
      ],
      "execution_count": 10,
      "outputs": [
        {
          "output_type": "stream",
          "text": [
            "     DI RELATIVO  FRAC Its  VELOC FOBJ  VELOC X  DELTA FOBJ  DELTA VX\n",
            "0   2.016050e-01  0.111111         0.0      0.0         0.0       0.0\n",
            "1   1.328199e-01  0.166667         2.0      2.0         2.0       2.0\n",
            "2   1.032648e-01  0.294444         0.0      2.0        -2.0       0.0\n",
            "3   3.981691e-02  0.405556         1.0      2.0         1.0       0.0\n",
            "4   9.487582e-03  0.522222         2.0      2.0         1.0       0.0\n",
            "5   2.908284e-02  0.650000         0.0      0.0        -2.0      -2.0\n",
            "6   1.115496e-03  0.716667         2.0      1.0         2.0       1.0\n",
            "7   1.606859e-04  0.816667         2.0      2.0         0.0       1.0\n",
            "8   1.549150e-04  0.888889         0.0      0.0        -2.0      -2.0\n",
            "9   1.533884e+00  0.146667         0.0      0.0         0.0       0.0\n",
            "10  4.612833e-01  0.253333         2.0      2.0         2.0       2.0\n",
            "11  1.128510e-03  0.293333         2.0      2.0         0.0       0.0\n",
            "12  8.076574e-05  0.360000         2.0      0.0         0.0      -2.0\n",
            "13  2.581255e-05  0.486667         2.0      1.0         0.0       1.0\n",
            "14  3.271139e-06  0.546667         2.0      1.0         0.0       0.0\n",
            "15  2.042667e-06  0.693333         2.0      1.0         0.0       0.0\n",
            "16  2.823830e-07  0.800000         2.0      1.0         0.0       0.0\n",
            "17  5.078029e-08  0.886667         2.0      1.0         0.0       0.0\n",
            "18  9.617834e-01  0.111111         0.0      0.0         0.0       0.0\n",
            "19  4.327548e-01  0.166667         1.0      2.0         1.0       2.0\n",
            "20  5.651361e-01  0.294444         2.0      0.0         1.0      -2.0\n",
            "21  3.569391e-01  0.405556         2.0      0.0         0.0       0.0\n",
            "22  4.330649e-01  0.522222         2.0      2.0         0.0       2.0\n",
            "23  4.372258e-01  0.650000         2.0      0.0         0.0      -2.0\n",
            "24  4.298284e-05  0.716667         2.0      2.0         0.0       2.0\n",
            "25  2.501657e-06  0.816667         2.0      1.0         0.0      -1.0\n",
            "26  3.374407e-07  0.888889         2.0      1.0         0.0       0.0\n",
            "27  5.264169e-02  0.109524         0.0      0.0         0.0       0.0\n",
            "28  2.691636e-03  0.214286         2.0      1.0         2.0       1.0\n",
            "29  2.952296e-05  0.257143         2.0      1.0         0.0       0.0\n",
            "30  1.838539e-06  0.314286         2.0      1.0         0.0       0.0\n",
            "31  5.948733e-05  0.433333         2.0      1.0         0.0       0.0\n",
            "32  3.149844e-07  0.571429         2.0      1.0         0.0       0.0\n",
            "33  4.272361e-08  0.719048         2.0      1.0         0.0       0.0\n",
            "34  5.103161e-09  0.819048         2.0      1.0         0.0       0.0\n",
            "35  6.344484e-10  0.866667         2.0      1.0         0.0       0.0\n",
            "36  2.844511e-01  0.109524         0.0      0.0         0.0       0.0\n",
            "37  2.751302e-01  0.214286         2.0      2.0         2.0       2.0\n",
            "38  5.452351e-03  0.257143         2.0      1.0         0.0      -1.0\n",
            "39  3.243310e-04  0.314286         2.0      1.0         0.0       0.0\n",
            "40  6.702053e-02  0.433333         1.0      0.0        -1.0      -1.0\n",
            "41  1.898971e-05  0.571429         2.0      1.0         1.0       1.0\n",
            "42  2.483512e-06  0.719048         2.0      1.0         0.0       0.0\n",
            "43  1.464381e-07  0.819048         2.0      1.0         0.0       0.0\n",
            "44  9.947168e-09  0.866667         2.0      1.0         0.0       0.0\n"
          ],
          "name": "stdout"
        }
      ]
    },
    {
      "cell_type": "code",
      "metadata": {
        "id": "2pJ_Uio_cura",
        "colab_type": "code",
        "colab": {
          "base_uri": "https://localhost:8080/",
          "height": 914
        },
        "outputId": "547bc2f2-30eb-4111-816b-4636f4e9d056"
      },
      "source": [
        "Num=len(Nomes)\n",
        "Y = pd.DataFrame(columns=[Y_NOME])\n",
        "df = pd.read_csv(Nomes[0])\n",
        "Y=df[Y_NOME]\n",
        "strings = list(Y)\n",
        "Num=Y.shape[0]\n",
        "#print(Y)\n",
        "for featur in strings:\n",
        "  for i in range((Num-1)):\n",
        "    Y[featur][i]=Y[featur][i]/Y[featur][i+1]\n",
        "\n",
        "Y=Y.drop(Y.index[-1])\n",
        "Num=len(Nomes)\n",
        "for i in range(1,Num):\n",
        "  df = pd.read_csv(Nomes[i])\n",
        "  Yi = pd.DataFrame(columns=[Y_NOME])\n",
        "  Yi=df[Y_NOME]\n",
        "  N=Yi.shape[0]\n",
        "  for featur in strings:\n",
        "    for k in range((N-1)):\n",
        "      Yi[featur][k]=Yi[featur][k]/Yi[featur][k+1]\n",
        "  Yi=Yi.drop(Yi.index[-1])\n",
        "  Y=Y.append(Yi,ignore_index=True)\n",
        "print(Y)"
      ],
      "execution_count": 11,
      "outputs": [
        {
          "output_type": "stream",
          "text": [
            "/usr/local/lib/python3.6/dist-packages/IPython/core/interactiveshell.py:2882: SettingWithCopyWarning: \n",
            "A value is trying to be set on a copy of a slice from a DataFrame\n",
            "\n",
            "See the caveats in the documentation: http://pandas.pydata.org/pandas-docs/stable/indexing.html#indexing-view-versus-copy\n",
            "  exec(code_obj, self.user_global_ns, self.user_ns)\n"
          ],
          "name": "stderr"
        },
        {
          "output_type": "stream",
          "text": [
            "          NP         F        CR\n",
            "0   2.000000  1.101418  1.012922\n",
            "1   0.434783  0.713272  0.802863\n",
            "2   1.150000  1.106335  1.669235\n",
            "3   0.952381  1.121386  0.764967\n",
            "4   0.913043  0.986309  2.118017\n",
            "5   1.916667  1.035356  0.416289\n",
            "6   0.666667  1.355320  1.034142\n",
            "7   1.384615  0.937510  5.523734\n",
            "8   0.650000  1.261967  0.714686\n",
            "9   1.375000  1.080639  1.670010\n",
            "10  2.666667  0.973619  0.316391\n",
            "11  0.600000  0.939921  1.089800\n",
            "12  0.526316  1.463965  3.112017\n",
            "13  2.111111  0.610057  0.432577\n",
            "14  0.409091  1.274724  2.282555\n",
            "15  1.375000  0.768672  0.815767\n",
            "16  1.230769  1.120519  0.661173\n",
            "17  0.764706  1.910008  4.233313\n",
            "18  2.000000  1.101418  1.012922\n",
            "19  0.434783  0.713272  0.802863\n",
            "20  1.150000  1.106335  1.669235\n",
            "21  0.952381  1.121386  0.764967\n",
            "22  0.913043  0.986309  2.118017\n",
            "23  1.916667  1.035356  0.416289\n",
            "24  0.666667  1.355320  1.034142\n",
            "25  1.384615  0.937510  5.523734\n",
            "26  0.650000  1.261967  0.714686\n",
            "27  1.045455  0.832178  2.597122\n",
            "28  2.444444  0.971773  0.262901\n",
            "29  0.750000  1.245754  1.377470\n",
            "30  0.480000  0.438707  3.708576\n",
            "31  0.862069  1.826609  0.711451\n",
            "32  0.935484  0.565589  2.127458\n",
            "33  1.476190  1.983243  0.327149\n",
            "34  2.100000  0.856162  1.381008\n",
            "35  0.357143  0.610618  0.772347\n",
            "36  1.045455  0.832178  2.597122\n",
            "37  2.444444  0.971773  0.262901\n",
            "38  0.750000  1.245754  1.377470\n",
            "39  0.480000  0.438707  3.708576\n",
            "40  0.862069  1.826609  0.711451\n",
            "41  0.935484  0.565589  2.127458\n",
            "42  1.476190  1.983243  0.327149\n",
            "43  2.100000  0.856162  1.381008\n",
            "44  0.357143  0.610618  0.772347\n"
          ],
          "name": "stdout"
        }
      ]
    },
    {
      "cell_type": "code",
      "metadata": {
        "id": "aNWRM7fPe5UO",
        "colab_type": "code",
        "colab": {}
      },
      "source": [
        ""
      ],
      "execution_count": 0,
      "outputs": []
    },
    {
      "cell_type": "code",
      "metadata": {
        "id": "xsedhvw6w-FX",
        "colab_type": "code",
        "outputId": "01aa8330-82a4-40be-f28e-dc7ccb7a2248",
        "colab": {
          "base_uri": "https://localhost:8080/",
          "height": 34
        }
      },
      "source": [
        "#'''\n",
        "from google.colab import drive\n",
        "drive.mount('drive')\n",
        "#'''\n",
        "nome_X='X_DAT_set_11_2019.csv'\n",
        "nome_Y='Y_DAT_set_11_2019.csv'\n",
        "X.to_csv(nome_X)\n",
        "Y.to_csv(nome_Y)\n",
        "\n",
        "#!cp 2019-09-11_01h03min_DE_Schwefel_10.csv drive/My\\ Drive/imput_ANN/\n",
        "!cp 'X_DAT_set_11_2019.csv' drive/My\\ Drive/\n",
        "!cp 'Y_DAT_set_11_2019.csv' drive/My\\ Drive/\n",
        "#!cp nome_Y drive/My\\ Drive/"
      ],
      "execution_count": 12,
      "outputs": [
        {
          "output_type": "stream",
          "text": [
            "Drive already mounted at drive; to attempt to forcibly remount, call drive.mount(\"drive\", force_remount=True).\n"
          ],
          "name": "stdout"
        }
      ]
    }
  ]
}