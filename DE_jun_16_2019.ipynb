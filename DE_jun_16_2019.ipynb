{
  "nbformat": 4,
  "nbformat_minor": 0,
  "metadata": {
    "colab": {
      "name": "DE_jun_16_2019.ipynb",
      "version": "0.3.2",
      "provenance": [],
      "collapsed_sections": [],
      "include_colab_link": true
    },
    "kernelspec": {
      "name": "python3",
      "display_name": "Python 3"
    }
  },
  "cells": [
    {
      "cell_type": "markdown",
      "metadata": {
        "id": "view-in-github",
        "colab_type": "text"
      },
      "source": [
        "<a href=\"https://colab.research.google.com/github/ucfilho/optim_raianars/blob/master/DE_jun_16_2019.ipynb\" target=\"_parent\"><img src=\"https://colab.research.google.com/assets/colab-badge.svg\" alt=\"Open In Colab\"/></a>"
      ]
    },
    {
      "cell_type": "code",
      "metadata": {
        "id": "DhYBZbKGWSve",
        "colab_type": "code",
        "outputId": "fcebb1cb-bc35-4d07-9e59-f5bdb2ff4056",
        "colab": {
          "base_uri": "https://localhost:8080/",
          "height": 35
        }
      },
      "source": [
        "import numpy as np\n",
        "\n",
        "'''https://pablormier.github.io/2017/09/05/a-tutorial-on-differential-evolution-with-python/'''"
      ],
      "execution_count": 1,
      "outputs": [
        {
          "output_type": "execute_result",
          "data": {
            "text/plain": [
              "'https://pablormier.github.io/2017/09/05/a-tutorial-on-differential-evolution-with-python/'"
            ]
          },
          "metadata": {
            "tags": []
          },
          "execution_count": 1
        }
      ]
    },
    {
      "cell_type": "code",
      "metadata": {
        "id": "q8yPdi-5Wdt2",
        "colab_type": "code",
        "colab": {}
      },
      "source": [
        "def fobj(x):\n",
        "  value = 0\n",
        "  for i in range(len(x)):\n",
        "      value += x[i]**2\n",
        "  return value / len(x)"
      ],
      "execution_count": 0,
      "outputs": []
    },
    {
      "cell_type": "code",
      "metadata": {
        "id": "T_ejDzcvWRFT",
        "colab_type": "code",
        "colab": {}
      },
      "source": [
        "def de(fobj, bounds, mut, crossp, popsize, its):\n",
        "\n",
        "  dimensions = len(bounds)\n",
        "  \n",
        "  pop = np.random.rand(popsize, dimensions)\n",
        "  min_b, max_b = np.asarray(bounds).T\n",
        "  diff = np.fabs(min_b - max_b)\n",
        "  pop_denorm = min_b + pop * diff\n",
        "  fitness = np.asarray([fobj(ind) for ind in pop_denorm])\n",
        "  best_idx = np.argmin(fitness)\n",
        "  best = pop_denorm[best_idx]\n",
        "  for i in range(its):\n",
        "    for j in range(popsize):\n",
        "      idxs = [idx for idx in range(popsize) if idx != j]\n",
        "      a, b, c = pop[np.random.choice(idxs, 3, replace = False)]\n",
        "      mutant = np.clip(a + mut * (b - c), 0, 1)\n",
        "      cross_points = np.random.rand(dimensions) < crossp\n",
        "      if not np.any(cross_points):\n",
        "        cross_points[np.random.randint(0, dimensions)] = True\n",
        "      trial = np.where(cross_points, mutant, pop[j])\n",
        "      trial_denorm = min_b + trial * diff\n",
        "      f = fobj(trial_denorm)\n",
        "      if f < fitness[j]:\n",
        "        fitness[j] = f\n",
        "        pop[j] = trial\n",
        "        if f < fitness[best_idx]:\n",
        "          best_idx = j\n",
        "          best = trial\n",
        "          \n",
        "    pop_denorm = min_b + pop * diff\n",
        "    fitness = np.asarray([fobj(ind) for ind in pop_denorm])\n",
        "\n",
        "  fitness = np.asarray([fobj(ind) for ind in pop_denorm])\n",
        "  best_idx = np.argmin(fitness)\n",
        "  best = pop_denorm[best_idx]\n",
        "  fobj_best = fitness[best_idx]\n",
        "\n",
        "  \n",
        "  return best,fobj_best"
      ],
      "execution_count": 0,
      "outputs": []
    },
    {
      "cell_type": "code",
      "metadata": {
        "id": "dnYr31x7W1-_",
        "colab_type": "code",
        "outputId": "bf994c89-2b5e-4a60-82ec-4fbf930c144c",
        "colab": {
          "base_uri": "https://localhost:8080/",
          "height": 163
        }
      },
      "source": [
        "bounds=[(-100, 100)] * 32\n",
        "mut=0.8\n",
        "crossp=0.7\n",
        "popsize=50\n",
        "its=1000\n",
        "best, fobj_best=de(fobj, bounds, mut, crossp, popsize, its)\n",
        "\n",
        "print(\"best\",best)\n",
        "print(\"fobj best=\",fobj_best)"
      ],
      "execution_count": 4,
      "outputs": [
        {
          "output_type": "stream",
          "text": [
            "best [ -2.73193888  21.51381375  26.38094795  -7.86769119   3.01575127\n",
            "  10.0168392    5.0680478   17.7755711    1.8491878   -1.24502587\n",
            "  -6.47439698   2.14098174  -1.59520263   6.82535459 -13.07236281\n",
            "   7.44562601  -7.13745801  -1.81193389  -3.51627799 -14.35735577\n",
            "  -4.06801559  -5.65629378  20.87350393  -0.48338103  -5.05459985\n",
            "  -7.29875935  -2.19326632  11.96044895  -9.51935563   7.6318329\n",
            "   0.41660827   4.34280945]\n",
            "fobj best= 98.68623668566907\n"
          ],
          "name": "stdout"
        }
      ]
    },
    {
      "cell_type": "code",
      "metadata": {
        "id": "B_YHo-fL_s9T",
        "colab_type": "code",
        "outputId": "9ac09233-d2f2-4c23-8a32-fd0b1287ff15",
        "colab": {
          "base_uri": "https://localhost:8080/",
          "height": 145
        }
      },
      "source": [
        "bounds=[(-100, 100)] * 32\n",
        "mut=0.8\n",
        "crossp=0.7\n",
        "popsize=50\n",
        "its=3000\n",
        "best, fobj_best=de(fobj, bounds, mut, crossp, popsize, its)\n",
        "\n",
        "print(\"best\",best)\n",
        "print(\"fobj best=\",fobj_best)"
      ],
      "execution_count": 5,
      "outputs": [
        {
          "output_type": "stream",
          "text": [
            "best [-0.6490572   0.7906284   0.11508564 -0.06084703 -0.27031418  0.52189787\n",
            " -0.59157605 -0.63874667 -1.08702054 -0.20292823  1.19945224 -0.42898396\n",
            " -0.76339006  0.17574498  0.61539862 -0.64966581 -0.98824434  0.52497726\n",
            "  0.13518117 -1.2062934   0.9529735  -0.68583388 -1.66256829 -1.36362749\n",
            " -1.07695479  0.49478402 -0.49059477 -0.99180307 -0.53939823 -0.87577163\n",
            "  0.04746521  0.01618787]\n",
            "fobj best= 0.5888714662106009\n"
          ],
          "name": "stdout"
        }
      ]
    },
    {
      "cell_type": "code",
      "metadata": {
        "id": "yUQTrShUAeRX",
        "colab_type": "code",
        "colab": {
          "base_uri": "https://localhost:8080/",
          "height": 72
        },
        "outputId": "cc805eb6-53ab-4388-ca30-6c4646c22890"
      },
      "source": [
        "bounds=[(-100, 100)] * 32\n",
        "mut=0.5\n",
        "crossp=0.7\n",
        "popsize=100\n",
        "its=3000\n",
        "best, fobj_best=de(fobj, bounds, mut, crossp, popsize, its)\n",
        "\n",
        "print(\"best\",best)\n",
        "print(\"fobj best=\",fobj_best)"
      ],
      "execution_count": 7,
      "outputs": [
        {
          "output_type": "stream",
          "text": [
            "best [0. 0. 0. 0. 0. 0. 0. 0. 0. 0. 0. 0. 0. 0. 0. 0. 0. 0. 0. 0. 0. 0. 0. 0.\n",
            " 0. 0. 0. 0. 0. 0. 0. 0.]\n",
            "fobj best= 0.0\n"
          ],
          "name": "stdout"
        }
      ]
    }
  ]
}