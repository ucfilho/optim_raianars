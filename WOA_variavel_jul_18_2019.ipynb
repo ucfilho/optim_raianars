{
  "nbformat": 4,
  "nbformat_minor": 0,
  "metadata": {
    "colab": {
      "name": "WOA_variavel_jul_18_2019.ipynb",
      "version": "0.3.2",
      "provenance": [],
      "collapsed_sections": [],
      "include_colab_link": true
    },
    "kernelspec": {
      "display_name": "Python 3",
      "language": "python",
      "name": "python3"
    }
  },
  "cells": [
    {
      "cell_type": "markdown",
      "metadata": {
        "id": "view-in-github",
        "colab_type": "text"
      },
      "source": [
        "<a href=\"https://colab.research.google.com/github/ucfilho/optim_raianars/blob/master/WOA_variavel_jul_18_2019.ipynb\" target=\"_parent\"><img src=\"https://colab.research.google.com/assets/colab-badge.svg\" alt=\"Open In Colab\"/></a>"
      ]
    },
    {
      "cell_type": "code",
      "metadata": {
        "id": "vfr-WJeoITG0",
        "colab_type": "code",
        "outputId": "32b06e70-8149-43b6-cd35-c4ca530cb125",
        "colab": {
          "base_uri": "https://localhost:8080/",
          "height": 35
        }
      },
      "source": [
        "import numpy as np\n",
        "from random import randint\n",
        "print(\"hello world, I am envolving !!!!\")\n"
      ],
      "execution_count": 12,
      "outputs": [
        {
          "output_type": "stream",
          "text": [
            "hello world, I am envolving !!!!\n"
          ],
          "name": "stdout"
        }
      ]
    },
    {
      "cell_type": "markdown",
      "metadata": {
        "id": "rDWYoHzSe0oA",
        "colab_type": "text"
      },
      "source": [
        "\n",
        "\n",
        "\n",
        "WOA - Whale Optimization Algorithm\n",
        "\n",
        "O vetor X eh otimizado com p aleatorio sendo corrigido em espiral ou nao (prob de 50%)\n",
        "\n",
        "O vetor a_k decai linearmente \n",
        "\n",
        "A matriz A_kp vai de para zero (o que gera um espiral de aproximacao)\n",
        "\n",
        "\n",
        "\n"
      ]
    },
    {
      "cell_type": "code",
      "metadata": {
        "id": "XnZITlaYITG_",
        "colab_type": "code",
        "colab": {}
      },
      "source": [
        "'''Rosembrock Function'''\n",
        "def Fun(x):\n",
        "    fun=0\n",
        "    a=1.0\n",
        "    b=100.0\n",
        "    fun = (a-x[0])**2 + b*(x[1]-x[0]**2)**2\n",
        "    return fun"
      ],
      "execution_count": 0,
      "outputs": []
    },
    {
      "cell_type": "code",
      "metadata": {
        "id": "NGpJGJlFITHE",
        "colab_type": "code",
        "colab": {}
      },
      "source": [
        "''' \n",
        "FOBJ gera vetorialmente os valores com a funcao objetivo escalar\n",
        "em outras palavras gera para populacao o valor da funcao \n",
        "a ser otimizada\n",
        "'''\n",
        "def FOBJ(X):\n",
        "    rows = X.shape[0]\n",
        "    fobj=np.zeros(rows)\n",
        "    for i in range(rows):\n",
        "        fobj[i]=Fun(X[i,])\n",
        "    return fobj"
      ],
      "execution_count": 0,
      "outputs": []
    },
    {
      "cell_type": "code",
      "metadata": {
        "id": "ASnJC2jQITHJ",
        "colab_type": "code",
        "colab": {}
      },
      "source": [
        "'''Enxame retorna a populacao aleatoria com todos valores entre MIN e MAX'''\n",
        "def Enxame(PAR,NPAR,MAX,MIN):\n",
        "    x=np.zeros((NPAR, len(MAX)))\n",
        "    for j in range(len(MAX)):\n",
        "        for i in range(NPAR):\n",
        "            x[i,j]=MIN[j]+(MAX[j]-MIN[j])*np.random.random()\n",
        "    return x"
      ],
      "execution_count": 0,
      "outputs": []
    },
    {
      "cell_type": "code",
      "metadata": {
        "id": "De1_VBasITHP",
        "colab_type": "code",
        "colab": {}
      },
      "source": [
        "''' \n",
        "Fit ordena os vetores do que fornece MIN a MAX valor de FOBJ : \n",
        "        eh necessario para encontrar Best baleia\n",
        "'''\n",
        "def FIT(X):\n",
        "    fit=np.argsort(X)\n",
        "    return fit"
      ],
      "execution_count": 0,
      "outputs": []
    },
    {
      "cell_type": "code",
      "metadata": {
        "id": "4XuAl75DB3WZ",
        "colab_type": "code",
        "colab": {}
      },
      "source": [
        "''' \n",
        "Matriz_AC \n",
        "  retorna matriz A decrescente q vai 2 a zero\n",
        "  retorna matriz C\n",
        "  A decrescente q vai 2 a zero\n",
        "  C aleatoria q vai de \n",
        "'''\n",
        "def Matriz_AC(a,PAR,NPAR):\n",
        "  A=np.zeros((NPAR, PAR))\n",
        "  C=np.zeros((NPAR, PAR))\n",
        "  for j in range(PAR):\n",
        "    for i in range(NPAR):\n",
        "      A[i,j]=a*(2*np.random.random()-1)\n",
        "      C[i,j]=2*np.random.random()\n",
        "  return A,C"
      ],
      "execution_count": 0,
      "outputs": []
    },
    {
      "cell_type": "code",
      "metadata": {
        "id": "CpD36qqzN8WL",
        "colab_type": "code",
        "colab": {}
      },
      "source": [
        "# retorna o best X*\n",
        "def BEST(x):\n",
        "  ycal=FOBJ(x)\n",
        "  Ind=FIT(ycal) # ajusta para encontrar o indice dos os lobos alfa, beta e delta\n",
        "  Best=x[Ind[0],]\n",
        "  return Best"
      ],
      "execution_count": 0,
      "outputs": []
    },
    {
      "cell_type": "code",
      "metadata": {
        "id": "0f5uCL18JbEK",
        "colab_type": "code",
        "colab": {}
      },
      "source": [
        "# atualiza a matriz de populacoes\n",
        "def New_X(k,ITE,PAR,NPAR,MAX,MIN,Best,X):\n",
        "  a=2*(k-ITE)/(1-ITE) # parametro que varia de 2 a zero linermente: gera espiral\n",
        "  A,C=Matriz_AC(a,PAR,NPAR)# matriz da espiral e matrix aletoria range dobro\n",
        "  Xrand=Enxame(PAR,NPAR,MAX,MIN) #  sera utilizado para A>=1\n",
        "  for j in range(PAR):\n",
        "    for i in range(NPAR):\n",
        "      l=np.random.random()*2 - 1 # valor entre [-1,1]\n",
        "      p=np.random.random() # valor entre [0,1]\n",
        "      if(p< 0.5):\n",
        "        if(A[i,j]<1):\n",
        "          D=abs(Best[j]*C[i,j]-X[i,j])\n",
        "          X[i,j]=Best[j]-A[i,j]*D\n",
        "        else: #if(A[i,j]<1):\n",
        "          D=abs(Xrand[i,j]*C[i,j]-X[i,j])\n",
        "          X[i,j]=Xrand[i,j]-A[i,j]*D\n",
        "      else: #if(p< 0.5):\n",
        "        D=abs(Best[j]-X[i,j])\n",
        "        X[i,j]=D*np.exp(l*2)*np.cos(2*np.pi*l)+Best[j]\n",
        "        \n",
        "      if(X[i,j]> MAX[j]):\n",
        "        X[i,j]=MAX[j]\n",
        "      if(X[i,j]< MIN[j]):\n",
        "        X[i,j]=MIN[j]\n",
        "        \n",
        "  return X\n",
        "  "
      ],
      "execution_count": 0,
      "outputs": []
    },
    {
      "cell_type": "code",
      "metadata": {
        "id": "MFWqJ-ZWivwi",
        "colab_type": "code",
        "colab": {}
      },
      "source": [
        "def WOA(x,k,ITE,PAR,NPAR,MAX,MIN): # realiza todas interacoes do WOA\n",
        "  k=k+1 #contador de iteracoes\n",
        "  #x=Enxame(PAR,NPAR,MAX,MIN) # inicializa baleias\n",
        "  Best=BEST(x)\n",
        "  x=New_X(k,ITE,PAR,NPAR,MAX,MIN,Best,x) # atualiza baleias\n",
        "  Best=BEST(x) # atualiza melhor baleia\n",
        "  \n",
        "  ycal=Fun(Best)\n",
        "  return Best,ycal,x\n",
        "    \n",
        "  "
      ],
      "execution_count": 0,
      "outputs": []
    },
    {
      "cell_type": "code",
      "metadata": {
        "id": "ZlE0Of68ynkV",
        "colab_type": "code",
        "outputId": "81068381-f0eb-48f3-b54a-6d6cd7c5b178",
        "colab": {
          "base_uri": "https://localhost:8080/",
          "height": 54
        }
      },
      "source": [
        "# inicializa as variaveis, executa o metdo e imprime os resultados\n",
        "NPAR=200 #Baleias\n",
        "ITE=50 #ITERACOES\n",
        "PAR=2 #NUM DE PARAMETROS A SER OTIMIZADOS\n",
        "MAX=[2,2] # MAXIMO DE CADA PARAMETRO\n",
        "MIN=[-2,-2] # MINIMO DE CADA PARAMETRO\n",
        "x=Enxame(PAR,NPAR,MAX,MIN) # inicializa baleias\n",
        "for i in range(ITE):\n",
        "  Best,ycal,x=WOA(x,i,ITE,PAR,NPAR,MAX,MIN)\n",
        "\n",
        "print(\"Whales=\",NPAR,\"      Ite\",ITE,\"   x=\",Best,\"       fobj=\",ycal,\"\\n\")\n"
      ],
      "execution_count": 21,
      "outputs": [
        {
          "output_type": "stream",
          "text": [
            "Whales= 200       Ite 50    x= [0.99786924 0.99572823]        fobj= 4.562016300628778e-06 \n",
            "\n"
          ],
          "name": "stdout"
        }
      ]
    },
    {
      "cell_type": "code",
      "metadata": {
        "id": "ClW8qr48tgJp",
        "colab_type": "code",
        "colab": {
          "base_uri": "https://localhost:8080/",
          "height": 35
        },
        "outputId": "2d19b9ca-c276-458d-b614-d412f41e4ea9"
      },
      "source": [
        "'''Baleias= 200       Iteracoes= 50    x= [1.00277758 1.00545862]        fobj= 8.801875491174265e-06 '''"
      ],
      "execution_count": 22,
      "outputs": [
        {
          "output_type": "execute_result",
          "data": {
            "text/plain": [
              "'Baleias= 200       Iteracoes= 50    x= [1.00277758 1.00545862]        fobj= 8.801875491174265e-06 '"
            ]
          },
          "metadata": {
            "tags": []
          },
          "execution_count": 22
        }
      ]
    }
  ]
}