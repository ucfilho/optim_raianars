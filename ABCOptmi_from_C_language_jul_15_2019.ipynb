{
  "nbformat": 4,
  "nbformat_minor": 0,
  "metadata": {
    "colab": {
      "name": "ABCOptmi_from_C_language_jul_15_2019.ipynb",
      "version": "0.3.2",
      "provenance": [],
      "collapsed_sections": [],
      "include_colab_link": true
    },
    "kernelspec": {
      "name": "python3",
      "display_name": "Python 3"
    }
  },
  "cells": [
    {
      "cell_type": "markdown",
      "metadata": {
        "id": "view-in-github",
        "colab_type": "text"
      },
      "source": [
        "<a href=\"https://colab.research.google.com/github/ucfilho/optim_raianars/blob/master/ABCOptmi_from_C_language_jul_15_2019.ipynb\" target=\"_parent\"><img src=\"https://colab.research.google.com/assets/colab-badge.svg\" alt=\"Open In Colab\"/></a>"
      ]
    },
    {
      "cell_type": "code",
      "metadata": {
        "id": "Q4rxtjKKCSVZ",
        "colab_type": "code",
        "colab": {}
      },
      "source": [
        "import numpy as np\n",
        "from random import randint"
      ],
      "execution_count": 0,
      "outputs": []
    },
    {
      "cell_type": "code",
      "metadata": {
        "id": "fHwM7maM7L7K",
        "colab_type": "code",
        "colab": {}
      },
      "source": [
        "NP=175\n",
        "limit=100\n",
        "D=3\n",
        "lb=-500\n",
        "ub=500\n",
        "runtime=4\n",
        "maxCycle=300\n",
        "FoodNumber=int(NP)\n",
        "f=np.zeros(FoodNumber) \n",
        "Foods=np.zeros((FoodNumber,D)) \n",
        "solution=np.zeros(D)\n",
        "fitness=np.zeros(FoodNumber)\n",
        "trial=np.zeros(FoodNumber)\n",
        "prob=np.zeros(FoodNumber)\n",
        "GlobalParams=np.zeros(D)\n",
        "GlobalMins=np.zeros(runtime)\n"
      ],
      "execution_count": 0,
      "outputs": []
    },
    {
      "cell_type": "code",
      "metadata": {
        "id": "PWIY1PGq9Is1",
        "colab_type": "code",
        "colab": {}
      },
      "source": [
        "def CalculateFitness(fun):\n",
        "    result=0\n",
        "    if(fun>=0):\n",
        "      result=1/(fun+1)\n",
        "    else:\n",
        "      result=1+fabs(fun)\n",
        "    return result"
      ],
      "execution_count": 0,
      "outputs": []
    },
    {
      "cell_type": "code",
      "metadata": {
        "id": "f8H99CS9AOoB",
        "colab_type": "code",
        "colab": {}
      },
      "source": [
        "def function( sol):\n",
        "  #Schwefel(x):\n",
        "  x=sol  \n",
        "  summ=0\n",
        "  for i in range(len(x)):\n",
        "    new=x[i]*np.sin((abs(x[i]))**0.5)\n",
        "    summ=summ+new\n",
        "    top=(418.9829*len(x)-summ) \n",
        "  \n",
        "  return top;\n"
      ],
      "execution_count": 0,
      "outputs": []
    },
    {
      "cell_type": "code",
      "metadata": {
        "id": "sNZ4ruzv-La8",
        "colab_type": "code",
        "colab": {}
      },
      "source": [
        "def MemorizeBestSource():\n",
        "\n",
        "  global GlobalMin\n",
        "  global GlobalParams\n",
        "  global Foods\n",
        " \n",
        "\n",
        "  FoodNumber=len(Foods[:,0])\n",
        "  D=len(Foods[0,:])\n",
        "  solution=np.zeros(D)\n",
        "  for i in range(FoodNumber):\n",
        "    if (f[i]<GlobalMin):\n",
        "      GlobalMin=f[i]\n",
        "      for j in range(D):\n",
        "        GlobalParams[j]=Foods[i,j]\n"
      ],
      "execution_count": 0,
      "outputs": []
    },
    {
      "cell_type": "code",
      "metadata": {
        "id": "ckFKKQdNAVO1",
        "colab_type": "code",
        "colab": {}
      },
      "source": [
        "def init(index):\n",
        "  global Foods\n",
        "  global trial\n",
        "  global f\n",
        "  global fitness\n",
        "  global lb\n",
        "  global ub\n",
        "  \n",
        "  D=len(Foods[0,:])\n",
        "  FoodNumber=len(Foods[:,0])\n",
        "  solution=np.zeros(D)\n",
        "  \n",
        "  for j in range(D):\n",
        "    r=np.random.random()\n",
        "    Foods[index,j]=r*(ub-lb)+lb\n",
        "    solution[j]=Foods[index,j]\n",
        "    \n",
        "  f[index]=function(solution)\n",
        "  fitness[index]=CalculateFitness(f[index])\n",
        "  trial[index]=0"
      ],
      "execution_count": 0,
      "outputs": []
    },
    {
      "cell_type": "code",
      "metadata": {
        "id": "Nbr0xLBdITa5",
        "colab_type": "code",
        "colab": {}
      },
      "source": [
        "def initial():\n",
        "\n",
        "  global f\n",
        "  global Foods\n",
        "  global GlobalMin\n",
        "  global GlobalParams\n",
        "\n",
        "  D=len(Foods[0,:])\n",
        "  FoodNumber=len(Foods[:,0])\n",
        "  for i in range(FoodNumber):\n",
        "    init(i) \n",
        "  GlobalMin=f[0]\n",
        "  for i in range(D):\n",
        "    GlobalParams[i]=Foods[0,i]\n"
      ],
      "execution_count": 0,
      "outputs": []
    },
    {
      "cell_type": "code",
      "metadata": {
        "id": "Jsfc_Dr5MmuX",
        "colab_type": "code",
        "colab": {}
      },
      "source": [
        "def SendEmployedBees():\n",
        "\n",
        "  global Foods\n",
        "  global trial\n",
        "  \n",
        "  FoodNumber=len(Foods[:,0])\n",
        "  D=len(Foods[0,:])\n",
        "  solution=np.zeros(D)\n",
        "  for i in range(FoodNumber):\n",
        "    r = np.random.random()\n",
        "    param2change= int(r*D)\n",
        "    r = np.random.random()\n",
        "    neighbour=int(r*D)\n",
        "    if(neighbour >= NP):\n",
        "      neighbour=NP-1\n",
        "      \n",
        "    while(neighbour==i):\n",
        "      r = np.random.random()\n",
        "      neighbour=int(r*FoodNumber)\n",
        "      if(neighbour >= NP):\n",
        "        neighbour=NP-1\n",
        "    for j in range(D):\n",
        "      solution[j]=Foods[i,j]\n",
        "#/*v_{ij}=x_{ij}+\\phi_{ij}*(x_{kj}-x_{ij}) */      \n",
        "    r = np.random.random()\n",
        "    A=Foods[i,param2change]\n",
        "    B=Foods[neighbour,param2change]\n",
        "    solution[param2change]=Foods[i,param2change]+(A-B)*(r-0.5)*2;\n",
        "    if (solution[param2change]<lb):\n",
        "      solution[param2change]=lb\n",
        "    if (solution[param2change]>ub):\n",
        "      solution[param2change]=ub\n",
        "    ObjValSol=function(solution)\n",
        "    FitnessSol=CalculateFitness(ObjValSol)\n",
        "    if(FitnessSol>fitness[i]):\n",
        "      trial[i]=0\n",
        "      for j in range(D):\n",
        "        Foods[i,j]=solution[j]\n",
        "      f[i]=ObjValSol\n",
        "      fitness[i]=FitnessSol\n",
        "    else:\n",
        "      trial[i]=trial[i]+1 "
      ],
      "execution_count": 0,
      "outputs": []
    },
    {
      "cell_type": "code",
      "metadata": {
        "id": "yibq0wsUThgD",
        "colab_type": "code",
        "colab": {}
      },
      "source": [
        "def CalculateProbabilities():\n",
        "\n",
        "  global fitness\n",
        "  global prob\n",
        "  FoodNumber=len(fitness)\n",
        "  maxfit=fitness[0]\n",
        "  for i in range(1,FoodNumber):    \n",
        "    if (fitness[i]>maxfit):\n",
        "      maxfit=fitness[i]\n",
        "  for i in range(FoodNumber):\n",
        "    prob[i]=(0.9*(fitness[i]/maxfit))+0.1\n"
      ],
      "execution_count": 0,
      "outputs": []
    },
    {
      "cell_type": "code",
      "metadata": {
        "id": "RRHG1BVqiNaZ",
        "colab_type": "code",
        "colab": {}
      },
      "source": [
        "def SendOnlookerBees():\n",
        "  \n",
        "  global trial\n",
        "  global Foods\n",
        "  \n",
        "  D=len(Foods[0,:])\n",
        "  solution=np.zeros(D)\n",
        "  FoodNumber=len(Foods[:,0])\n",
        "  i=0\n",
        "  t=0\n",
        "  while(t<FoodNumber):\n",
        "    r = np.random.random()\n",
        "    if(r<prob[i]): \n",
        "      r = np.random.random()\n",
        "      t=t+1\n",
        "      param2change=int(r*D)\n",
        "      r = np.random.random()\n",
        "      neighbour=int(r*FoodNumber)\n",
        "\n",
        "      while(neighbour==i):\n",
        "        r = np.random.random()\n",
        "        neighbour=int(r*FoodNumber)\n",
        "      for j in range(D):\n",
        "        solution[j]=Foods[i,j]\n",
        "\n",
        "      r = np.random.random()\n",
        "      A=Foods[i,param2change]\n",
        "      B=Foods[neighbour,param2change]\n",
        "      solution[param2change]=A+(A-B)*(r-0.5)*2\n",
        "\n",
        "      if (solution[param2change]<lb):\n",
        "              solution[param2change]=lb\n",
        "      if (solution[param2change]>ub):\n",
        "              solution[param2change]=ub\n",
        "      ObjValSol=function(solution)\n",
        "      FitnessSol=CalculateFitness(ObjValSol)\n",
        "              \n",
        "      if(FitnessSol>fitness[i]):\n",
        "        trial[i]=0\n",
        "        for j in range(D):\n",
        "          Foods[i,j]=solution[j]\n",
        "        f[i]=ObjValSol\n",
        "        fitness[i]=FitnessSol\n",
        "      else:\n",
        "        trial[i]=trial[i]+1\n",
        "      i=i+1\n",
        "      if (i==FoodNumber):\n",
        "        i=0\n"
      ],
      "execution_count": 0,
      "outputs": []
    },
    {
      "cell_type": "code",
      "metadata": {
        "id": "lZT7tTIPRNz4",
        "colab_type": "code",
        "colab": {}
      },
      "source": [
        "def SendScoutBees():\n",
        "  global Foods\n",
        "  global trial\n",
        "  \n",
        "  FoodNumber=len(Foods[:,0])\n",
        "  maxtrialindex=0\n",
        "  for i in range(1,FoodNumber):\n",
        "    if (trial[i]>trial[maxtrialindex]):\n",
        "      maxtrialindex=i\n",
        "  if(trial[maxtrialindex]>=limit):\n",
        "    init(maxtrialindex)\n"
      ],
      "execution_count": 0,
      "outputs": []
    },
    {
      "cell_type": "code",
      "metadata": {
        "id": "RlpZ9Tc1SjQm",
        "colab_type": "code",
        "outputId": "18698c5c-f39c-400e-c2c3-22106b497aef",
        "colab": {
          "base_uri": "https://localhost:8080/",
          "height": 428
        }
      },
      "source": [
        "'''/*Main program of the ABC algorithm*/'''\n",
        "for run in range(runtime):\n",
        "  initial()\n",
        "  MemorizeBestSource()\n",
        "  mean=0\n",
        "  for iter in range(maxCycle):\n",
        "    SendEmployedBees()\n",
        "    CalculateProbabilities()\n",
        "    SendOnlookerBees()\n",
        "    MemorizeBestSource()\n",
        "    SendScoutBees()\n",
        "\n",
        "  for j in range(D):\n",
        "    print(\"GlobalParam[\",j+1,\"]:\", GlobalParams[j])\n",
        "  print(\"run\",run+1,\"GBest=\",GlobalMin,\" \\n\");\n",
        "  GlobalMins[run]=GlobalMin\n",
        "  #mean=mean+GlobalMins[run]\n",
        "  mean=mean+GlobalMin\n",
        "mean=mean/runtime;\n",
        "print(\"Means of\",runtime,\"runs:\",mean,\"\\n\")\n"
      ],
      "execution_count": 12,
      "outputs": [
        {
          "output_type": "stream",
          "text": [
            "GlobalParam[ 1 ]: 420.968746144863\n",
            "GlobalParam[ 2 ]: 420.9687461391222\n",
            "GlobalParam[ 3 ]: 420.96874644679525\n",
            "run 1 GBest= 3.818269851763034e-05  \n",
            "\n",
            "GlobalParam[ 1 ]: 420.968746258035\n",
            "GlobalParam[ 2 ]: 420.9687463666237\n",
            "GlobalParam[ 3 ]: 420.9687462338429\n",
            "run 2 GBest= 3.818269851763034e-05  \n",
            "\n",
            "GlobalParam[ 1 ]: 420.96874661042733\n",
            "GlobalParam[ 2 ]: 420.9687465166319\n",
            "GlobalParam[ 3 ]: 420.9687461408325\n",
            "run 3 GBest= 3.818269851763034e-05  \n",
            "\n",
            "GlobalParam[ 1 ]: 420.96874611042347\n",
            "GlobalParam[ 2 ]: 420.96874591026557\n",
            "GlobalParam[ 3 ]: 420.96874701331524\n",
            "run 4 GBest= 3.818269851763034e-05  \n",
            "\n",
            "Means of 4 runs: 9.545674629407586e-06 \n",
            "\n"
          ],
          "name": "stdout"
        }
      ]
    },
    {
      "cell_type": "code",
      "metadata": {
        "id": "HeGVeWPFyQem",
        "colab_type": "code",
        "outputId": "b0e9d0b9-93e9-4905-a6eb-c97ac7a5d320",
        "colab": {
          "base_uri": "https://localhost:8080/",
          "height": 36
        }
      },
      "source": [
        "print(np.median(GlobalMins))"
      ],
      "execution_count": 13,
      "outputs": [
        {
          "output_type": "stream",
          "text": [
            "3.818269851763034e-05\n"
          ],
          "name": "stdout"
        }
      ]
    },
    {
      "cell_type": "code",
      "metadata": {
        "id": "tP1l6P03Jt3P",
        "colab_type": "code",
        "colab": {
          "base_uri": "https://localhost:8080/",
          "height": 36
        },
        "outputId": "283bd814-ffab-4fcf-ab91-5e735c559b33"
      },
      "source": [
        "3.818269851763034e-05/4"
      ],
      "execution_count": 14,
      "outputs": [
        {
          "output_type": "execute_result",
          "data": {
            "text/plain": [
              "9.545674629407586e-06"
            ]
          },
          "metadata": {
            "tags": []
          },
          "execution_count": 14
        }
      ]
    }
  ]
}