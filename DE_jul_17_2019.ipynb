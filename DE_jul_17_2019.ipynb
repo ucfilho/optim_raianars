{
  "nbformat": 4,
  "nbformat_minor": 0,
  "metadata": {
    "colab": {
      "name": "DE_jul_17_2019.ipynb",
      "version": "0.3.2",
      "provenance": [],
      "collapsed_sections": [],
      "include_colab_link": true
    },
    "kernelspec": {
      "name": "python3",
      "display_name": "Python 3"
    }
  },
  "cells": [
    {
      "cell_type": "markdown",
      "metadata": {
        "id": "view-in-github",
        "colab_type": "text"
      },
      "source": [
        "<a href=\"https://colab.research.google.com/github/ucfilho/optim_raianars/blob/master/DE_jul_17_2019.ipynb\" target=\"_parent\"><img src=\"https://colab.research.google.com/assets/colab-badge.svg\" alt=\"Open In Colab\"/></a>"
      ]
    },
    {
      "cell_type": "code",
      "metadata": {
        "id": "DhYBZbKGWSve",
        "colab_type": "code",
        "outputId": "c37f462b-5cc3-448b-8ce5-013a4aebc9d5",
        "colab": {
          "base_uri": "https://localhost:8080/",
          "height": 35
        }
      },
      "source": [
        "import numpy as np\n",
        "\n",
        "'''https://pablormier.github.io/2017/09/05/a-tutorial-on-differential-evolution-with-python/'''"
      ],
      "execution_count": 1,
      "outputs": [
        {
          "output_type": "execute_result",
          "data": {
            "text/plain": [
              "'https://pablormier.github.io/2017/09/05/a-tutorial-on-differential-evolution-with-python/'"
            ]
          },
          "metadata": {
            "tags": []
          },
          "execution_count": 1
        }
      ]
    },
    {
      "cell_type": "code",
      "metadata": {
        "id": "QqHsYZ78UFoE",
        "colab_type": "code",
        "colab": {}
      },
      "source": [
        "def Fun( sol):\n",
        "  #Schwefel(x):\n",
        "  x=sol  \n",
        "  summ=0\n",
        "  for i in range(len(x)):\n",
        "    new=x[i]*np.sin((abs(x[i]))**0.5)\n",
        "    summ=summ+new\n",
        "    top=(418.9829*len(x)-summ) \n",
        "  \n",
        "  return top;"
      ],
      "execution_count": 0,
      "outputs": []
    },
    {
      "cell_type": "code",
      "metadata": {
        "id": "T_ejDzcvWRFT",
        "colab_type": "code",
        "colab": {}
      },
      "source": [
        "def de(MAX,MIN, mut, crossp, popsize, its,fobj):\n",
        "  \n",
        "  Num=len(MAX)\n",
        "  bounds=[(0,0)] * Num\n",
        "  for i in range(Num):\n",
        "    bounds[i]=(MIN[i], MAX[i])\n",
        "   \n",
        "\n",
        "  dimensions = len(bounds)\n",
        "  \n",
        "  pop = np.random.rand(popsize, dimensions)\n",
        "  min_b, max_b = np.asarray(bounds).T\n",
        "  diff = np.fabs(min_b - max_b)\n",
        "  pop_denorm = min_b + pop * diff\n",
        "  fitness = np.asarray([fobj(ind) for ind in pop_denorm])\n",
        "  best_idx = np.argmin(fitness)\n",
        "  best = pop_denorm[best_idx]\n",
        "  for i in range(its):\n",
        "    for j in range(popsize):\n",
        "      idxs = [idx for idx in range(popsize) if idx != j]\n",
        "      a, b, c = pop[np.random.choice(idxs, 3, replace = False)]\n",
        "      mutant = np.clip(a + mut * (b - c), 0, 1)\n",
        "      cross_points = np.random.rand(dimensions) < crossp\n",
        "      if not np.any(cross_points):\n",
        "        cross_points[np.random.randint(0, dimensions)] = True\n",
        "      trial = np.where(cross_points, mutant, pop[j])\n",
        "      trial_denorm = min_b + trial * diff\n",
        "      f = fobj(trial_denorm)\n",
        "      if f < fitness[j]:\n",
        "        fitness[j] = f\n",
        "        pop[j] = trial\n",
        "        if f < fitness[best_idx]:\n",
        "          best_idx = j\n",
        "          best = trial\n",
        "          \n",
        "    pop_denorm = min_b + pop * diff\n",
        "    fitness = np.asarray([fobj(ind) for ind in pop_denorm])\n",
        "\n",
        "  fitness = np.asarray([fobj(ind) for ind in pop_denorm])\n",
        "  best_idx = np.argmin(fitness)\n",
        "  best = pop_denorm[best_idx]\n",
        "  fobj_best = fitness[best_idx]\n",
        "\n",
        "  x=pop\n",
        "  y=fitness\n",
        "\n",
        "  BEST=best\n",
        "  FOBEST=fobj_best\n",
        "  XY= np.c_[x,y] #concatena x e y em 2 colunas            \n",
        "  XYsorted = XY[XY[:,-1].argsort()] #Ordena a partir da last col(Y) for all row\n",
        "  XY=XYsorted\n",
        "  BEST_XY =np.append(BEST,FOBEST)\n",
        "  \n",
        "  return BEST,FOBEST,XY,BEST_XY"
      ],
      "execution_count": 0,
      "outputs": []
    },
    {
      "cell_type": "code",
      "metadata": {
        "id": "dnYr31x7W1-_",
        "colab_type": "code",
        "colab": {
          "base_uri": "https://localhost:8080/",
          "height": 72
        },
        "outputId": "c6a323b0-b90e-4e10-89fa-3b65ef1fd26a"
      },
      "source": [
        "\n",
        "MAX=[500,500,500] # MAXIMO DE CADA PARAMETRO\n",
        "MIN=[-500,-500,-500] # MINIMO DE CADA PARAMETRO\n",
        "mut=0.8\n",
        "crossp=0.7\n",
        "NPAR=100\n",
        "ITE=100\n",
        "\n",
        "runtime=1\n",
        "\n",
        "for run in range(runtime):\n",
        "  BEST,FOBEST,XY,BEST_XY= de(MAX,MIN, mut, crossp, NPAR, ITE,Fun)     \n",
        "  print(\"GlobalParam e Solucao:\", BEST_XY)\n",
        "\n",
        "mean=np.average(FOBEST)\n",
        "\n",
        "\n",
        "print(\"Means of\",runtime,\"runs:\",mean,\"\\n\")"
      ],
      "execution_count": 4,
      "outputs": [
        {
          "output_type": "stream",
          "text": [
            "GlobalParam e Solucao: [4.20966165e+02 4.20974366e+02 4.20966791e+02 4.34910999e-05]\n",
            "Means of 1 runs: 4.34910998592386e-05 \n",
            "\n"
          ],
          "name": "stdout"
        }
      ]
    }
  ]
}