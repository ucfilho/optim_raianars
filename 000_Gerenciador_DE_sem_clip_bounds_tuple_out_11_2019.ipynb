{
  "nbformat": 4,
  "nbformat_minor": 0,
  "metadata": {
    "colab": {
      "name": "000-Gerenciador_DE_sem_clip_bounds_tuple_out_11_2019.ipynb",
      "provenance": [],
      "include_colab_link": true
    },
    "kernelspec": {
      "name": "python3",
      "display_name": "Python 3"
    }
  },
  "cells": [
    {
      "cell_type": "markdown",
      "metadata": {
        "id": "view-in-github",
        "colab_type": "text"
      },
      "source": [
        "<a href=\"https://colab.research.google.com/github/ucfilho/optim_raianars/blob/master/000_Gerenciador_DE_sem_clip_bounds_tuple_out_11_2019.ipynb\" target=\"_parent\"><img src=\"https://colab.research.google.com/assets/colab-badge.svg\" alt=\"Open In Colab\"/></a>"
      ]
    },
    {
      "cell_type": "code",
      "metadata": {
        "id": "e9SUtOlp7WlE",
        "colab_type": "code",
        "outputId": "c0e84b5b-ff66-43fb-9391-edc36dd555a2",
        "colab": {
          "base_uri": "https://localhost:8080/",
          "height": 167
        }
      },
      "source": [
        "!git clone https://github.com/ucfilho/optim_raianars/ #clonar do Github\n",
        "%cd optim_raianars\n",
        "#!ls"
      ],
      "execution_count": 10,
      "outputs": [
        {
          "output_type": "stream",
          "text": [
            "Cloning into 'optim_raianars'...\n",
            "remote: Enumerating objects: 28, done.\u001b[K\n",
            "remote: Counting objects: 100% (28/28), done.\u001b[K\n",
            "remote: Compressing objects: 100% (28/28), done.\u001b[K\n",
            "remote: Total 449 (delta 12), reused 0 (delta 0), pack-reused 421\u001b[K\n",
            "Receiving objects: 100% (449/449), 490.68 KiB | 1.37 MiB/s, done.\n",
            "Resolving deltas: 100% (244/244), done.\n",
            "/content/optim_raianars/optim_raianars/optim_raianars\n"
          ],
          "name": "stdout"
        }
      ]
    },
    {
      "cell_type": "code",
      "metadata": {
        "id": "1mImfgCL8AEj",
        "colab_type": "code",
        "colab": {}
      },
      "source": [
        "import numpy as np\n",
        "from random import randint\n",
        "import Function\n",
        "\n",
        "import DE_rotina_jul_23_2019\n",
        "\n",
        "NPAR=100\n",
        "its=100\n",
        "mut=0.7\n",
        "crossp=0.5"
      ],
      "execution_count": 0,
      "outputs": []
    },
    {
      "cell_type": "code",
      "metadata": {
        "id": "DSRqCiSlCoMJ",
        "colab_type": "code",
        "colab": {}
      },
      "source": [
        "#'''\n",
        "dim=2\n",
        "Fun=Function.Schwefel\n",
        "MAX=np.repeat(500,dim)\n",
        "MIN=np.repeat(-500,dim)\n",
        "  #Global optimum: f(xi)= 0 for xi = 420.968746 for i=1,...,n  ;  xi in [-500,500]  \n",
        "#'''"
      ],
      "execution_count": 0,
      "outputs": []
    },
    {
      "cell_type": "code",
      "metadata": {
        "id": "FBiP5PG7DNvI",
        "colab_type": "code",
        "colab": {}
      },
      "source": [
        "Num=len(MAX)\n",
        "bounds=[(0,0)] * Num\n",
        "dimensions = len(bounds)  \n",
        "  \n",
        "for i in range(Num):\n",
        "    bounds[i]=(MIN[i], MAX[i])"
      ],
      "execution_count": 0,
      "outputs": []
    },
    {
      "cell_type": "code",
      "metadata": {
        "id": "bmNzuT-DCBnD",
        "colab_type": "code",
        "colab": {}
      },
      "source": [
        "import numpy as np\n",
        "\n",
        "def de(bounds, mut, crossp, popsize, its,fobj,X):\n",
        "\n",
        "  fitness = np.asarray([fobj(ind) for ind in X])\n",
        "  best_idx = np.argmin(fitness)\n",
        "  best = X[best_idx]\n",
        "  for i in range(its):\n",
        "    for j in range(popsize):\n",
        "      \n",
        "      idxs = [idx for idx in range(popsize) if idx != j]\n",
        "      a, b, c = X[np.random.choice(idxs, 3, replace = False)]\n",
        "      mutant = a + mut * (b - c)\n",
        "\n",
        "      for k in range(Num):\n",
        "        if(mutant[k]>MAX[k]):\n",
        "          mutant[k]=MAX[k]\n",
        "        if(mutant[k]<MIN[k]):\n",
        "          mutant[k]=MIN[k]\n",
        "          \n",
        "      cross_points = np.random.rand(dimensions) < crossp\n",
        "      if not np.any(cross_points):\n",
        "        cross_points[np.random.randint(0, dimensions)] = True\n",
        "\n",
        "      trial = np.where(cross_points, mutant, X[j,:])\n",
        "\n",
        "\n",
        "      f = fobj(trial)\n",
        "      if f < fitness[j]:\n",
        "        fitness[j] = f\n",
        "        X[j,:] = trial\n",
        "        if f < fitness[best_idx]:\n",
        "          best_idx = j\n",
        "          best = trial\n",
        "\n",
        "    fitness = np.asarray([fobj(ind) for ind in X])\n",
        "\n",
        "  fitness = np.asarray([fobj(ind) for ind in X])\n",
        "  best_idx = np.argmin(fitness)\n",
        "  best = X[best_idx]\n",
        "  fobj_best = fitness[best_idx]\n",
        "\n",
        "  \n",
        "  y=fitness\n",
        "\n",
        "  BEST=best\n",
        "  FOBEST=fobj_best\n",
        "  XY= np.c_[X,y] #concatena x e y em 2 colunas            \n",
        "  XYsorted = XY[XY[:,-1].argsort()] #Ordena a partir da last col(Y) for all row\n",
        "  x=XYsorted[:,0:Num]\n",
        "  XY=XYsorted\n",
        "  BEST_XY =np.append(BEST,FOBEST)\n",
        "  \n",
        "  \n",
        "  return x,BEST,FOBEST,XY,BEST_XY"
      ],
      "execution_count": 0,
      "outputs": []
    },
    {
      "cell_type": "code",
      "metadata": {
        "id": "xOUygQKJ87vI",
        "colab_type": "code",
        "outputId": "66557c5b-2f18-44e6-e0d6-7dab45308a56",
        "colab": {
          "base_uri": "https://localhost:8080/",
          "height": 36
        }
      },
      "source": [
        "PAR=len(MAX)\n",
        "pop = np.random.rand(NPAR, PAR)\n",
        "diff=np.zeros(PAR)\n",
        "for i in range(PAR):\n",
        "  diff[i] = MAX[i]-MIN[i]\n",
        "X = MIN + pop * diff\n",
        "\n",
        "X,BEST,FOBEST,XY,BEST_XY= de(bounds, mut, crossp, NPAR, its,Fun,X)\n",
        "\n",
        "print(\"GlobalParam e Solucao final:\", BEST_XY)"
      ],
      "execution_count": 15,
      "outputs": [
        {
          "output_type": "stream",
          "text": [
            "GlobalParam e Solucao final: [420.96874612 420.96874637   0.        ]\n"
          ],
          "name": "stdout"
        }
      ]
    }
  ]
}