{
  "nbformat": 4,
  "nbformat_minor": 0,
  "metadata": {
    "colab": {
      "name": "ANN_parte_01_une_dados_set_10_2019.ipynb",
      "version": "0.3.2",
      "provenance": [],
      "collapsed_sections": [],
      "include_colab_link": true
    },
    "kernelspec": {
      "name": "python3",
      "display_name": "Python 3"
    }
  },
  "cells": [
    {
      "cell_type": "markdown",
      "metadata": {
        "id": "view-in-github",
        "colab_type": "text"
      },
      "source": [
        "<a href=\"https://colab.research.google.com/github/ucfilho/optim_raianars/blob/master/ANN_parte_01_une_dados_set_10_2019.ipynb\" target=\"_parent\"><img src=\"https://colab.research.google.com/assets/colab-badge.svg\" alt=\"Open In Colab\"/></a>"
      ]
    },
    {
      "cell_type": "code",
      "metadata": {
        "id": "EA026iFrxh_I",
        "colab_type": "code",
        "colab": {}
      },
      "source": [
        "import pandas as pd"
      ],
      "execution_count": 0,
      "outputs": []
    },
    {
      "cell_type": "code",
      "metadata": {
        "id": "pFVbNPiTtZPk",
        "colab_type": "code",
        "colab": {}
      },
      "source": [
        "from zipfile import ZipFile"
      ],
      "execution_count": 0,
      "outputs": []
    },
    {
      "cell_type": "code",
      "metadata": {
        "id": "lhwPcvHmtiwF",
        "colab_type": "code",
        "outputId": "95994cb5-476c-40e6-a638-de01cbc4f57f",
        "colab": {
          "base_uri": "https://localhost:8080/",
          "height": 145
        }
      },
      "source": [
        "############################### Importar códigos\n",
        "\n",
        "!git clone https://github.com/ucfilho/optim_raianars/ #clonar do Github"
      ],
      "execution_count": 3,
      "outputs": [
        {
          "output_type": "stream",
          "text": [
            "Cloning into 'optim_raianars'...\n",
            "remote: Enumerating objects: 69, done.\u001b[K\n",
            "remote: Counting objects: 100% (69/69), done.\u001b[K\n",
            "remote: Compressing objects: 100% (69/69), done.\u001b[K\n",
            "remote: Total 375 (delta 41), reused 0 (delta 0), pack-reused 306\u001b[K\n",
            "Receiving objects: 100% (375/375), 349.21 KiB | 1.28 MiB/s, done.\n",
            "Resolving deltas: 100% (208/208), done.\n"
          ],
          "name": "stdout"
        }
      ]
    },
    {
      "cell_type": "code",
      "metadata": {
        "id": "nSGThSZJtoBl",
        "colab_type": "code",
        "outputId": "e4fadd49-1e0e-4b0a-aee8-fd8d25fff458",
        "colab": {
          "base_uri": "https://localhost:8080/",
          "height": 35
        }
      },
      "source": [
        "%cd optim_raianars\n",
        "#!ls"
      ],
      "execution_count": 4,
      "outputs": [
        {
          "output_type": "stream",
          "text": [
            "/content/optim_raianars\n"
          ],
          "name": "stdout"
        }
      ]
    },
    {
      "cell_type": "code",
      "metadata": {
        "id": "aLtH5IdKtSkT",
        "colab_type": "code",
        "colab": {}
      },
      "source": [
        "# specifying the zip file name \n",
        "file_name = 'Fun_2D_set_10_2019.zip'\n",
        "# Create a ZipFile Object and load sample.zip in it\n",
        "with ZipFile(file_name, 'r') as zipObj:\n",
        "   # Get list of files names in zip\n",
        "   listOfiles = zipObj.namelist()\n",
        "   # Iterate over the list of file names in given list & print them\n",
        "   Nomes=[]\n",
        "   for elem in listOfiles:\n",
        "       #print(elem)\n",
        "       Nomes.append(elem)\n",
        "#print(Nomes)\n"
      ],
      "execution_count": 0,
      "outputs": []
    },
    {
      "cell_type": "code",
      "metadata": {
        "id": "C0mPfOHOuiAD",
        "colab_type": "code",
        "colab": {}
      },
      "source": [
        "# opening the zip file in READ mode \n",
        "with ZipFile(file_name, 'r') as zip: \n",
        "    # printing all the contents of the zip file \n",
        "    #zip.printdir() \n",
        "  \n",
        "    # extracting all the files \n",
        "    #print('Extracting all the files now...') \n",
        "    zip.extractall()\n"
      ],
      "execution_count": 0,
      "outputs": []
    },
    {
      "cell_type": "code",
      "metadata": {
        "id": "DXcShEtuQBkM",
        "colab_type": "code",
        "colab": {}
      },
      "source": [
        "#X_NOME=['DIVERSIDADE (DI)',  'DI RELATIVO','FRAC Its','VELOC FOBJ',\n",
        "       #'VELOC X','DELTA FOBJ','DELTA VX']\n",
        "X_NOME=['DI RELATIVO','FRAC Its','VELOC FOBJ',\n",
        "        'VELOC X','DELTA FOBJ','DELTA VX']\n",
        "Y_NOME=['NP','F','CR']"
      ],
      "execution_count": 0,
      "outputs": []
    },
    {
      "cell_type": "code",
      "metadata": {
        "id": "xGH8VMZ33V2I",
        "colab_type": "code",
        "colab": {
          "base_uri": "https://localhost:8080/",
          "height": 401
        },
        "outputId": "bae3ca56-d353-4cdf-cf48-04eab5d80a60"
      },
      "source": [
        "X = pd.DataFrame(columns=[X_NOME])\n",
        "Y = pd.DataFrame(columns=[Y_NOME])\n",
        "df = pd.read_csv(Nomes[0])\n",
        "X=df[X_NOME]\n",
        "Y=df[Y_NOME]\n",
        "#print(X)\n",
        "Xi = pd.DataFrame(columns=[X_NOME])\n",
        "df = pd.read_csv(Nomes[1])\n",
        "Xi=df[X_NOME]\n",
        "X=X.append(Xi,ignore_index=True)\n",
        "print(X)"
      ],
      "execution_count": 8,
      "outputs": [
        {
          "output_type": "stream",
          "text": [
            "     DI RELATIVO  FRAC Its  VELOC FOBJ  VELOC X  DELTA FOBJ  DELTA VX\n",
            "0   2.016050e-01  0.111111         0.0      0.0         0.0       0.0\n",
            "1   1.328199e-01  0.166667         2.0      2.0         2.0       2.0\n",
            "2   1.032648e-01  0.294444         0.0      2.0        -2.0       0.0\n",
            "3   3.981691e-02  0.405556         1.0      2.0         1.0       0.0\n",
            "4   9.487582e-03  0.522222         2.0      2.0         1.0       0.0\n",
            "5   2.908284e-02  0.650000         0.0      0.0        -2.0      -2.0\n",
            "6   1.115496e-03  0.716667         2.0      1.0         2.0       1.0\n",
            "7   1.606859e-04  0.816667         2.0      2.0         0.0       1.0\n",
            "8   1.549150e-04  0.888889         0.0      0.0        -2.0      -2.0\n",
            "9   5.844840e-04  1.000000         2.0      0.0         2.0       0.0\n",
            "10  1.533884e+00  0.146667         0.0      0.0         0.0       0.0\n",
            "11  4.612833e-01  0.253333         2.0      2.0         2.0       2.0\n",
            "12  1.128510e-03  0.293333         2.0      2.0         0.0       0.0\n",
            "13  8.076574e-05  0.360000         2.0      0.0         0.0      -2.0\n",
            "14  2.581255e-05  0.486667         2.0      1.0         0.0       1.0\n",
            "15  3.271139e-06  0.546667         2.0      1.0         0.0       0.0\n",
            "16  2.042667e-06  0.693333         2.0      1.0         0.0       0.0\n",
            "17  2.823830e-07  0.800000         2.0      1.0         0.0       0.0\n",
            "18  5.078029e-08  0.886667         2.0      1.0         0.0       0.0\n",
            "19  7.932550e-09  1.000000         2.0      1.0         0.0       0.0\n"
          ],
          "name": "stdout"
        }
      ]
    },
    {
      "cell_type": "code",
      "metadata": {
        "id": "HprdWoyYTy5F",
        "colab_type": "code",
        "colab": {}
      },
      "source": [
        "Num=len(Nomes)\n",
        "X = pd.DataFrame(columns=[X_NOME])\n",
        "Y = pd.DataFrame(columns=[Y_NOME])\n",
        "#print(Num)\n",
        "df = pd.read_csv(Nomes[0])\n",
        "X=df[X_NOME]\n",
        "\n",
        "for i in range(1,Num):\n",
        "  df = pd.read_csv(Nomes[i])\n",
        "  Xi = pd.DataFrame(columns=[X_NOME])\n",
        "  Xi=df[X_NOME]\n",
        "  X=X.append(Xi,ignore_index=True)\n",
        "#print(X)\n"
      ],
      "execution_count": 0,
      "outputs": []
    },
    {
      "cell_type": "code",
      "metadata": {
        "id": "2pJ_Uio_cura",
        "colab_type": "code",
        "colab": {}
      },
      "source": [
        "Num=len(Nomes)\n",
        "Y = pd.DataFrame(columns=[Y_NOME])\n",
        "df = pd.read_csv(Nomes[0])\n",
        "Y=df[Y_NOME]\n",
        "\n",
        "for i in range(1,Num):\n",
        "  df = pd.read_csv(Nomes[i])\n",
        "  Yi = pd.DataFrame(columns=[Y_NOME])\n",
        "  Yi=df[Y_NOME]\n",
        "  Y=Y.append(Yi,ignore_index=True)\n",
        "#print(Y)"
      ],
      "execution_count": 0,
      "outputs": []
    },
    {
      "cell_type": "code",
      "metadata": {
        "id": "aNWRM7fPe5UO",
        "colab_type": "code",
        "colab": {}
      },
      "source": [
        ""
      ],
      "execution_count": 0,
      "outputs": []
    },
    {
      "cell_type": "code",
      "metadata": {
        "id": "xsedhvw6w-FX",
        "colab_type": "code",
        "outputId": "c76175b7-cbdb-4f01-f5f2-10c800862af2",
        "colab": {
          "base_uri": "https://localhost:8080/",
          "height": 55
        }
      },
      "source": [
        "#'''\n",
        "from google.colab import drive\n",
        "drive.mount('drive')\n",
        "#'''\n",
        "nome_X='X_DAT_set_11_2019.csv'\n",
        "nome_Y='Y_DAT_set_11_2019.csv'\n",
        "X.to_csv(nome_X)\n",
        "Y.to_csv(nome_Y)\n",
        "\n",
        "#!cp 2019-09-11_01h03min_DE_Schwefel_10.csv drive/My\\ Drive/imput_ANN/\n",
        "!cp 'X_DAT_set_11_2019.csv' drive/My\\ Drive/\n",
        "!cp 'Y_DAT_set_11_2019.csv' drive/My\\ Drive/\n",
        "#!cp nome_Y drive/My\\ Drive/"
      ],
      "execution_count": 15,
      "outputs": [
        {
          "output_type": "stream",
          "text": [
            "Drive already mounted at drive; to attempt to forcibly remount, call drive.mount(\"drive\", force_remount=True).\n"
          ],
          "name": "stdout"
        }
      ]
    }
  ]
}