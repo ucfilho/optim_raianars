{
  "nbformat": 4,
  "nbformat_minor": 0,
  "metadata": {
    "colab": {
      "name": "ABCOptim_jun_09_2019.ipynb",
      "version": "0.3.2",
      "provenance": [],
      "collapsed_sections": [],
      "include_colab_link": true
    },
    "kernelspec": {
      "display_name": "Python 3",
      "language": "python",
      "name": "python3"
    }
  },
  "cells": [
    {
      "cell_type": "markdown",
      "metadata": {
        "id": "view-in-github",
        "colab_type": "text"
      },
      "source": [
        "<a href=\"https://colab.research.google.com/github/ucfilho/optim_raianars/blob/master/ABCOptim_jun_09_2019.ipynb\" target=\"_parent\"><img src=\"https://colab.research.google.com/assets/colab-badge.svg\" alt=\"Open In Colab\"/></a>"
      ]
    },
    {
      "cell_type": "code",
      "metadata": {
        "id": "vfr-WJeoITG0",
        "colab_type": "code",
        "colab": {}
      },
      "source": [
        "import numpy as np\n",
        "from random import randint"
      ],
      "execution_count": 0,
      "outputs": []
    },
    {
      "cell_type": "code",
      "metadata": {
        "id": "XnZITlaYITG_",
        "colab_type": "code",
        "colab": {}
      },
      "source": [
        "'''Rosembrock Function'''\n",
        "def Fun(x):\n",
        "    fun=0\n",
        "    a=1.0\n",
        "    b=100.0\n",
        "    fun = (a-x[0])**2 + b*(x[1]-x[0]**2)**2\n",
        "    return fun"
      ],
      "execution_count": 0,
      "outputs": []
    },
    {
      "cell_type": "code",
      "metadata": {
        "id": "NGpJGJlFITHE",
        "colab_type": "code",
        "colab": {}
      },
      "source": [
        "''' \n",
        "FOBJ gera vetorialmente os valores com a funcao objetivo escalar\n",
        "em outras palavras gera para populacao o valor da funcao \n",
        "a ser otimizada\n",
        "'''\n",
        "def FOBJ(X):\n",
        "    rows = X.shape[0]\n",
        "    fobj=np.zeros(rows)\n",
        "    for i in range(rows):\n",
        "        fobj[i]=Fun(X[i,])\n",
        "    return fobj"
      ],
      "execution_count": 0,
      "outputs": []
    },
    {
      "cell_type": "code",
      "metadata": {
        "id": "ASnJC2jQITHJ",
        "colab_type": "code",
        "colab": {}
      },
      "source": [
        "'''Enxame retorna a populacao aleatoria com todos valores entre MIN e MAX'''\n",
        "def Enxame(PAR,NPAR,MAX,MIN):\n",
        "    x=np.zeros((NPAR, len(MAX)))\n",
        "    for j in range(len(MAX)):\n",
        "        for i in range(NPAR):\n",
        "            x[i,j]=MIN[j]+(MAX[j]-MIN[j])*np.random.random()\n",
        "    return x"
      ],
      "execution_count": 0,
      "outputs": []
    },
    {
      "cell_type": "code",
      "metadata": {
        "id": "De1_VBasITHP",
        "colab_type": "code",
        "colab": {}
      },
      "source": [
        "''' \n",
        "Fitness gera vetorialmente os valores com a funcao fitness\n",
        "equivale a quantidade de nectar da fonte\n",
        "'''\n",
        "def FIT(X):\n",
        "    rows = X.shape[0]\n",
        "    fit=np.zeros(rows)\n",
        "    fit=np.copy(FOBJ(X))\n",
        "    for i in range(rows):\n",
        "        if(fit[i]>=0):\n",
        "            fit[i]=1/(fit[i]+1)\n",
        "        else:\n",
        "            fit[i]=1+abs(fit[i])\n",
        "    return fit"
      ],
      "execution_count": 0,
      "outputs": []
    },
    {
      "cell_type": "code",
      "metadata": {
        "id": "__wpzpgoITHW",
        "colab_type": "code",
        "colab": {}
      },
      "source": [
        "'''\n",
        "probablilidade usada para roleta q atualizacao das onlookers \n",
        "semelhante ao genetico\n",
        "'''\n",
        "\n",
        "def PROB(x):\n",
        "    rows=x.shape[0]\n",
        "    fit=np.zeros(rows)\n",
        "    prob=np.zeros(rows)\n",
        "    fit=FIT(x)\n",
        "    fit_ref=max(fit)\n",
        "    \n",
        "    for i in range(rows):\n",
        "        prob[i] = 0.9*fit[i]/fit_ref+0.1\n",
        "\n",
        "    return prob"
      ],
      "execution_count": 0,
      "outputs": []
    },
    {
      "cell_type": "code",
      "metadata": {
        "id": "LilZnbFDITHb",
        "colab_type": "code",
        "colab": {}
      },
      "source": [
        "'''\n",
        "Obtem a melhor escolha greedy search\n",
        "'''\n",
        "def GetBest(x,xbest):\n",
        "    ycal=FOBJ(x)\n",
        "    best=np.argmin(ycal)\n",
        "    yref=Fun(xbest)\n",
        "    if(yref<ycal[best]):\n",
        "        GBEST=xbest\n",
        "    else:\n",
        "        GBEST=x[best,]\n",
        "    return GBEST\n",
        "    "
      ],
      "execution_count": 0,
      "outputs": []
    },
    {
      "cell_type": "code",
      "metadata": {
        "id": "LfCjSy3qITHg",
        "colab_type": "code",
        "colab": {}
      },
      "source": [
        "'''\n",
        "employed bee phase\n",
        "'''\n",
        "def EmployedBee(xo,x,MAX,MIN,trial) :\n",
        "    NPAR = xo.shape[0]\n",
        "    PAR= xo.shape[1]\n",
        "    V=np.zeros((NPAR, len(MAX)))\n",
        "\n",
        "    for j in range(PAR):\n",
        "        for i in range(NPAR):\n",
        "            fi=np.random.uniform(low=-1.0, high=1.0, size=None)\n",
        "            rd=randint(0, (NPAR-1))\n",
        "            V[i,j]=xo[i,j]+(xo[i,j] -x[rd,j])*fi # candidata a solucao\n",
        "            if (V[i,j]>MAX[j]):\n",
        "              V[i,j]=np.copy(MAX[j]) # restringe a busca para o intervalo\n",
        "            if (V[i,j]<MIN[j]):\n",
        "              V[i,j]=np.copy(MIN[j]) # restringe a busca para o intervalo\n",
        "              \n",
        "    YCAL=FOBJ(xo)\n",
        "    YV=FOBJ(V)\n",
        "    for i in range(NPAR):\n",
        "        if(YV[i]<YCAL[i]):\n",
        "          trial[i]=0\n",
        "          x[i,]=np.copy(V[i,])\n",
        "        else:\n",
        "          trial[i]=trial[i]+1\n",
        "            \n",
        "\n",
        "    return x,trial"
      ],
      "execution_count": 0,
      "outputs": []
    },
    {
      "cell_type": "code",
      "metadata": {
        "id": "1_KrhPKiITHl",
        "colab_type": "code",
        "colab": {}
      },
      "source": [
        "'''\n",
        "onlooker bee phase\n",
        "'''\n",
        "def OnlookerBee(xo,x,trial): #OnlookerBee(xo,x_Employed)\n",
        "    rows = xo.shape[0]\n",
        "    cols = xo.shape[1]\n",
        "    prob=PROB(x)\n",
        "    prob_ref=max(prob)\n",
        "    #best=np.argmax(prob)\n",
        "    \n",
        "    for i in range(rows):\n",
        "      prob_ref=np.random.uniform(low=0, high=1.0, size=None)\n",
        "      rd=randint(0, (NPAR-1))\n",
        "      if(prob[i] > prob_ref):  \n",
        "        fi=np.random.uniform(low=-1.0, high=1.0, size=None)\n",
        "        Xmi=xo[i,]+fi*(xo[i,]-x[rd,])\n",
        "        xo[i,]=np.copy(Xmi)\n",
        "        \n",
        "    YCAL=FOBJ(x)\n",
        "    YV=FOBJ(xo)\n",
        "        \n",
        "    for i in range(rows):\n",
        "      if(YV[i]<YCAL[i]):\n",
        "        trial[i]=0\n",
        "        x[i,]=np.copy(xo[i,])\n",
        "      else:\n",
        "        trial[i]=trial[i]+1\n",
        "    return xo,trial"
      ],
      "execution_count": 0,
      "outputs": []
    },
    {
      "cell_type": "code",
      "metadata": {
        "id": "LmniEp0fITHs",
        "colab_type": "code",
        "colab": {}
      },
      "source": [
        "'''\n",
        "scout bee phase\n",
        "'''\n",
        "#def ScoutBee(trial,x,ntrail,MAX,MIN):\n",
        "def ScoutBee(x,trial,MAX,MIN):\n",
        "    PAR = x.shape[0]\n",
        "    NPAR = x.shape[1]\n",
        "    for i in range(PAR):\n",
        "      if(trial[i]>= ntrail):\n",
        "        trial[i]=0\n",
        "        for j in range(NPAR):\n",
        "          x[i,j]=MIN[j]+(MAX[j]-MIN[j])*np.random.random()\n",
        "    return x,trial"
      ],
      "execution_count": 0,
      "outputs": []
    },
    {
      "cell_type": "code",
      "metadata": {
        "id": "vJcEYWtRITHy",
        "colab_type": "code",
        "colab": {}
      },
      "source": [
        "\n",
        "'''\n",
        "Metodo que alterna e coordena o uso employers,onlooker, scout bees\n",
        "e greedy search\n",
        "\n",
        "'''\n",
        "def ABCOPtim(ITE,PAR,ntrail,NPAR,MAX,MIN):\n",
        "\n",
        "    trial=np.zeros(NPAR) # inicializa contador p abandonar fonte de alimento\n",
        "    xbest=Enxame(PAR,1,MAX,MIN)[0,] #inicializa xbest\n",
        "    xo=Enxame(PAR,NPAR,MAX,MIN) # inicializa employed bee\n",
        "    xbest=GetBest(xo,xbest)\n",
        "    \n",
        "    for i in range(ITE):\n",
        "      x=Enxame(PAR,NPAR,MAX,MIN) # comparativo para employed bee\n",
        "      xo,trial=EmployedBee(xo,x,MAX,MIN,trial)\n",
        "      xbest=GetBest(x,xbest)\n",
        "      x=Enxame(PAR,NPAR,MAX,MIN)  # comparativo para OnlookerBee\n",
        "      xo,trial=OnlookerBee(xo,x,trial)\n",
        "      xbest=GetBest(xo,xbest)\n",
        "      xbest=GetBest(xo,xbest)\n",
        "      x=Enxame(PAR,NPAR,MAX,MIN) # comparativo para ScoutBee\n",
        "      xo,trial=ScoutBee(x,trial,MAX,MIN) #  ScoutBee ( a rigor so esta linha basta)\n",
        "      xbest=GetBest(xo,xbest)\n",
        "    \n",
        "    return xbest, x,trial  "
      ],
      "execution_count": 0,
      "outputs": []
    },
    {
      "cell_type": "code",
      "metadata": {
        "id": "P34n3mljITH2",
        "colab_type": "code",
        "outputId": "f885d413-eb0a-49a1-dccf-167ec152279f",
        "colab": {
          "base_uri": "https://localhost:8080/",
          "height": 399
        }
      },
      "source": [
        "NPAR=50 #PARTICULAS (fontes de comida)\n",
        "ITE=200 #ITERACOES\n",
        "\n",
        "PAR=2 #NUM DE PARAMETROS A SER OTIMIZADOS\n",
        "MAX=[2,2] # MAXIMO DE CADA PARAMETRO\n",
        "MIN=[-2,-2] # MINIMO DE CADA PARAMETRO\n",
        "ntrail=25 #numero de buscas ate abandonar uma fonte de alimento\n",
        "\n",
        "for i in range(6):\n",
        "    print(\"resolucao\",i+1,\" \")\n",
        "    xbest, x,trial =ABCOPtim(ITE,PAR,ntrail,NPAR,MAX,MIN)\n",
        "    print(\"vetor\",xbest,\"funcao\", Fun(xbest),\"\\n\")\n",
        "\n",
        "print(trial)\n",
        "\n",
        "    "
      ],
      "execution_count": 12,
      "outputs": [
        {
          "output_type": "stream",
          "text": [
            "resolucao 1  \n",
            "vetor [1.03095572 1.06188391] funcao 0.001055435043496575 \n",
            "\n",
            "resolucao 2  \n",
            "vetor [0.96700307 0.93049346] funcao 0.0032061515077622398 \n",
            "\n",
            "resolucao 3  \n",
            "vetor [1.00629451 1.00808142] funcao 0.002107342340076333 \n",
            "\n",
            "resolucao 4  \n",
            "vetor [0.97112832 0.94389324] funcao 0.0008980581702172197 \n",
            "\n",
            "resolucao 5  \n",
            "vetor [1.00703862 1.0213253 ] funcao 0.0052314045321638115 \n",
            "\n",
            "resolucao 6  \n",
            "vetor [0.99340069 0.98849901] funcao 0.00031714928482101754 \n",
            "\n",
            "[0. 2. 2. 3. 6. 0. 0. 0. 2. 0. 0. 2. 2. 2. 0. 0. 5. 1. 1. 0. 1. 1. 1. 2.\n",
            " 3. 0. 0. 0. 0. 0. 0. 4. 0. 1. 1. 2. 0. 0. 4. 0. 5. 0. 0. 0. 0. 0. 0. 0.\n",
            " 0. 0.]\n"
          ],
          "name": "stdout"
        }
      ]
    }
  ]
}