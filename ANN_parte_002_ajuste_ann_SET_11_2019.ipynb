{
  "nbformat": 4,
  "nbformat_minor": 0,
  "metadata": {
    "colab": {
      "name": "ANN_parte_002_ajuste_ann_SET_11_2019.ipynb",
      "version": "0.3.2",
      "provenance": [],
      "collapsed_sections": [],
      "include_colab_link": true
    },
    "kernelspec": {
      "name": "python3",
      "display_name": "Python 3"
    }
  },
  "cells": [
    {
      "cell_type": "markdown",
      "metadata": {
        "id": "view-in-github",
        "colab_type": "text"
      },
      "source": [
        "<a href=\"https://colab.research.google.com/github/ucfilho/optim_raianars/blob/master/ANN_parte_002_ajuste_ann_SET_11_2019.ipynb\" target=\"_parent\"><img src=\"https://colab.research.google.com/assets/colab-badge.svg\" alt=\"Open In Colab\"/></a>"
      ]
    },
    {
      "cell_type": "code",
      "metadata": {
        "id": "IJMhyBoEZHIU",
        "colab_type": "code",
        "outputId": "1f9ba800-343a-43da-801b-c413ea3fbc34",
        "colab": {
          "base_uri": "https://localhost:8080/",
          "height": 105
        }
      },
      "source": [
        "import numpy as np\n",
        "import pandas as pd\n",
        "import matplotlib.pyplot as plt\n",
        "\n",
        "\n",
        "# este comando clona o diretorio github ucfilho/ANN no colaboratory research\n",
        "!git clone https://github.com/ucfilho/optim_raianars/ #clonar do Github\n",
        "%cd optim_raianars\n",
        "#!ls\n",
        "print(\"Hello world\"+\"\\n\"+\"I'm evolving!!!\"+\"\\n\")\n",
        "\n",
        "%matplotlib inline"
      ],
      "execution_count": 1,
      "outputs": [
        {
          "output_type": "stream",
          "text": [
            "fatal: destination path 'optim_raianars' already exists and is not an empty directory.\n",
            "/content/optim_raianars\n",
            "Hello world\n",
            "I'm evolving!!!\n",
            "\n"
          ],
          "name": "stdout"
        }
      ]
    },
    {
      "cell_type": "code",
      "metadata": {
        "id": "a88ItYhkmXM3",
        "colab_type": "code",
        "colab": {}
      },
      "source": [
        "X_NOME=['DI RELATIVO','FRAC Its','VELOC FOBJ',\n",
        "        'VELOC X','DELTA FOBJ','DELTA VX']\n",
        "Y_NOME=['NP','F','CR']"
      ],
      "execution_count": 0,
      "outputs": []
    },
    {
      "cell_type": "code",
      "metadata": {
        "id": "R2giiZKZcnTD",
        "colab_type": "code",
        "colab": {}
      },
      "source": [
        "ARQ_X='X_DAT_set_11_2019.csv'\n",
        "X=pd.read_csv(ARQ_X)\n",
        "X=X[X_NOME]\n",
        "#print(X.head())"
      ],
      "execution_count": 0,
      "outputs": []
    },
    {
      "cell_type": "code",
      "metadata": {
        "id": "nhn-CwH7oNNV",
        "colab_type": "code",
        "colab": {}
      },
      "source": [
        "ARQ_Y='Y_DAT_set_11_2019.csv'\n",
        "\n",
        "Y=pd.read_csv(ARQ_Y)\n",
        "#Y=Y[Y_NOME[2]] ???\n",
        "Y=Y[Y_NOME]\n",
        "#print(Y.head())"
      ],
      "execution_count": 0,
      "outputs": []
    },
    {
      "cell_type": "code",
      "metadata": {
        "id": "qU7g5Gp2m4qH",
        "colab_type": "code",
        "colab": {}
      },
      "source": [
        "XX=X.loc[X['VELOC X']==X['VELOC X'],X_NOME].values\n",
        "y=Y.loc[Y['NP']==Y['NP'],['CR']].values"
      ],
      "execution_count": 0,
      "outputs": []
    },
    {
      "cell_type": "code",
      "metadata": {
        "id": "e0BbmlmvdhVx",
        "colab_type": "code",
        "colab": {}
      },
      "source": [
        "# sigmoid function\n",
        "def sigmoid(x,deriv=False):\n",
        "    if(deriv==True):\n",
        "        return x*(1-x)\n",
        "    return 1/(1+np.exp(-x))\n",
        "\n",
        "# purelin function\n",
        "def purelin(x,deriv=False):\n",
        "    if(deriv==True):\n",
        "        return 1\n",
        "    return x\n",
        "\n",
        "# normatize funcion\n",
        "def normatize(x,w):\n",
        "    strings=list(x)\n",
        "    for featur in strings:\n",
        "        max_feat=w[featur].max()\n",
        "        min_feat=w[featur].min()\n",
        "        x[featur]=(x[featur]-min_feat)/(max_feat-min_feat)\n",
        "    return x\n",
        "\n",
        "\n",
        "# normatize funcion\n",
        "def original(x,x_old):\n",
        "    strings=list(x)\n",
        "    x_old.columns = list(x)\n",
        "    for featur in strings:\n",
        "        max_feat=x_old[featur].max()\n",
        "        min_feat=x_old[featur].min()\n",
        "        x[featur]=x[featur]*(max_feat-min_feat)+min_feat\n",
        "    return x\n"
      ],
      "execution_count": 0,
      "outputs": []
    },
    {
      "cell_type": "code",
      "metadata": {
        "id": "GYU4EZAN6MRA",
        "colab_type": "code",
        "colab": {}
      },
      "source": [
        "#XXX = X.sample(frac =.7,random_state = 2)  \n",
        "#YY = Y.sample(frac =.7,random_state = 2)  \n",
        "#print(XXX.head())\n",
        "#print(YY.head())\n",
        "#X_test = X.loc[~X.index.isin(XXX.index), :]\n",
        "#print(X_test)"
      ],
      "execution_count": 0,
      "outputs": []
    },
    {
      "cell_type": "code",
      "metadata": {
        "id": "0hmz3XcmYGSN",
        "colab_type": "code",
        "colab": {}
      },
      "source": [
        "X_train= X.sample(frac =.7,random_state = 2)  \n",
        "Y_train= Y.sample(frac =.7,random_state = 2)\n",
        "X_test = X.loc[~X.index.isin(X_train.index), :]\n",
        "Y_test = Y.loc[~Y.index.isin(Y_train.index), :]  \n",
        "#print(XXX.head())\n",
        "#print(YY.head())\n",
        "y_old=Y_train.loc[Y_train['NP']==Y_train['NP'],['CR']].values\n",
        "#y_total=Y.loc[Y['NP']==Y['NP'],['CR']].values\n",
        "y_total=Y['CR']\n",
        "y_total=pd.DataFrame(y_total)\n",
        "y_total.columns = [\"y_old\"]\n",
        "#print(y_total)"
      ],
      "execution_count": 0,
      "outputs": []
    },
    {
      "cell_type": "code",
      "metadata": {
        "id": "8M0trzQinA0m",
        "colab_type": "code",
        "colab": {}
      },
      "source": [
        "#print(len(y_old))\n",
        "#print(Y_test['CR'])"
      ],
      "execution_count": 0,
      "outputs": []
    },
    {
      "cell_type": "code",
      "metadata": {
        "id": "bUuQEko_dpF2",
        "colab_type": "code",
        "colab": {}
      },
      "source": [
        "# input dataset\n",
        "#Neuron_input=3\n",
        "Neuron_input=len(X_NOME)\n",
        "Neuron_hidden=5\n",
        "Neuron_output=1\n",
        "Learning_rate=0.01\n",
        "omega=0.9\n",
        "Epoch=500000"
      ],
      "execution_count": 0,
      "outputs": []
    },
    {
      "cell_type": "code",
      "metadata": {
        "id": "5X0BYxxIdwGp",
        "colab_type": "code",
        "colab": {}
      },
      "source": [
        "\n",
        "#y_old=DAT['TC1']\n",
        "#DAT=normatize(DAT)\n",
        "Y_train=normatize(Y_train,Y)\n",
        "X_train=normatize(X_train,X)\n",
        "#print(X.head())"
      ],
      "execution_count": 0,
      "outputs": []
    },
    {
      "cell_type": "code",
      "metadata": {
        "id": "ww1KvVqReAhK",
        "colab_type": "code",
        "outputId": "27ae566f-623b-4298-8e4a-d6f93c9f80a3",
        "colab": {
          "base_uri": "https://localhost:8080/",
          "height": 1000
        }
      },
      "source": [
        "\n",
        "\n",
        "#X=DAT.loc[DAT['Speed']==DAT['Speed'],['Speed','Feed','Hard']].values\n",
        "#y=DAT.loc[DAT['Speed']==DAT['Speed'],['TC1']].values\n",
        "X_train=X_train.loc[X_train['VELOC X']==X_train['VELOC X'],X_NOME].values\n",
        "y=Y_train.loc[Y_train['NP']==Y_train['NP'],['CR']].values\n",
        "#X=XX\n",
        "#np.random.seed(1)\n",
        "\n",
        "# randomly initialize our weights with mean 0\n",
        "syn0 = 2*np.random.random((Neuron_input,Neuron_hidden)) - 1\n",
        "syn1 = 2*np.random.random((Neuron_hidden,Neuron_output)) - 1\n",
        "\n",
        "\n",
        "for j in range(Epoch):\n",
        "\n",
        "    # Feed forward through layers 0, 1, and 2\n",
        "    l0 = X_train\n",
        "    l1 = sigmoid(np.dot(l0,syn0))\n",
        "    l2 = purelin(np.dot(l1,syn1))\n",
        "\n",
        "    # how much did we miss the target value?\n",
        "    l2_error = y - l2\n",
        "\n",
        "    if (j% 2000) == 0:\n",
        "        print(\"Epoch %d\"%(j) +\" error:\" + str(np.mean(np.abs(l2_error))))\n",
        "\n",
        "    # in what direction is the target value?\n",
        "    # were we really sure? if so, don't change too much.\n",
        "    l2_delta = l2_error*purelin(l2,deriv=True)\n",
        "    l1_error = l2_delta.dot(syn1.T)\n",
        "    l1_delta = l1_error * sigmoid(l1,deriv=True)\n",
        "\n",
        "    syn1 += l1.T.dot(l2_delta)*Learning_rate\n",
        "    syn0 += l0.T.dot(l1_delta)*Learning_rate\n",
        "\n",
        "#'''\n",
        "#DAT=pd.read_csv(Arquivo,sep='\\t')\n",
        "y_obs=y_old\n",
        "y_calc=np.reshape(l2,len(l2))\n",
        "y_calc=pd.DataFrame({'y_calc':y_calc})\n",
        "#y_old=pd.DataFrame({'y_old':y_old})\n",
        "y_old=pd.DataFrame(y_old)\n",
        "y_old.columns = [\"y_old\"]\n",
        "y_calc=original(y_calc,y_total)\n",
        "\n",
        "\n",
        "plt.scatter(y_obs,y_calc)\n",
        "plt.xlabel(\"True CR\")\n",
        "plt.ylabel(\"Estimated CR\")\n",
        "plt.xlim((0,1))\n",
        "plt.ylim((0,1))\n",
        "plt.show()\n",
        "#'''"
      ],
      "execution_count": 12,
      "outputs": [
        {
          "output_type": "stream",
          "text": [
            "Epoch 0 error:0.33175727937171784\n",
            "Epoch 2000 error:0.1880338838284976\n",
            "Epoch 4000 error:0.1765712794337788\n",
            "Epoch 6000 error:0.17047640082252746\n",
            "Epoch 8000 error:0.16375812746289886\n",
            "Epoch 10000 error:0.1553149159629279\n",
            "Epoch 12000 error:0.1432128653836003\n",
            "Epoch 14000 error:0.13194561723894505\n",
            "Epoch 16000 error:0.12244268927761753\n",
            "Epoch 18000 error:0.11436456246761775\n",
            "Epoch 20000 error:0.10749911042348562\n",
            "Epoch 22000 error:0.10169939735866694\n",
            "Epoch 24000 error:0.09751298840417993\n",
            "Epoch 26000 error:0.09299188839695867\n",
            "Epoch 28000 error:0.08853877860571502\n",
            "Epoch 30000 error:0.08427939708881199\n",
            "Epoch 32000 error:0.08024508054146369\n",
            "Epoch 34000 error:0.07642882881456345\n",
            "Epoch 36000 error:0.0738280082094126\n",
            "Epoch 38000 error:0.0717290626130364\n",
            "Epoch 40000 error:0.06968177311192725\n",
            "Epoch 42000 error:0.06777801700212284\n",
            "Epoch 44000 error:0.06591895308568889\n",
            "Epoch 46000 error:0.06415094897251897\n",
            "Epoch 48000 error:0.062450004778245284\n",
            "Epoch 50000 error:0.06076559952164609\n",
            "Epoch 52000 error:0.059111372300226755\n",
            "Epoch 54000 error:0.057500247660880556\n",
            "Epoch 56000 error:0.05594288200019623\n",
            "Epoch 58000 error:0.05485758715462897\n",
            "Epoch 60000 error:0.05374514903778157\n",
            "Epoch 62000 error:0.09246224742330575\n",
            "Epoch 64000 error:0.06140812838989827\n",
            "Epoch 66000 error:0.06424964088936454\n",
            "Epoch 68000 error:0.06550912439806429\n",
            "Epoch 70000 error:0.06297158434205687\n",
            "Epoch 72000 error:0.060574284032969015\n",
            "Epoch 74000 error:0.059191390922478805\n",
            "Epoch 76000 error:0.058388767344874436\n",
            "Epoch 78000 error:0.05778598322946611\n",
            "Epoch 80000 error:0.057204161610001365\n",
            "Epoch 82000 error:0.056586395789857524\n",
            "Epoch 84000 error:0.055924125061768935\n",
            "Epoch 86000 error:0.05522117039267598\n",
            "Epoch 88000 error:0.05448263643867822\n",
            "Epoch 90000 error:0.05371371189086722\n",
            "Epoch 92000 error:0.052920534080801857\n",
            "Epoch 94000 error:0.05211048385587927\n",
            "Epoch 96000 error:0.0513705555659088\n",
            "Epoch 98000 error:0.05063453792502046\n"
          ],
          "name": "stdout"
        },
        {
          "output_type": "display_data",
          "data": {
            "image/png": "[encoded data removed]",
            "text/plain": [
              "<Figure size 432x288 with 1 Axes>"
            ]
          },
          "metadata": {
            "tags": []
          }
        }
      ]
    },
    {
      "cell_type": "code",
      "metadata": {
        "id": "iBeG0xf6zX4C",
        "colab_type": "code",
        "colab": {}
      },
      "source": [
        "#print(y_old)\n",
        "X_test=X_test.loc[X_test['VELOC X']==X_test['VELOC X'],X_NOME].values\n",
        "y_calc=np.reshape(l2,len(l2))\n",
        "y_calc=pd.DataFrame({'y_calc':y_calc})\n",
        "\n",
        "#print(y_calc)\n",
        "#print(y_old)\n",
        "#print(l2)\n",
        "#print(np.reshape(l2,len(l2)))"
      ],
      "execution_count": 0,
      "outputs": []
    },
    {
      "cell_type": "code",
      "metadata": {
        "id": "BIqKuGl_eznL",
        "colab_type": "code",
        "colab": {}
      },
      "source": [
        "#print(l0)"
      ],
      "execution_count": 0,
      "outputs": []
    },
    {
      "cell_type": "code",
      "metadata": {
        "id": "XtiFF_neaqhd",
        "colab_type": "code",
        "colab": {}
      },
      "source": [
        "\n",
        "#print(X_test)\n",
        "l0 = X_test\n",
        "l1 = sigmoid(np.dot(l0,syn0))\n",
        "l2 = purelin(np.dot(l1,syn1))"
      ],
      "execution_count": 0,
      "outputs": []
    },
    {
      "cell_type": "code",
      "metadata": {
        "id": "jFSzAzDSd4qW",
        "colab_type": "code",
        "colab": {}
      },
      "source": [
        "y_old=pd.DataFrame(y_old)\n",
        "y_old.columns = [\"y_old\"]\n",
        "#print(y_old)"
      ],
      "execution_count": 0,
      "outputs": []
    },
    {
      "cell_type": "code",
      "metadata": {
        "id": "aJsdWLHmbg9f",
        "colab_type": "code",
        "colab": {}
      },
      "source": [
        "y_calc_test=np.reshape(l2,len(l2))\n",
        "y_calc_test=pd.DataFrame({'y_calc_test':y_calc_test})\n",
        "#y_old=pd.DataFrame(y_old)\n",
        "#y_old.columns = [\"y_old\"]"
      ],
      "execution_count": 0,
      "outputs": []
    },
    {
      "cell_type": "code",
      "metadata": {
        "id": "_ZglbRD3l4Lm",
        "colab_type": "code",
        "colab": {
          "base_uri": "https://localhost:8080/",
          "height": 298
        },
        "outputId": "cc65465a-deb6-4d2f-c65a-cda6ea401d15"
      },
      "source": [
        "print(y_calc_test)"
      ],
      "execution_count": 18,
      "outputs": [
        {
          "output_type": "stream",
          "text": [
            "    y_calc_test\n",
            "0      1.765674\n",
            "1     -0.775916\n",
            "2     -0.756216\n",
            "3      2.221216\n",
            "4      1.326079\n",
            "5     -2.509762\n",
            "6      3.323889\n",
            "7      3.976330\n",
            "8      2.421516\n",
            "9      1.391272\n",
            "10     0.979994\n",
            "11     3.080295\n",
            "12     2.589089\n",
            "13     0.411470\n",
            "14    -0.391806\n"
          ],
          "name": "stdout"
        }
      ]
    },
    {
      "cell_type": "code",
      "metadata": {
        "id": "8MlsBAXMkV3c",
        "colab_type": "code",
        "colab": {
          "base_uri": "https://localhost:8080/",
          "height": 283
        },
        "outputId": "d9087c3b-b193-43d0-ba13-61f4c63e9b8a"
      },
      "source": [
        "plt.scatter(y_obs,y_calc)\n",
        "plt.scatter(Y_test['CR'],y_calc_test,color='r')\n",
        "plt.xlabel(\"True CR\")\n",
        "plt.ylabel(\"Estimated CR\")\n",
        "plt.xlim((-2,3))\n",
        "plt.ylim((-2,3))\n",
        "plt.show()"
      ],
      "execution_count": 19,
      "outputs": [
        {
          "output_type": "display_data",
          "data": {
            "image/png": "[encoded data removed]",
            "text/plain": [
              "<Figure size 432x288 with 1 Axes>"
            ]
          },
          "metadata": {
            "tags": []
          }
        }
      ]
    },
    {
      "cell_type": "code",
      "metadata": {
        "id": "zSDahcbse6iM",
        "colab_type": "code",
        "colab": {}
      },
      "source": [
        "#print(l1)"
      ],
      "execution_count": 0,
      "outputs": []
    },
    {
      "cell_type": "code",
      "metadata": {
        "id": "PWQX20WRe-d_",
        "colab_type": "code",
        "colab": {}
      },
      "source": [
        "#print(l2)"
      ],
      "execution_count": 0,
      "outputs": []
    }
  ]
}